{
 "cells": [
  {
   "cell_type": "code",
   "execution_count": 1,
   "metadata": {},
   "outputs": [
    {
     "data": {
      "text/html": [
       "<div>\n",
       "<style scoped>\n",
       "    .dataframe tbody tr th:only-of-type {\n",
       "        vertical-align: middle;\n",
       "    }\n",
       "\n",
       "    .dataframe tbody tr th {\n",
       "        vertical-align: top;\n",
       "    }\n",
       "\n",
       "    .dataframe thead th {\n",
       "        text-align: right;\n",
       "    }\n",
       "</style>\n",
       "<table border=\"1\" class=\"dataframe\">\n",
       "  <thead>\n",
       "    <tr style=\"text-align: right;\">\n",
       "      <th></th>\n",
       "      <th>product</th>\n",
       "      <th>ingredients</th>\n",
       "      <th>알레르기 유발 주의성분</th>\n",
       "      <th>20가지 주의성분</th>\n",
       "      <th>bad_ingredients</th>\n",
       "    </tr>\n",
       "  </thead>\n",
       "  <tbody>\n",
       "    <tr>\n",
       "      <th>0</th>\n",
       "      <td>TS BD샴푸</td>\n",
       "      <td>'정제수', '다이소듐라우레스설포석시네이트', '라우릴글루코사이드', '코카마이드메...</td>\n",
       "      <td>NaN</td>\n",
       "      <td>페녹시에탄올</td>\n",
       "      <td>페녹시에탄올</td>\n",
       "    </tr>\n",
       "    <tr>\n",
       "      <th>1</th>\n",
       "      <td>TS 프리미엄 샴푸</td>\n",
       "      <td>'정제수', '소듐라우레스설페이트', '소듐라우릴설페이트', '어성초추출물', '코...</td>\n",
       "      <td>NaN</td>\n",
       "      <td>소듐라우레스설페이트</td>\n",
       "      <td>소듐라우레스설페이트</td>\n",
       "    </tr>\n",
       "    <tr>\n",
       "      <th>2</th>\n",
       "      <td>닥터그루트 손상모발용 샴푸</td>\n",
       "      <td>덱스판테놀', '니코틴산아미드', '살리실산', '폴리옥시에틸렌경화피마자유', '폴...</td>\n",
       "      <td>NaN</td>\n",
       "      <td>NaN</td>\n",
       "      <td>NaN</td>\n",
       "    </tr>\n",
       "    <tr>\n",
       "      <th>3</th>\n",
       "      <td>닥터그루트 지성두피용 샴푸</td>\n",
       "      <td>덱스판테놀', '니코틴산아미드', '살리실산', '시트르산', '식초', '폴리옥시...</td>\n",
       "      <td>NaN</td>\n",
       "      <td>NaN</td>\n",
       "      <td>NaN</td>\n",
       "    </tr>\n",
       "    <tr>\n",
       "      <th>4</th>\n",
       "      <td>닥터그루트 힘없는모발 샴푸</td>\n",
       "      <td>정제수, 디소듐라우레스설포석시네이트, 라우릴하이드록시설테인, 글리세린, 코카마이드메...</td>\n",
       "      <td>NaN</td>\n",
       "      <td>NaN</td>\n",
       "      <td>NaN</td>\n",
       "    </tr>\n",
       "  </tbody>\n",
       "</table>\n",
       "</div>"
      ],
      "text/plain": [
       "           product                                        ingredients  \\\n",
       "0          TS BD샴푸  '정제수', '다이소듐라우레스설포석시네이트', '라우릴글루코사이드', '코카마이드메...   \n",
       "1      TS 프리미엄 샴푸   '정제수', '소듐라우레스설페이트', '소듐라우릴설페이트', '어성초추출물', '코...   \n",
       "2  닥터그루트 손상모발용 샴푸   덱스판테놀', '니코틴산아미드', '살리실산', '폴리옥시에틸렌경화피마자유', '폴...   \n",
       "3  닥터그루트 지성두피용 샴푸   덱스판테놀', '니코틴산아미드', '살리실산', '시트르산', '식초', '폴리옥시...   \n",
       "4  닥터그루트 힘없는모발 샴푸   정제수, 디소듐라우레스설포석시네이트, 라우릴하이드록시설테인, 글리세린, 코카마이드메...   \n",
       "\n",
       "  알레르기 유발 주의성분   20가지 주의성분 bad_ingredients  \n",
       "0          NaN      페녹시에탄올          페녹시에탄올  \n",
       "1          NaN  소듐라우레스설페이트      소듐라우레스설페이트  \n",
       "2          NaN         NaN             NaN  \n",
       "3          NaN         NaN             NaN  \n",
       "4          NaN         NaN             NaN  "
      ]
     },
     "execution_count": 1,
     "metadata": {},
     "output_type": "execute_result"
    }
   ],
   "source": [
    "import pandas as pd \n",
    "\n",
    "data = pd.read_excel('Ingredients_real_final ver02_1122.xlsx')\n",
    "data.drop(['Unnamed: 0'],axis=1,inplace=True)\n",
    "data.head()"
   ]
  },
  {
   "cell_type": "code",
   "execution_count": 2,
   "metadata": {},
   "outputs": [],
   "source": [
    "data.drop(['알레르기 유발 주의성분','20가지 주의성분','bad_ingredients'],axis=1,inplace=True)"
   ]
  },
  {
   "cell_type": "code",
   "execution_count": 3,
   "metadata": {},
   "outputs": [
    {
     "name": "stdout",
     "output_type": "stream",
     "text": [
      "<class 'pandas.core.frame.DataFrame'>\n",
      "RangeIndex: 115 entries, 0 to 114\n",
      "Data columns (total 2 columns):\n",
      "product        115 non-null object\n",
      "ingredients    115 non-null object\n",
      "dtypes: object(2)\n",
      "memory usage: 1.9+ KB\n"
     ]
    }
   ],
   "source": [
    "data.info()"
   ]
  },
  {
   "cell_type": "code",
   "execution_count": 4,
   "metadata": {},
   "outputs": [],
   "source": [
    "import copy \n",
    "data2 = copy.deepcopy(data)"
   ]
  },
  {
   "cell_type": "code",
   "execution_count": 5,
   "metadata": {},
   "outputs": [
    {
     "data": {
      "text/plain": [
       "\"'정제수', '다이소듐라우레스설포석시네이트', '라우릴글루코사이드', '코카마이드메틸엠이에이', '코카미도프로필베타인', '부틸렌글라이콜', '소듐라우로일메틸이세티오네이트', '글리세린', '폴리쿼터늄-10', '다이포타슘글리시리제이트', '주아나무껍질추출물', '토코페릴아세테이트', '멘톨', '1', '2-헥산다이올', '카프릴릴글라이콜', '클림바졸', '구아하이드록시프로필트라이모늄클로라이드', '보스웰리아수지추출물', '솔비탄카프릴레이트', '녹차추출물', '약모밀추출물', '병풀잎추출물', '소엽잎추출물', '미역추출물', '쑥추출물', '판테놀', '포타슘코코일글리시네이트', '프로필렌글라이콜', '쿼터늄-80', '폴리쿼터늄-68\\\\n폴리쿼터늄-7', '라벤더오일', '소듐클로라이드', '트라이소듐에틸렌다이아민다이석시네이트', '프로판다이올', '오렌지껍질오일', '베르가모트오일', '살리실릭애씨드', '동백나무씨오일', '에틸헥실글리세린', '다이소듐이디티에이', '카프릴하이드록사믹애씨드', '시트릭애씨드', '소듐벤조에이트', '페녹시에탄올'\""
      ]
     },
     "execution_count": 5,
     "metadata": {},
     "output_type": "execute_result"
    }
   ],
   "source": [
    "data['ingredients'][0]"
   ]
  },
  {
   "cell_type": "code",
   "execution_count": 6,
   "metadata": {},
   "outputs": [],
   "source": [
    "import re\n",
    " \n",
    "def cleanText(readData):\n",
    "    #텍스트에 포함되어 있는 특수 문자 제거 \n",
    "    text = re.sub('[-=+,#/\\?:^$.@*\\\"※~&%ㆍ!』\\\\‘|\\(\\)\\[\\]\\<\\>`\\'…》]', '', readData)\n",
    "    return text"
   ]
  },
  {
   "cell_type": "code",
   "execution_count": 7,
   "metadata": {},
   "outputs": [
    {
     "data": {
      "text/plain": [
       "'정제수 다이소듐라우레스설포석시네이트 라우릴글루코사이드 코카마이드메틸엠이에이 코카미도프로필베타인 부틸렌글라이콜 소듐라우로일메틸이세티오네이트 글리세린 폴리쿼터늄10 다이포타슘글리시리제이트 주아나무껍질추출물 토코페릴아세테이트 멘톨 1 2헥산다이올 카프릴릴글라이콜 클림바졸 구아하이드록시프로필트라이모늄클로라이드 보스웰리아수지추출물 솔비탄카프릴레이트 녹차추출물 약모밀추출물 병풀잎추출물 소엽잎추출물 미역추출물 쑥추출물 판테놀 포타슘코코일글리시네이트 프로필렌글라이콜 쿼터늄80 폴리쿼터늄68\\\\n폴리쿼터늄7 라벤더오일 소듐클로라이드 트라이소듐에틸렌다이아민다이석시네이트 프로판다이올 오렌지껍질오일 베르가모트오일 살리실릭애씨드 동백나무씨오일 에틸헥실글리세린 다이소듐이디티에이 카프릴하이드록사믹애씨드 시트릭애씨드 소듐벤조에이트 페녹시에탄올'"
      ]
     },
     "execution_count": 7,
     "metadata": {},
     "output_type": "execute_result"
    }
   ],
   "source": [
    "sample = data['ingredients'][0]\n",
    "cleanText(sample)"
   ]
  },
  {
   "cell_type": "code",
   "execution_count": 8,
   "metadata": {},
   "outputs": [],
   "source": [
    "num = 0\n",
    "for ingredients in data2['ingredients']:\n",
    "    data['ingredients'][num] = cleanText(ingredients)\n",
    "    num += 1"
   ]
  },
  {
   "cell_type": "code",
   "execution_count": 9,
   "metadata": {},
   "outputs": [
    {
     "data": {
      "text/html": [
       "<div>\n",
       "<style scoped>\n",
       "    .dataframe tbody tr th:only-of-type {\n",
       "        vertical-align: middle;\n",
       "    }\n",
       "\n",
       "    .dataframe tbody tr th {\n",
       "        vertical-align: top;\n",
       "    }\n",
       "\n",
       "    .dataframe thead th {\n",
       "        text-align: right;\n",
       "    }\n",
       "</style>\n",
       "<table border=\"1\" class=\"dataframe\">\n",
       "  <thead>\n",
       "    <tr style=\"text-align: right;\">\n",
       "      <th></th>\n",
       "      <th>product</th>\n",
       "      <th>ingredients</th>\n",
       "    </tr>\n",
       "  </thead>\n",
       "  <tbody>\n",
       "    <tr>\n",
       "      <th>0</th>\n",
       "      <td>TS BD샴푸</td>\n",
       "      <td>정제수 다이소듐라우레스설포석시네이트 라우릴글루코사이드 코카마이드메틸엠이에이 코카미도...</td>\n",
       "    </tr>\n",
       "    <tr>\n",
       "      <th>1</th>\n",
       "      <td>TS 프리미엄 샴푸</td>\n",
       "      <td>정제수 소듐라우레스설페이트 소듐라우릴설페이트 어성초추출물 코카마이드디이에이 \\n코카...</td>\n",
       "    </tr>\n",
       "    <tr>\n",
       "      <th>2</th>\n",
       "      <td>닥터그루트 손상모발용 샴푸</td>\n",
       "      <td>덱스판테놀 니코틴산아미드 살리실산 폴리옥시에틸렌경화피마자유 폴리옥시에틸렌펜타에리스리...</td>\n",
       "    </tr>\n",
       "    <tr>\n",
       "      <th>3</th>\n",
       "      <td>닥터그루트 지성두피용 샴푸</td>\n",
       "      <td>덱스판테놀 니코틴산아미드 살리실산 시트르산 식초 폴리옥시에틸렌경화피마자유 폴리옥시에...</td>\n",
       "    </tr>\n",
       "    <tr>\n",
       "      <th>4</th>\n",
       "      <td>닥터그루트 힘없는모발 샴푸</td>\n",
       "      <td>정제수 디소듐라우레스설포석시네이트 라우릴하이드록시설테인 글리세린 코카마이드메칠엠이에...</td>\n",
       "    </tr>\n",
       "  </tbody>\n",
       "</table>\n",
       "</div>"
      ],
      "text/plain": [
       "           product                                        ingredients\n",
       "0          TS BD샴푸  정제수 다이소듐라우레스설포석시네이트 라우릴글루코사이드 코카마이드메틸엠이에이 코카미도...\n",
       "1      TS 프리미엄 샴푸   정제수 소듐라우레스설페이트 소듐라우릴설페이트 어성초추출물 코카마이드디이에이 \\n코카...\n",
       "2  닥터그루트 손상모발용 샴푸   덱스판테놀 니코틴산아미드 살리실산 폴리옥시에틸렌경화피마자유 폴리옥시에틸렌펜타에리스리...\n",
       "3  닥터그루트 지성두피용 샴푸   덱스판테놀 니코틴산아미드 살리실산 시트르산 식초 폴리옥시에틸렌경화피마자유 폴리옥시에...\n",
       "4  닥터그루트 힘없는모발 샴푸   정제수 디소듐라우레스설포석시네이트 라우릴하이드록시설테인 글리세린 코카마이드메칠엠이에..."
      ]
     },
     "execution_count": 9,
     "metadata": {},
     "output_type": "execute_result"
    }
   ],
   "source": [
    "data.head()"
   ]
  },
  {
   "cell_type": "code",
   "execution_count": 10,
   "metadata": {},
   "outputs": [
    {
     "data": {
      "text/plain": [
       "(115, 2)"
      ]
     },
     "execution_count": 10,
     "metadata": {},
     "output_type": "execute_result"
    }
   ],
   "source": [
    "data.shape"
   ]
  },
  {
   "cell_type": "code",
   "execution_count": 11,
   "metadata": {},
   "outputs": [
    {
     "data": {
      "text/html": [
       "<div>\n",
       "<style scoped>\n",
       "    .dataframe tbody tr th:only-of-type {\n",
       "        vertical-align: middle;\n",
       "    }\n",
       "\n",
       "    .dataframe tbody tr th {\n",
       "        vertical-align: top;\n",
       "    }\n",
       "\n",
       "    .dataframe thead th {\n",
       "        text-align: right;\n",
       "    }\n",
       "</style>\n",
       "<table border=\"1\" class=\"dataframe\">\n",
       "  <thead>\n",
       "    <tr style=\"text-align: right;\">\n",
       "      <th></th>\n",
       "      <th>product</th>\n",
       "      <th>ingredients</th>\n",
       "    </tr>\n",
       "  </thead>\n",
       "  <tbody>\n",
       "    <tr>\n",
       "      <th>0</th>\n",
       "      <td>TS BD샴푸</td>\n",
       "      <td>정제수 다이소듐라우레스설포석시네이트 라우릴글루코사이드 코카마이드메틸엠이에이 코카미도...</td>\n",
       "    </tr>\n",
       "    <tr>\n",
       "      <th>1</th>\n",
       "      <td>TS 프리미엄 샴푸</td>\n",
       "      <td>정제수 소듐라우레스설페이트 소듐라우릴설페이트 어성초추출물 코카마이드디이에이 \\n코카...</td>\n",
       "    </tr>\n",
       "    <tr>\n",
       "      <th>2</th>\n",
       "      <td>닥터그루트 손상모발용 샴푸</td>\n",
       "      <td>덱스판테놀 니코틴산아미드 살리실산 폴리옥시에틸렌경화피마자유 폴리옥시에틸렌펜타에리스리...</td>\n",
       "    </tr>\n",
       "    <tr>\n",
       "      <th>3</th>\n",
       "      <td>닥터그루트 지성두피용 샴푸</td>\n",
       "      <td>덱스판테놀 니코틴산아미드 살리실산 시트르산 식초 폴리옥시에틸렌경화피마자유 폴리옥시에...</td>\n",
       "    </tr>\n",
       "    <tr>\n",
       "      <th>4</th>\n",
       "      <td>닥터그루트 힘없는모발 샴푸</td>\n",
       "      <td>정제수 디소듐라우레스설포석시네이트 라우릴하이드록시설테인 글리세린 코카마이드메칠엠이에...</td>\n",
       "    </tr>\n",
       "  </tbody>\n",
       "</table>\n",
       "</div>"
      ],
      "text/plain": [
       "           product                                        ingredients\n",
       "0          TS BD샴푸  정제수 다이소듐라우레스설포석시네이트 라우릴글루코사이드 코카마이드메틸엠이에이 코카미도...\n",
       "1      TS 프리미엄 샴푸   정제수 소듐라우레스설페이트 소듐라우릴설페이트 어성초추출물 코카마이드디이에이 \\n코카...\n",
       "2  닥터그루트 손상모발용 샴푸   덱스판테놀 니코틴산아미드 살리실산 폴리옥시에틸렌경화피마자유 폴리옥시에틸렌펜타에리스리...\n",
       "3  닥터그루트 지성두피용 샴푸   덱스판테놀 니코틴산아미드 살리실산 시트르산 식초 폴리옥시에틸렌경화피마자유 폴리옥시에...\n",
       "4  닥터그루트 힘없는모발 샴푸   정제수 디소듐라우레스설포석시네이트 라우릴하이드록시설테인 글리세린 코카마이드메칠엠이에..."
      ]
     },
     "execution_count": 11,
     "metadata": {},
     "output_type": "execute_result"
    }
   ],
   "source": [
    "data.head()"
   ]
  },
  {
   "cell_type": "code",
   "execution_count": 12,
   "metadata": {},
   "outputs": [
    {
     "name": "stdout",
     "output_type": "stream",
     "text": [
      "(115, 3378)\n"
     ]
    }
   ],
   "source": [
    "from sklearn.feature_extraction.text import CountVectorizer\n",
    "\n",
    "# CountVectorizer를 적용하기 위해 공백문자로 word 단위가 구분되는 문자열로 변환. \n",
    "#data['ingredients_literal'] = data['ingredients'].apply(lambda x : (' ').join(x))\n",
    "count_vect = CountVectorizer(min_df=0, ngram_range=(1,2))\n",
    "ingredient_mat = count_vect.fit_transform(data['ingredients'])\n",
    "print(ingredient_mat.shape)"
   ]
  },
  {
   "cell_type": "code",
   "execution_count": 13,
   "metadata": {},
   "outputs": [],
   "source": [
    "from sklearn.metrics.pairwise import cosine_similarity\n",
    "\n",
    "ingredient_sim = cosine_similarity(ingredient_mat, ingredient_mat)\n",
    "#print(ingredient_sim.shape)\n",
    "#print(ingredient_sim[:2])"
   ]
  },
  {
   "cell_type": "code",
   "execution_count": 15,
   "metadata": {},
   "outputs": [
    {
     "name": "stdout",
     "output_type": "stream",
     "text": [
      "[[  0  68   7 114 113  73   5  49 106  94  69  53 103  43  75  67  71 102\n",
      "   70  41  39  54  28  87  27  42  38  45 108  40  26 100  97   1  15  44\n",
      "    9  46  86  25   8  62  59   6  74  89  99   4  65 109  24  56  31 107\n",
      "   52  35  88  93  92  57  63  50  96  37  85  14  64  72  51 105  19  32\n",
      "   55  33  48  47  23 112  66  91  34  58  77  36  29  95  61  18  76  20\n",
      "   98  12  11  80 104 101  21  30   2  16  79  60   3  78 111  81  90  10\n",
      "   13  84  83  17  82  22 110]]\n"
     ]
    }
   ],
   "source": [
    "ingredient_sim_sorted_ind = ingredient_sim.argsort()[:, ::-1]\n",
    "print(ingredient_sim_sorted_ind[:1])"
   ]
  },
  {
   "cell_type": "code",
   "execution_count": 16,
   "metadata": {},
   "outputs": [],
   "source": [
    "def find_sim_product(df, sorted_ind, product, top_n=5):\n",
    "    \n",
    "    product_name = df[df['product'] == product]\n",
    "    product_index = product_name.index.values\n",
    "    similar_indexes = sorted_ind[product_index, :(top_n)]\n",
    "    print(similar_indexes)\n",
    "    similar_indexes = similar_indexes.reshape(-1)\n",
    "    \n",
    "    return df.iloc[similar_indexes]"
   ]
  },
  {
   "cell_type": "code",
   "execution_count": 17,
   "metadata": {},
   "outputs": [
    {
     "data": {
      "text/plain": [
       "Index(['product', 'ingredients'], dtype='object')"
      ]
     },
     "execution_count": 17,
     "metadata": {},
     "output_type": "execute_result"
    }
   ],
   "source": [
    "data.columns"
   ]
  },
  {
   "cell_type": "code",
   "execution_count": 18,
   "metadata": {},
   "outputs": [
    {
     "name": "stdout",
     "output_type": "stream",
     "text": [
      "[[  0  68   7 114 113]]\n"
     ]
    },
    {
     "data": {
      "text/html": [
       "<div>\n",
       "<style scoped>\n",
       "    .dataframe tbody tr th:only-of-type {\n",
       "        vertical-align: middle;\n",
       "    }\n",
       "\n",
       "    .dataframe tbody tr th {\n",
       "        vertical-align: top;\n",
       "    }\n",
       "\n",
       "    .dataframe thead th {\n",
       "        text-align: right;\n",
       "    }\n",
       "</style>\n",
       "<table border=\"1\" class=\"dataframe\">\n",
       "  <thead>\n",
       "    <tr style=\"text-align: right;\">\n",
       "      <th></th>\n",
       "      <th>product</th>\n",
       "      <th>ingredients</th>\n",
       "    </tr>\n",
       "  </thead>\n",
       "  <tbody>\n",
       "    <tr>\n",
       "      <th>0</th>\n",
       "      <td>TS BD샴푸</td>\n",
       "      <td>정제수 다이소듐라우레스설포석시네이트 라우릴글루코사이드 코카마이드메틸엠이에이 코카미도...</td>\n",
       "    </tr>\n",
       "    <tr>\n",
       "      <th>68</th>\n",
       "      <td>이브로쉐 미니 샴푸 컬렉션</td>\n",
       "      <td>정제수 소듐라우레스설페이트 코카미도프로필베타인 글라이콜다이스테아레이트 코카마이드미파...</td>\n",
       "    </tr>\n",
       "    <tr>\n",
       "      <th>7</th>\n",
       "      <td>닥터포헤어 폴리젠 샴푸</td>\n",
       "      <td>정제수 다이소듐라우레스설포석시네이트 라우릴하이드록시설테인 코카마이드메틸엠이에이 스타...</td>\n",
       "    </tr>\n",
       "    <tr>\n",
       "      <th>114</th>\n",
       "      <td>헤어플러스 오프레시 딥허벌 스칼프 클렌징 샴푸</td>\n",
       "      <td>정제수 다이소듐라우레스설포석시네이트 코카미도프로필베타인 라우라마이드디에이 코카마이드...</td>\n",
       "    </tr>\n",
       "    <tr>\n",
       "      <th>113</th>\n",
       "      <td>헤어플러스 벨벳 프로틴 본드 샴푸</td>\n",
       "      <td>정제수 다이소듐라우레스설포석시네이트 코카미도프로필베타인 라우라마이드디이에이 코카마이...</td>\n",
       "    </tr>\n",
       "  </tbody>\n",
       "</table>\n",
       "</div>"
      ],
      "text/plain": [
       "                        product  \\\n",
       "0                       TS BD샴푸   \n",
       "68              이브로쉐 미니 샴푸 컬렉션    \n",
       "7                  닥터포헤어 폴리젠 샴푸   \n",
       "114  헤어플러스 오프레시 딥허벌 스칼프 클렌징 샴푸    \n",
       "113         헤어플러스 벨벳 프로틴 본드 샴푸    \n",
       "\n",
       "                                           ingredients  \n",
       "0    정제수 다이소듐라우레스설포석시네이트 라우릴글루코사이드 코카마이드메틸엠이에이 코카미도...  \n",
       "68   정제수 소듐라우레스설페이트 코카미도프로필베타인 글라이콜다이스테아레이트 코카마이드미파...  \n",
       "7    정제수 다이소듐라우레스설포석시네이트 라우릴하이드록시설테인 코카마이드메틸엠이에이 스타...  \n",
       "114  정제수 다이소듐라우레스설포석시네이트 코카미도프로필베타인 라우라마이드디에이 코카마이드...  \n",
       "113  정제수 다이소듐라우레스설포석시네이트 코카미도프로필베타인 라우라마이드디이에이 코카마이...  "
      ]
     },
     "execution_count": 18,
     "metadata": {},
     "output_type": "execute_result"
    }
   ],
   "source": [
    "similar_movies = find_sim_product(data, ingredient_sim_sorted_ind,'TS BD샴푸',5)\n",
    "similar_movies[['product', 'ingredients']]"
   ]
  },
  {
   "cell_type": "code",
   "execution_count": null,
   "metadata": {},
   "outputs": [],
   "source": []
  },
  {
   "cell_type": "code",
   "execution_count": null,
   "metadata": {},
   "outputs": [],
   "source": []
  }
 ],
 "metadata": {
  "kernelspec": {
   "display_name": "Python 3",
   "language": "python",
   "name": "python3"
  },
  "language_info": {
   "codemirror_mode": {
    "name": "ipython",
    "version": 3
   },
   "file_extension": ".py",
   "mimetype": "text/x-python",
   "name": "python",
   "nbconvert_exporter": "python",
   "pygments_lexer": "ipython3",
   "version": "3.7.3"
  }
 },
 "nbformat": 4,
 "nbformat_minor": 2
}
