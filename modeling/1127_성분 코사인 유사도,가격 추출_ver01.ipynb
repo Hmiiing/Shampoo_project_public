{
 "cells": [
  {
   "cell_type": "code",
   "execution_count": 26,
   "metadata": {},
   "outputs": [
    {
     "data": {
      "text/html": [
       "<div>\n",
       "<style scoped>\n",
       "    .dataframe tbody tr th:only-of-type {\n",
       "        vertical-align: middle;\n",
       "    }\n",
       "\n",
       "    .dataframe tbody tr th {\n",
       "        vertical-align: top;\n",
       "    }\n",
       "\n",
       "    .dataframe thead th {\n",
       "        text-align: right;\n",
       "    }\n",
       "</style>\n",
       "<table border=\"1\" class=\"dataframe\">\n",
       "  <thead>\n",
       "    <tr style=\"text-align: right;\">\n",
       "      <th></th>\n",
       "      <th>brand</th>\n",
       "      <th>product</th>\n",
       "      <th>거품</th>\n",
       "      <th>두피</th>\n",
       "      <th>머릿결</th>\n",
       "      <th>세정력</th>\n",
       "      <th>탈모</th>\n",
       "      <th>향</th>\n",
       "      <th>가격(500ml)</th>\n",
       "      <th>ingredients</th>\n",
       "    </tr>\n",
       "  </thead>\n",
       "  <tbody>\n",
       "    <tr>\n",
       "      <th>0</th>\n",
       "      <td>TS</td>\n",
       "      <td>BD샴푸</td>\n",
       "      <td>2.186275</td>\n",
       "      <td>2.176471</td>\n",
       "      <td>2.024510</td>\n",
       "      <td>2.044118</td>\n",
       "      <td>2.509804</td>\n",
       "      <td>2.191176</td>\n",
       "      <td>15000.0</td>\n",
       "      <td>'정제수', '다이소듐라우레스설포석시네이트', '라우릴글루코사이드', '코카마이드메...</td>\n",
       "    </tr>\n",
       "    <tr>\n",
       "      <th>1</th>\n",
       "      <td>TS</td>\n",
       "      <td>올뉴TS샴푸</td>\n",
       "      <td>2.186275</td>\n",
       "      <td>2.176471</td>\n",
       "      <td>2.024510</td>\n",
       "      <td>2.044118</td>\n",
       "      <td>2.509804</td>\n",
       "      <td>2.191176</td>\n",
       "      <td>12900.0</td>\n",
       "      <td>정제수 소듐라우릴설페이트 어성초추출물; 약모밀추출물 소듐라우레스설페이트 코카미도프로...</td>\n",
       "    </tr>\n",
       "    <tr>\n",
       "      <th>2</th>\n",
       "      <td>TS</td>\n",
       "      <td>프리미엄TS샴푸</td>\n",
       "      <td>2.260870</td>\n",
       "      <td>2.130435</td>\n",
       "      <td>1.782609</td>\n",
       "      <td>2.000000</td>\n",
       "      <td>2.739130</td>\n",
       "      <td>2.043478</td>\n",
       "      <td>15290.0</td>\n",
       "      <td>바이오틴 니코틴산아마이드 덱스판테놀 피리티온아연액 디나트륨이디티에이 구아하이드록시프...</td>\n",
       "    </tr>\n",
       "    <tr>\n",
       "      <th>3</th>\n",
       "      <td>닥터그루트</td>\n",
       "      <td>손상모발용샴푸</td>\n",
       "      <td>NaN</td>\n",
       "      <td>NaN</td>\n",
       "      <td>NaN</td>\n",
       "      <td>NaN</td>\n",
       "      <td>NaN</td>\n",
       "      <td>NaN</td>\n",
       "      <td>28625.0</td>\n",
       "      <td>덱스판테놀', '니코틴산아미드', '살리실산', '폴리옥시에틸렌경화피마자유', '폴...</td>\n",
       "    </tr>\n",
       "    <tr>\n",
       "      <th>4</th>\n",
       "      <td>닥터그루트</td>\n",
       "      <td>지성두피용샴푸</td>\n",
       "      <td>NaN</td>\n",
       "      <td>NaN</td>\n",
       "      <td>NaN</td>\n",
       "      <td>NaN</td>\n",
       "      <td>NaN</td>\n",
       "      <td>NaN</td>\n",
       "      <td>28625.0</td>\n",
       "      <td>덱스판테놀', '니코틴산아미드', '살리실산', '시트르산', '식초', '폴리옥시...</td>\n",
       "    </tr>\n",
       "  </tbody>\n",
       "</table>\n",
       "</div>"
      ],
      "text/plain": [
       "   brand   product        거품        두피       머릿결       세정력        탈모  \\\n",
       "0     TS      BD샴푸  2.186275  2.176471  2.024510  2.044118  2.509804   \n",
       "1     TS    올뉴TS샴푸  2.186275  2.176471  2.024510  2.044118  2.509804   \n",
       "2     TS  프리미엄TS샴푸  2.260870  2.130435  1.782609  2.000000  2.739130   \n",
       "3  닥터그루트   손상모발용샴푸       NaN       NaN       NaN       NaN       NaN   \n",
       "4  닥터그루트   지성두피용샴푸       NaN       NaN       NaN       NaN       NaN   \n",
       "\n",
       "          향  가격(500ml)                                        ingredients  \n",
       "0  2.191176    15000.0  '정제수', '다이소듐라우레스설포석시네이트', '라우릴글루코사이드', '코카마이드메...  \n",
       "1  2.191176    12900.0  정제수 소듐라우릴설페이트 어성초추출물; 약모밀추출물 소듐라우레스설페이트 코카미도프로...  \n",
       "2  2.043478    15290.0  바이오틴 니코틴산아마이드 덱스판테놀 피리티온아연액 디나트륨이디티에이 구아하이드록시프...  \n",
       "3       NaN    28625.0  덱스판테놀', '니코틴산아미드', '살리실산', '폴리옥시에틸렌경화피마자유', '폴...  \n",
       "4       NaN    28625.0  덱스판테놀', '니코틴산아미드', '살리실산', '시트르산', '식초', '폴리옥시...  "
      ]
     },
     "execution_count": 26,
     "metadata": {},
     "output_type": "execute_result"
    }
   ],
   "source": [
    "import pandas as pd \n",
    "\n",
    "data = pd.read_excel('1127_가격+성분_최종_ver01.xlsx')\n",
    "data.drop(['Unnamed: 0'],axis=1,inplace=True)\n",
    "data.head()"
   ]
  },
  {
   "cell_type": "code",
   "execution_count": 27,
   "metadata": {},
   "outputs": [
    {
     "name": "stdout",
     "output_type": "stream",
     "text": [
      "<class 'pandas.core.frame.DataFrame'>\n",
      "RangeIndex: 377 entries, 0 to 376\n",
      "Data columns (total 10 columns):\n",
      "brand          377 non-null object\n",
      "product        377 non-null object\n",
      "거품             251 non-null float64\n",
      "두피             251 non-null float64\n",
      "머릿결            251 non-null float64\n",
      "세정력            251 non-null float64\n",
      "탈모             251 non-null float64\n",
      "향              251 non-null float64\n",
      "가격(500ml)      376 non-null float64\n",
      "ingredients    273 non-null object\n",
      "dtypes: float64(7), object(3)\n",
      "memory usage: 29.6+ KB\n"
     ]
    }
   ],
   "source": [
    "data.info()"
   ]
  },
  {
   "cell_type": "code",
   "execution_count": 28,
   "metadata": {},
   "outputs": [],
   "source": [
    "import copy \n",
    "data2 = copy.deepcopy(data)"
   ]
  },
  {
   "cell_type": "code",
   "execution_count": 29,
   "metadata": {},
   "outputs": [
    {
     "data": {
      "text/plain": [
       "str"
      ]
     },
     "execution_count": 29,
     "metadata": {},
     "output_type": "execute_result"
    }
   ],
   "source": [
    "type(data['ingredients'][0])"
   ]
  },
  {
   "cell_type": "code",
   "execution_count": 40,
   "metadata": {},
   "outputs": [
    {
     "data": {
      "text/plain": [
       "str"
      ]
     },
     "execution_count": 40,
     "metadata": {},
     "output_type": "execute_result"
    }
   ],
   "source": [
    "type(data['ingredients'][373])"
   ]
  },
  {
   "cell_type": "code",
   "execution_count": 54,
   "metadata": {},
   "outputs": [],
   "source": [
    "import re\n",
    " \n",
    "def cleanText(readData):\n",
    "    #텍스트에 포함되어 있는 특수 문자 제거 \n",
    "    text = re.sub('[;-=+,#/\\?:^$.@*\\\"※~&%ㆍ!』\\\\‘|\\(\\)\\[\\]\\<\\>`\\'…》]', ' ', readData)\n",
    "    return text"
   ]
  },
  {
   "cell_type": "code",
   "execution_count": 55,
   "metadata": {},
   "outputs": [
    {
     "data": {
      "text/plain": [
       "'정제수 디소듐라우레스설포석시네이트 코카미도프로필베타인 코카마이드미파 피이지 7글리세릴코코에이트 부틸렌글라이콜 피이지 150 디스테아레이트 향료 드럼스틱나무씨추출물 하이드롤라이즈드실크 하이드롤라이즈드콜라겐 하이드롤라이즈드밀단백질 세라마이드3 하이드롤라이즈드케라틴 하이드롤라이즈드엘라스틴 수마뿌리추출물 아르간트리커넬오일 오렌지오일 라벤더오일 로즈마리잎오일 바오밥나무씨오일 글리세린 폴리쿼터늄 10 카프릴하이드록사믹애씨드  카프릴릴글라이콜 시트릭애씨드 디소듐이디티에이'"
      ]
     },
     "execution_count": 55,
     "metadata": {},
     "output_type": "execute_result"
    }
   ],
   "source": [
    "sample = data['ingredients'][373]\n",
    "cleanText(sample)"
   ]
  },
  {
   "cell_type": "code",
   "execution_count": 56,
   "metadata": {},
   "outputs": [
    {
     "data": {
      "text/html": [
       "<div>\n",
       "<style scoped>\n",
       "    .dataframe tbody tr th:only-of-type {\n",
       "        vertical-align: middle;\n",
       "    }\n",
       "\n",
       "    .dataframe tbody tr th {\n",
       "        vertical-align: top;\n",
       "    }\n",
       "\n",
       "    .dataframe thead th {\n",
       "        text-align: right;\n",
       "    }\n",
       "</style>\n",
       "<table border=\"1\" class=\"dataframe\">\n",
       "  <thead>\n",
       "    <tr style=\"text-align: right;\">\n",
       "      <th></th>\n",
       "      <th>brand</th>\n",
       "      <th>product</th>\n",
       "      <th>거품</th>\n",
       "      <th>두피</th>\n",
       "      <th>머릿결</th>\n",
       "      <th>세정력</th>\n",
       "      <th>탈모</th>\n",
       "      <th>향</th>\n",
       "      <th>가격(500ml)</th>\n",
       "      <th>ingredients</th>\n",
       "    </tr>\n",
       "  </thead>\n",
       "  <tbody>\n",
       "    <tr>\n",
       "      <th>372</th>\n",
       "      <td>착한팩토리</td>\n",
       "      <td>꿀폭탄 90 고농축샴푸</td>\n",
       "      <td>NaN</td>\n",
       "      <td>NaN</td>\n",
       "      <td>NaN</td>\n",
       "      <td>NaN</td>\n",
       "      <td>NaN</td>\n",
       "      <td>NaN</td>\n",
       "      <td>15000.0</td>\n",
       "      <td>디소듐라우레스설포석시네이트 꿀추출물 코카마이드미파 로얄젤리추출물 프로폴리스추출물 코...</td>\n",
       "    </tr>\n",
       "    <tr>\n",
       "      <th>373</th>\n",
       "      <td>착한팩토리</td>\n",
       "      <td>단백질폭탄 퍼퓸 샴푸팩</td>\n",
       "      <td>NaN</td>\n",
       "      <td>NaN</td>\n",
       "      <td>NaN</td>\n",
       "      <td>NaN</td>\n",
       "      <td>NaN</td>\n",
       "      <td>NaN</td>\n",
       "      <td>18000.0</td>\n",
       "      <td>정제수 디소듐라우레스설포석시네이트 코카미도프로필베타인 코카마이드미파 피이지 7글리세...</td>\n",
       "    </tr>\n",
       "    <tr>\n",
       "      <th>374</th>\n",
       "      <td>착한팩토리</td>\n",
       "      <td>더 빠른샴푸</td>\n",
       "      <td>NaN</td>\n",
       "      <td>NaN</td>\n",
       "      <td>NaN</td>\n",
       "      <td>NaN</td>\n",
       "      <td>NaN</td>\n",
       "      <td>NaN</td>\n",
       "      <td>23000.0</td>\n",
       "      <td>정제수 폴리쿼터늄 10 디소듐이디티에이 시트릭애씨드 판테놀 피이지 150 디스테아레...</td>\n",
       "    </tr>\n",
       "    <tr>\n",
       "      <th>375</th>\n",
       "      <td>케라시스</td>\n",
       "      <td>볼륨 클리닉 샴푸</td>\n",
       "      <td>NaN</td>\n",
       "      <td>NaN</td>\n",
       "      <td>NaN</td>\n",
       "      <td>NaN</td>\n",
       "      <td>NaN</td>\n",
       "      <td>NaN</td>\n",
       "      <td>6600.0</td>\n",
       "      <td>정제수 소듐라우레스설페이트 암모늄클로라이드 디메치콘;다이메티콘 코카미도프로필베타인 ...</td>\n",
       "    </tr>\n",
       "    <tr>\n",
       "      <th>376</th>\n",
       "      <td>피토더마</td>\n",
       "      <td>두피 딥클렌징 샴푸</td>\n",
       "      <td>NaN</td>\n",
       "      <td>NaN</td>\n",
       "      <td>NaN</td>\n",
       "      <td>NaN</td>\n",
       "      <td>NaN</td>\n",
       "      <td>NaN</td>\n",
       "      <td>16250.0</td>\n",
       "      <td>nan</td>\n",
       "    </tr>\n",
       "  </tbody>\n",
       "</table>\n",
       "</div>"
      ],
      "text/plain": [
       "     brand       product  거품  두피  머릿결  세정력  탈모   향  가격(500ml)  \\\n",
       "372  착한팩토리  꿀폭탄 90 고농축샴푸 NaN NaN  NaN  NaN NaN NaN    15000.0   \n",
       "373  착한팩토리  단백질폭탄 퍼퓸 샴푸팩 NaN NaN  NaN  NaN NaN NaN    18000.0   \n",
       "374  착한팩토리        더 빠른샴푸 NaN NaN  NaN  NaN NaN NaN    23000.0   \n",
       "375   케라시스     볼륨 클리닉 샴푸 NaN NaN  NaN  NaN NaN NaN     6600.0   \n",
       "376   피토더마    두피 딥클렌징 샴푸 NaN NaN  NaN  NaN NaN NaN    16250.0   \n",
       "\n",
       "                                           ingredients  \n",
       "372  디소듐라우레스설포석시네이트 꿀추출물 코카마이드미파 로얄젤리추출물 프로폴리스추출물 코...  \n",
       "373  정제수 디소듐라우레스설포석시네이트 코카미도프로필베타인 코카마이드미파 피이지 7글리세...  \n",
       "374  정제수 폴리쿼터늄 10 디소듐이디티에이 시트릭애씨드 판테놀 피이지 150 디스테아레...  \n",
       "375  정제수 소듐라우레스설페이트 암모늄클로라이드 디메치콘;다이메티콘 코카미도프로필베타인 ...  \n",
       "376                                                nan  "
      ]
     },
     "execution_count": 56,
     "metadata": {},
     "output_type": "execute_result"
    }
   ],
   "source": [
    "data.tail()"
   ]
  },
  {
   "cell_type": "code",
   "execution_count": 57,
   "metadata": {},
   "outputs": [
    {
     "data": {
      "text/html": [
       "<div>\n",
       "<style scoped>\n",
       "    .dataframe tbody tr th:only-of-type {\n",
       "        vertical-align: middle;\n",
       "    }\n",
       "\n",
       "    .dataframe tbody tr th {\n",
       "        vertical-align: top;\n",
       "    }\n",
       "\n",
       "    .dataframe thead th {\n",
       "        text-align: right;\n",
       "    }\n",
       "</style>\n",
       "<table border=\"1\" class=\"dataframe\">\n",
       "  <thead>\n",
       "    <tr style=\"text-align: right;\">\n",
       "      <th></th>\n",
       "      <th>brand</th>\n",
       "      <th>product</th>\n",
       "      <th>거품</th>\n",
       "      <th>두피</th>\n",
       "      <th>머릿결</th>\n",
       "      <th>세정력</th>\n",
       "      <th>탈모</th>\n",
       "      <th>향</th>\n",
       "      <th>가격(500ml)</th>\n",
       "      <th>ingredients</th>\n",
       "    </tr>\n",
       "  </thead>\n",
       "  <tbody>\n",
       "    <tr>\n",
       "      <th>372</th>\n",
       "      <td>착한팩토리</td>\n",
       "      <td>꿀폭탄 90 고농축샴푸</td>\n",
       "      <td>NaN</td>\n",
       "      <td>NaN</td>\n",
       "      <td>NaN</td>\n",
       "      <td>NaN</td>\n",
       "      <td>NaN</td>\n",
       "      <td>NaN</td>\n",
       "      <td>15000.0</td>\n",
       "      <td>디소듐라우레스설포석시네이트,꿀추출물,코카마이드미파,로얄젤리추출물,프로폴리스추출물,코...</td>\n",
       "    </tr>\n",
       "    <tr>\n",
       "      <th>373</th>\n",
       "      <td>착한팩토리</td>\n",
       "      <td>단백질폭탄 퍼퓸 샴푸팩</td>\n",
       "      <td>NaN</td>\n",
       "      <td>NaN</td>\n",
       "      <td>NaN</td>\n",
       "      <td>NaN</td>\n",
       "      <td>NaN</td>\n",
       "      <td>NaN</td>\n",
       "      <td>18000.0</td>\n",
       "      <td>정제수,디소듐라우레스설포석시네이트,코카미도프로필베타인,코카마이드미파,피이지-7글리세...</td>\n",
       "    </tr>\n",
       "    <tr>\n",
       "      <th>374</th>\n",
       "      <td>착한팩토리</td>\n",
       "      <td>더 빠른샴푸</td>\n",
       "      <td>NaN</td>\n",
       "      <td>NaN</td>\n",
       "      <td>NaN</td>\n",
       "      <td>NaN</td>\n",
       "      <td>NaN</td>\n",
       "      <td>NaN</td>\n",
       "      <td>23000.0</td>\n",
       "      <td>정제수,폴리쿼터늄-10,디소듐이디티에이,시트릭애씨드,판테놀,피이지-150 디스테아레...</td>\n",
       "    </tr>\n",
       "    <tr>\n",
       "      <th>375</th>\n",
       "      <td>케라시스</td>\n",
       "      <td>볼륨 클리닉 샴푸</td>\n",
       "      <td>NaN</td>\n",
       "      <td>NaN</td>\n",
       "      <td>NaN</td>\n",
       "      <td>NaN</td>\n",
       "      <td>NaN</td>\n",
       "      <td>NaN</td>\n",
       "      <td>6600.0</td>\n",
       "      <td>정제수 소듐라우레스설페이트 암모늄클로라이드 디메치콘;다이메티콘 코카미도프로필베타인 ...</td>\n",
       "    </tr>\n",
       "    <tr>\n",
       "      <th>376</th>\n",
       "      <td>피토더마</td>\n",
       "      <td>두피 딥클렌징 샴푸</td>\n",
       "      <td>NaN</td>\n",
       "      <td>NaN</td>\n",
       "      <td>NaN</td>\n",
       "      <td>NaN</td>\n",
       "      <td>NaN</td>\n",
       "      <td>NaN</td>\n",
       "      <td>16250.0</td>\n",
       "      <td>NaN</td>\n",
       "    </tr>\n",
       "  </tbody>\n",
       "</table>\n",
       "</div>"
      ],
      "text/plain": [
       "     brand       product  거품  두피  머릿결  세정력  탈모   향  가격(500ml)  \\\n",
       "372  착한팩토리  꿀폭탄 90 고농축샴푸 NaN NaN  NaN  NaN NaN NaN    15000.0   \n",
       "373  착한팩토리  단백질폭탄 퍼퓸 샴푸팩 NaN NaN  NaN  NaN NaN NaN    18000.0   \n",
       "374  착한팩토리        더 빠른샴푸 NaN NaN  NaN  NaN NaN NaN    23000.0   \n",
       "375   케라시스     볼륨 클리닉 샴푸 NaN NaN  NaN  NaN NaN NaN     6600.0   \n",
       "376   피토더마    두피 딥클렌징 샴푸 NaN NaN  NaN  NaN NaN NaN    16250.0   \n",
       "\n",
       "                                           ingredients  \n",
       "372  디소듐라우레스설포석시네이트,꿀추출물,코카마이드미파,로얄젤리추출물,프로폴리스추출물,코...  \n",
       "373  정제수,디소듐라우레스설포석시네이트,코카미도프로필베타인,코카마이드미파,피이지-7글리세...  \n",
       "374  정제수,폴리쿼터늄-10,디소듐이디티에이,시트릭애씨드,판테놀,피이지-150 디스테아레...  \n",
       "375  정제수 소듐라우레스설페이트 암모늄클로라이드 디메치콘;다이메티콘 코카미도프로필베타인 ...  \n",
       "376                                                NaN  "
      ]
     },
     "execution_count": 57,
     "metadata": {},
     "output_type": "execute_result"
    }
   ],
   "source": [
    "data2.tail()"
   ]
  },
  {
   "cell_type": "code",
   "execution_count": 58,
   "metadata": {},
   "outputs": [
    {
     "name": "stderr",
     "output_type": "stream",
     "text": [
      "/home/daehynk/anaconda3/lib/python3.7/site-packages/ipykernel_launcher.py:4: SettingWithCopyWarning: \n",
      "A value is trying to be set on a copy of a slice from a DataFrame\n",
      "\n",
      "See the caveats in the documentation: http://pandas.pydata.org/pandas-docs/stable/user_guide/indexing.html#returning-a-view-versus-a-copy\n",
      "  after removing the cwd from sys.path.\n"
     ]
    }
   ],
   "source": [
    "num = 0\n",
    "for ingredients in data2['ingredients']:\n",
    "    #if type(ingredients) == str:\n",
    "    data['ingredients'][num] = cleanText(str(ingredients))\n",
    "    num += 1\n",
    "    #else:\n",
    "    #    pass"
   ]
  },
  {
   "cell_type": "code",
   "execution_count": 59,
   "metadata": {},
   "outputs": [
    {
     "data": {
      "text/html": [
       "<div>\n",
       "<style scoped>\n",
       "    .dataframe tbody tr th:only-of-type {\n",
       "        vertical-align: middle;\n",
       "    }\n",
       "\n",
       "    .dataframe tbody tr th {\n",
       "        vertical-align: top;\n",
       "    }\n",
       "\n",
       "    .dataframe thead th {\n",
       "        text-align: right;\n",
       "    }\n",
       "</style>\n",
       "<table border=\"1\" class=\"dataframe\">\n",
       "  <thead>\n",
       "    <tr style=\"text-align: right;\">\n",
       "      <th></th>\n",
       "      <th>brand</th>\n",
       "      <th>product</th>\n",
       "      <th>거품</th>\n",
       "      <th>두피</th>\n",
       "      <th>머릿결</th>\n",
       "      <th>세정력</th>\n",
       "      <th>탈모</th>\n",
       "      <th>향</th>\n",
       "      <th>가격(500ml)</th>\n",
       "      <th>ingredients</th>\n",
       "    </tr>\n",
       "  </thead>\n",
       "  <tbody>\n",
       "    <tr>\n",
       "      <th>0</th>\n",
       "      <td>TS</td>\n",
       "      <td>BD샴푸</td>\n",
       "      <td>2.186275</td>\n",
       "      <td>2.176471</td>\n",
       "      <td>2.024510</td>\n",
       "      <td>2.044118</td>\n",
       "      <td>2.509804</td>\n",
       "      <td>2.191176</td>\n",
       "      <td>15000.0</td>\n",
       "      <td>정제수    다이소듐라우레스설포석시네이트    라우릴글루코사이드    코카마이드메...</td>\n",
       "    </tr>\n",
       "    <tr>\n",
       "      <th>1</th>\n",
       "      <td>TS</td>\n",
       "      <td>올뉴TS샴푸</td>\n",
       "      <td>2.186275</td>\n",
       "      <td>2.176471</td>\n",
       "      <td>2.024510</td>\n",
       "      <td>2.044118</td>\n",
       "      <td>2.509804</td>\n",
       "      <td>2.191176</td>\n",
       "      <td>12900.0</td>\n",
       "      <td>정제수 소듐라우릴설페이트 어성초추출물  약모밀추출물 소듐라우레스설페이트 코카미도프로...</td>\n",
       "    </tr>\n",
       "    <tr>\n",
       "      <th>2</th>\n",
       "      <td>TS</td>\n",
       "      <td>프리미엄TS샴푸</td>\n",
       "      <td>2.260870</td>\n",
       "      <td>2.130435</td>\n",
       "      <td>1.782609</td>\n",
       "      <td>2.000000</td>\n",
       "      <td>2.739130</td>\n",
       "      <td>2.043478</td>\n",
       "      <td>15290.0</td>\n",
       "      <td>바이오틴 니코틴산아마이드 덱스판테놀 피리티온아연액 디나트륨이디티에이 구아하이드록시프...</td>\n",
       "    </tr>\n",
       "    <tr>\n",
       "      <th>3</th>\n",
       "      <td>닥터그루트</td>\n",
       "      <td>손상모발용샴푸</td>\n",
       "      <td>NaN</td>\n",
       "      <td>NaN</td>\n",
       "      <td>NaN</td>\n",
       "      <td>NaN</td>\n",
       "      <td>NaN</td>\n",
       "      <td>NaN</td>\n",
       "      <td>28625.0</td>\n",
       "      <td>덱스판테놀    니코틴산아미드    살리실산    폴리옥시에틸렌경화피마자유    폴...</td>\n",
       "    </tr>\n",
       "    <tr>\n",
       "      <th>4</th>\n",
       "      <td>닥터그루트</td>\n",
       "      <td>지성두피용샴푸</td>\n",
       "      <td>NaN</td>\n",
       "      <td>NaN</td>\n",
       "      <td>NaN</td>\n",
       "      <td>NaN</td>\n",
       "      <td>NaN</td>\n",
       "      <td>NaN</td>\n",
       "      <td>28625.0</td>\n",
       "      <td>덱스판테놀    니코틴산아미드    살리실산    시트르산    식초    폴리옥시...</td>\n",
       "    </tr>\n",
       "  </tbody>\n",
       "</table>\n",
       "</div>"
      ],
      "text/plain": [
       "   brand   product        거품        두피       머릿결       세정력        탈모  \\\n",
       "0     TS      BD샴푸  2.186275  2.176471  2.024510  2.044118  2.509804   \n",
       "1     TS    올뉴TS샴푸  2.186275  2.176471  2.024510  2.044118  2.509804   \n",
       "2     TS  프리미엄TS샴푸  2.260870  2.130435  1.782609  2.000000  2.739130   \n",
       "3  닥터그루트   손상모발용샴푸       NaN       NaN       NaN       NaN       NaN   \n",
       "4  닥터그루트   지성두피용샴푸       NaN       NaN       NaN       NaN       NaN   \n",
       "\n",
       "          향  가격(500ml)                                        ingredients  \n",
       "0  2.191176    15000.0   정제수    다이소듐라우레스설포석시네이트    라우릴글루코사이드    코카마이드메...  \n",
       "1  2.191176    12900.0  정제수 소듐라우릴설페이트 어성초추출물  약모밀추출물 소듐라우레스설페이트 코카미도프로...  \n",
       "2  2.043478    15290.0  바이오틴 니코틴산아마이드 덱스판테놀 피리티온아연액 디나트륨이디티에이 구아하이드록시프...  \n",
       "3       NaN    28625.0  덱스판테놀    니코틴산아미드    살리실산    폴리옥시에틸렌경화피마자유    폴...  \n",
       "4       NaN    28625.0  덱스판테놀    니코틴산아미드    살리실산    시트르산    식초    폴리옥시...  "
      ]
     },
     "execution_count": 59,
     "metadata": {},
     "output_type": "execute_result"
    }
   ],
   "source": [
    "data.head()"
   ]
  },
  {
   "cell_type": "code",
   "execution_count": 60,
   "metadata": {},
   "outputs": [
    {
     "data": {
      "text/plain": [
       "0"
      ]
     },
     "execution_count": 60,
     "metadata": {},
     "output_type": "execute_result"
    }
   ],
   "source": [
    "## 성분 칼럼 결측치 갯수 확인 \n",
    "data['ingredients'].isnull().sum()"
   ]
  },
  {
   "cell_type": "code",
   "execution_count": 61,
   "metadata": {},
   "outputs": [
    {
     "data": {
      "text/plain": [
       "Index(['brand', 'product', '거품', '두피', '머릿결', '세정력', '탈모', '향', '가격(500ml)',\n",
       "       'ingredients'],\n",
       "      dtype='object')"
      ]
     },
     "execution_count": 61,
     "metadata": {},
     "output_type": "execute_result"
    }
   ],
   "source": [
    "data.columns"
   ]
  },
  {
   "cell_type": "code",
   "execution_count": 62,
   "metadata": {},
   "outputs": [
    {
     "data": {
      "text/plain": [
       "(377, 10)"
      ]
     },
     "execution_count": 62,
     "metadata": {},
     "output_type": "execute_result"
    }
   ],
   "source": [
    "data.shape"
   ]
  },
  {
   "cell_type": "code",
   "execution_count": 63,
   "metadata": {},
   "outputs": [],
   "source": [
    "# 성분 칼럼 결측치 제거 \n",
    "data2 = data.dropna(subset=['ingredients'])"
   ]
  },
  {
   "cell_type": "code",
   "execution_count": 64,
   "metadata": {},
   "outputs": [
    {
     "data": {
      "text/plain": [
       "(377, 10)"
      ]
     },
     "execution_count": 64,
     "metadata": {},
     "output_type": "execute_result"
    }
   ],
   "source": [
    "data2.shape"
   ]
  },
  {
   "cell_type": "code",
   "execution_count": 65,
   "metadata": {},
   "outputs": [
    {
     "name": "stdout",
     "output_type": "stream",
     "text": [
      "(377, 7739)\n"
     ]
    }
   ],
   "source": [
    "from sklearn.feature_extraction.text import CountVectorizer\n",
    "\n",
    "# CountVectorizer를 적용하기 위해 공백문자로 word 단위가 구분되는 문자열로 변환. \n",
    "#data['ingredients_literal'] = data['ingredients'].apply(lambda x : (' ').join(x))\n",
    "count_vect = CountVectorizer(min_df=0, ngram_range=(1,2))\n",
    "ingredient_mat = count_vect.fit_transform(data2['ingredients'])\n",
    "print(ingredient_mat.shape)"
   ]
  },
  {
   "cell_type": "code",
   "execution_count": 66,
   "metadata": {},
   "outputs": [
    {
     "name": "stdout",
     "output_type": "stream",
     "text": [
      "(377, 377)\n"
     ]
    }
   ],
   "source": [
    "from sklearn.metrics.pairwise import cosine_similarity\n",
    "\n",
    "ingredient_sim = cosine_similarity(ingredient_mat, ingredient_mat)\n",
    "print(ingredient_sim.shape)\n",
    "#print(ingredient_sim[:1])"
   ]
  },
  {
   "cell_type": "code",
   "execution_count": 67,
   "metadata": {},
   "outputs": [
    {
     "name": "stdout",
     "output_type": "stream",
     "text": [
      "[[  0 271 324 215  69 276 347 335 340 343 367  29  30  11 198 286 251 364\n",
      "  370  18  19 192  14 203 102 273  28 274 353   7 337 323  82 373 277 248\n",
      "  339 174 313 338 200 132  13  12 126 167 166 363 228 354 103 127 128 262\n",
      "  165 170 173 318 308  15 299 287   1  25 336 104 137 139 266 252 264 172\n",
      "  245 190  31 233 365 329  22 175 328 319 142 362 368  23 243  32 177 322\n",
      "   10 270 349 145 196 360 242 144 256 157 342 327 331 116 298  16  79 153\n",
      "  115 101 341 216 171 152 204 261 259 330 154 366  20 155 307 355 304 194\n",
      "  371 315  75 306 107 184 141 291 140 348 260 156 241 374 185  74  72 202\n",
      "  180 182 106 181 301   5 138 249 250 195 372  99  83 122  73 223 197 189\n",
      "  254 289 294 124 131 321   8  93 333 269  27 316 191  91  17 346 352  84\n",
      "  253 375 201 278 351 282 358 281 275 284 305  90 226 123 108 279 136 297\n",
      "   94 285  35 118 178 310 121   9  78 130 239 188 356 296 350 317   2 135\n",
      "  302 179 183 236 237  40  98  36 295 151 303 117 187 280 300 326 129   6\n",
      "  186 320  61 225  39 332  24  37  26 100  68  47   3  34  46  57  63 357\n",
      "   44  43   4  59  38  67  33  62  60  54  45  50  66  41  55  58  71  70\n",
      "  283  65  56 288  64 272 168  53  21 369 361 359 345 344 334 325 314 312\n",
      "  311  52 309 293 292 290  76  42  48  49  51 268 258  77 213 208 209 210\n",
      "  211 212 134 133 214 267 217 218 219 220 125 221 222 207 206 143 205 164\n",
      "  163 162 161 160 159 158 176 193 150 149 148 147 146 199 224 120 119  95\n",
      "  246  92 247 255  89  88  87  86  85 257 169 263  81  80 265 244  96 227\n",
      "   97 229 230 114 113 112 111 110 109 231 232 234 105 235 238 240 376]]\n"
     ]
    }
   ],
   "source": [
    "ingredient_sim_sorted_ind = ingredient_sim.argsort()[:, ::-1]\n",
    "print(ingredient_sim_sorted_ind[:1])"
   ]
  },
  {
   "cell_type": "code",
   "execution_count": 68,
   "metadata": {},
   "outputs": [],
   "source": [
    "def find_sim_product(df, sorted_ind, product, top_n=6):\n",
    "    \n",
    "    product_name = df[df['product'] == product]\n",
    "    product_index = product_name.index.values\n",
    "    similar_indexes = sorted_ind[product_index, :(top_n)]\n",
    "    print(similar_indexes)\n",
    "    similar_indexes = similar_indexes.reshape(-1)\n",
    "    \n",
    "    return df.iloc[similar_indexes]"
   ]
  },
  {
   "cell_type": "code",
   "execution_count": 69,
   "metadata": {},
   "outputs": [
    {
     "data": {
      "text/plain": [
       "array(['BD샴푸', '올뉴TS샴푸', '프리미엄TS샴푸', '손상모발용샴푸', '지성두피용샴푸', '힘없는모발샴푸',\n",
       "       '91% 네츄럴 플러스 샴푸', '세범 컨트롤 샴푸', '씨솔트 스케일러', '앱솔루트 실크 데미지 샴푸',\n",
       "       '앱솔루트 실크 샴푸', '폴리젠 샴푸', '폴리젠 인텐스 샴푸', '폴리젠 플러스 샴푸', '피토테라피 천연 샴푸',\n",
       "       '클로렐라 베러 루트 릴렉싱 샴푸', '(리뉴얼) 딥 클린 프레쉬 샴푸', '딥 클린 프레쉬 지성샴푸',\n",
       "       '마일드 수딩 프레쉬 샴푸', '멘톨 쿨링 프레쉬 샴푸', '안티 헤어로스 샴푸', '프레쉬 애플 샴푸',\n",
       "       '미셀라 안티더스트 두피 샴푸', '굿바이 헤어로스 샴푸 레몬그라스', '바나나 트룰리 너리싱 샴푸',\n",
       "       '시어 버터 리치 리플레니싱 샴푸 ', '진저 스캘프 케어 샴푸', '후지 그린티 리프레싱 퓨리파잉 샴푸',\n",
       "       '소피소피 퍼퓸드 헤어 샴푸', '스톡홀름로즈 퍼퓸드 헤어 샴푸', '핑크브리즈 퍼퓸드 헤어 샴푸',\n",
       "       '텐더피오니 샴푸', '스위스 허벌 케어 샴푸', '씨위드 디그리징 샴푸', '아보카도 컬러-프로텍팅 샴푸',\n",
       "       '에그오일 너리싱 샴푸', '윌로우바크 트리트먼트 샴푸', '카모마일-아마란스 리페어 샴푸',\n",
       "       '콜츠푸트 안티-댄드러프 샴푸', '하트씨드 센시티브 샴푸', '고디바', '노 드라우트', '뉴', '대디-오',\n",
       "       '럴러바이', '레인보우', '리햅', '몬스터스 & 에일리언스 ', '몬탈바노', '브라질리언트', '블라우지',\n",
       "       '빅', '속 앤 플롯', '스퀴키 그린', '신시아 실비아 스타우트', '씨닉', '씨몬스터', '아보카도 코-워시',\n",
       "       '아이 러브 쥬시', '얼티메이트 샤인', '저지 바운스', '점핑 주니퍼', '제이슨 앤 더 아르간 오일',\n",
       "       '카마 콤바', '컬리 월리', '코퍼헤드', '페얼리 트레이디드 허니', '허니 아이 워시드 마이 헤어',\n",
       "       '리얼시어 콜드프레스 시어버터 너리싱 샴푸', '순한 두피 저자극 샴푸 (지성용)',\n",
       "       '스파테라피 두피 리프레싱 샴푸(지성두피용)', '자양윤모 두피 딥클렌저', '자양윤모 민감성 두피용 샴푸',\n",
       "       '자양윤모 중건성용 샴푸', '자양윤모 지성두피용 샴푸', '자양윤모 탈모방지 샴푸',\n",
       "       '진생보 토탈 안티에이징 샴푸 건성 두피용', '청아 두피 딥클렌징 샴푸', '함빛 극손상 케어 샴푸',\n",
       "       '함초수 국화피운샴푸', '함초수 달맞이꽃채운샴푸', '함초수 창포담은샴푸', '화윤생 샴푸액',\n",
       "       '흑운 모근영양 샴푸', '흑운 뿌리볼륨 샴푸', '세리 엑스퍼트 비타미노 컬러 A-OX 샴푸',\n",
       "       '세리 엑스퍼트 앱솔루트 리페어 리피디움 샴푸', '스무드 퍼펙팅 샴푸', '에버스트롱 안티브리키지 샴푸',\n",
       "       '에버스트롱 티크닝 샴푸', '엑스트라오디네리 오일 샴푸', '올레오 테라피 오일 인퓨즈드 샴푸',\n",
       "       '케라틴 스무드 샴푸', '토탈리페어5 샴푸', '폴 리페어 샴푸', '헤어스파 DX 샴푸', '헤어스파 너리싱 샴푸',\n",
       "       '너리싱 샴푸', '데일리 샴푸', '모이스쳐라이징샴푸', '바오밥 샴푸',\n",
       "       '바오밥 수분언덕 퍼퓸 샴푸 화이트 딥 머스크', '바오밥 프리미엄 약산성 샴푸', 'NEW 아로마 리페어 샴푸',\n",
       "       '시트러스 버베나 샴푸', '아로마 리바이탈라이징 프레쉬 샴푸', '아로마 볼류마이징 샴푸', '아로마 스트렝스 샴푸',\n",
       "       '나뚜리아 밸런싱 샴푸', '아스테라 프레시 수딩 샴푸', '토뉘시아 토닝 샴푸', '포티샤 두피&모근강화 샴푸',\n",
       "       '퓨어텐 샴푸', '금잔화 샴푸', '달맞이꽃 샴푸', '보윤 샴푸', '윤고 더 골드 샴푸',\n",
       "       '윤고 더 퍼스트 클렌징 트리트먼트', '윤설초 샴푸', '자윤 모근강화 중건성 샴푸', '자윤비책 백단향 샴푸',\n",
       "       '자윤비책 서향 샴푸', '자윤비책 중건성 샴푸', '자윤비책 지성 샴푸', '창포 샴푸', '바나나폭탄샴푸',\n",
       "       ' 리얼 퍼퓸 샴푸 모멘츠 인 러브', ' 리얼 퍼퓸 샴푸 미드나잇 키스', '데미지케어 극손상 샴푸',\n",
       "       '데미지케어 샴푸', '로즈에디션 샴푸', '리얼 퍼퓸 샴푸 스윗 어딕션', '블루밍 퍼퓸 아이리스 샴푸',\n",
       "       '블루밍 퍼퓸 체리블러썸 샴푸', '블루밍 퍼퓸 화이트 릴리 샴푸', '샤이닝 케어 샴푸',\n",
       "       '슈퍼 보태니컬 리페어&릴렉싱 샴푸', '스무스&실키 모이스처 샴푸', '스칼프 케어 샴푸', '안티에이징 샴푸',\n",
       "       '에이징 케어 샴푸', '쿨링 케어 샴푸', '퍼펙트 리페어 샴푸', '퍼펙트 세럼 샴푸 오리지널',\n",
       "       '퍼펙트 세럼 샴퓨 슈퍼 리치', '퍼퓸 샴푸 스파클링 선샤인', '퍼퓸 샴푸 포에버 피오니',\n",
       "       '펄 샤이닝 모이스처 샴푸', '펄 샤이닝 영양&윤기 샴푸', '풀 & 글래머러스 볼륨 샴푸', '밀크바오밥 헤어샴푸',\n",
       "       '모링가 리페어링 샴푸', '모링가 리프레쉬 샴푸', '모링가 스칼프 스크럽 샴푸', '모링가 체리블라썸 샴푸',\n",
       "       '모이스쳐 밸런싱 헤어&바디 클렌저', '히말라야 허브 나드 샴푸', '데미지 리페어 샴푸', '딥클린 쿨링 샴푸',\n",
       "       '버베나 샴푸', '스트레스 릴리프 샴푸', '프래그런스 레이어링 헤어 샴푸', '프로페셔널 디펜스 샴푸',\n",
       "       '힐링포스 프로페셔널 스캘프 샴푸', '네이처프로 로즈힙오일 너리쉬 샴푸', '네이처프로 뱀부 리페어 샴푸',\n",
       "       '네이처프로 스칼프 엑스퍼트 샴푸', '모이스쳐 10 인텐시브 케어 샴푸', '모이스춰글로스 샴푸',\n",
       "       '실리콘 프리 모이스쳐 샴푸', '실리콘 프리 안티 댄드러프 샴푸', '실리콘무첨가 리페어 샴푸',\n",
       "       '실리콘프리 루트 액티베이션 샴푸', '실리콘프리 리페어링 샴푸', '오일 리페어 샴푸',\n",
       "       '올레오12 인텐스케어 샴푸', '리페어 샴푸', '베이비 칠드런스 샴푸', '안티 댄드러프 샴푸',\n",
       "       '에브리데이 샴푸', '닥터트럽 판테놀 샴푸', '알로에 허브 샴푸', '알로에 허브 샴푸2', '티트리 비오틴 샴푸',\n",
       "       '퓨어스테에코 수딩 샴푸', '홍삼 모발도원 샴푸', '제주 탄산수 딥 프레시 샴푸', '에스까르고 오일 샴푸',\n",
       "       '데미지 프로텍션 산성샴푸', ' 칼렌듈라 캐스틸 솝', 'B5+비오틴 포티파잉 샴푸', '레몬그라스 볼류마이징 샴푸',\n",
       "       '로즈마리 스칼프 스케일링 샴푸', '로즈마리 스칼프 스크럽', '사이프러스 더스트 클렌징 샴푸',\n",
       "       '사이프러스 딥 클렌징 샴푸', '아르간 리페어링 샴푸', '아임 트루 내추럴 샴푸', '티트리 퓨리파잉 샴푸',\n",
       "       '프랑킨센스 리페어링 샴푸', '히비스커스 컬러 프로텍션 샴푸', '칼렌듈라 캐스틸 솝', '녹차실감 샴푸액 민감성용',\n",
       "       '녹차실감 샴푸액 중건성용', '녹차실감 샴푸액 지성용', '리페어포스 샴푸', '칼라포스 프로텍티브 샴푸',\n",
       "       '퓨어스마트 샴푸 수분케어', '퓨어스마트 샴푸 유분케어', '프레시 민트 샴푸',\n",
       "       '프로페셔널 베이직 칼라 & 펌 솔루션 샴푸', '딥클린 밸런싱 샴푸', '퓨어스마트 샴푸 쿨',\n",
       "       '프로페셔널 센시더마 샴푸', '퍼펙트 리뉴 그린티 액티브 샴푸', '퓨어스마트 샴푸', '비오틴B-컴플렉스 샴푸',\n",
       "       '티트리 민트 샴푸', '데미지 레미디™ 리스트럭처링 샴푸', '로즈메리 민트 퓨리파잉 샴푸', '샴퓨어™ 샴푸',\n",
       "       '인바티 어드밴스드™ 엑스폴리에이팅 샴푸', '인바티™ 엑스폴리에이팅 샴푸', '컬러 컨서브™ 샴푸',\n",
       "       '체리 아몬드 소프트닝 샴푸', '샴퓨어™ 너쳐링 샴푸', '스무드 인퓨전™ 샴푸', '너리쉬 모이스춰라이즈 샴푸',\n",
       "       '아쿠아에스링 퓨어 리프레싱 헤어 케어', '마일드 샴푸', '에델바이스 샴푸', '새티니크 글로시 리페어 샴푸',\n",
       "       '새티니크 스무드 모이스처 샴푸', '새티니크 안티-댄드러프 샴푸', '새티니크 안티-헤어폴 샴푸',\n",
       "       '새티니크 엑스트라 볼륨 샴푸', '그린 허브 샴푸', '내추럴 퍼퓸 삼푸 프렌치 로즈힙 부케',\n",
       "       '노비드 아유르베다 쿨멘솔 샴푸', '모로칸 아르간 오일 집중영양 샴푸', '바이오테라피 뉴트리케어 샴푸',\n",
       "       '바이오테라피 손상 모발 샴푸', '바이오테라피 탱글케어 샴푸', '실크리페어 리커버리 샴푸',\n",
       "       '실크리페어 샤이닝 샴푸', '오드퍼퓸 프레쉬 아로마 샴푸', '윤슬 중건성 샴푸', '윤슬 지성 샴푸',\n",
       "       '인텐시브 데미지케어 샴푸', '퍼퓸 러브미 샴푸', '퍼퓸 샴푸 키스 더 로즈', '퍼퓸 퓨어 브리즈 샴푸',\n",
       "       '피토케라틴 모이스처 샴푸', '내추럴 마카다미아 오일 샴푸', '내추럴 모로코 아르간 오일 샴푸',\n",
       "       '내추럴 발효초 샴푸', '내추럴 체리블라썸 샴푸', '두피맑음 제주무환자 샴푸',\n",
       "       '로즈마리 & 민트 두피 딥클렌징 샴푸', '발효초 두피 딥클렌징 샴푸', '발효초 모이스처라이징 샴푸',\n",
       "       '제주 영양윤기동백 샴푸', '히말라야 핑크솔트 샴푸', '뉴트리 리페어 트리트먼트 샴푸 호호바', '로우 샴푸',\n",
       "       '리프레쉬 미셀라 샴푸', '미니 샴푸 컬렉션', '에코라벨 샴푸', '영양 오트 샴푸', '인텐스 샤인 샴푸',\n",
       "       '컨센트레이티드 샴푸', '컬러 프로텍션 & 래디언스 샴푸', '퓨리파잉 샴푸',\n",
       "       '럭셔리어스 볼륨 코어 리스토어 프로틴 인퓨즈드 샴푸', '브릴리언트 브루넷 컬러 프로텍팅 모이스춰라이징 샴푸',\n",
       "       '풀리페어 스트렝스+리스토어 샴푸', '프리즈 이즈 미라큘러스 리커버리 샴푸', '프리즈 이즈 포에버 스무스 샴푸',\n",
       "       '시카트리 샴푸', '모이스트 샴푸', '볼륨 샴푸', '볼륨터치 샴푸', '샤이닝 샴푸NC',\n",
       "       '엑스트라 모이스트 샴푸', '오일 엑스트라 모이스처 밸런스 케어 샴푸', '오일 엑스트라 인텐시브 데미지케어 샴푸',\n",
       "       '헤드스파 샴푸NC', '헤드스파 엑스트라 클렌징NC', '노커트 샴푸 (방 익스텐셔니스테)', '방 덴시피크',\n",
       "       '방 드 포스 아키텍트리컨 스트럭팅 샴푸', '방 디스플린', '방 마지스트랄', '방 비탈',\n",
       "       '방 아우라 보타니카 리치', '방 크로놀로지스트 ', '방 테라피스테', '방 포스 아키텍트', '방 프리벤션',\n",
       "       '스페시픽 방 디발렁', '네이처링 너리싱 샴푸', '네이처링 리프레싱 샴푸', '네이처링 볼류마이징 샴푸',\n",
       "       '네이처링 스위트 핑크블로썸 샴푸', '데미지 클리닉 샴푸', '두피 프레쉬 쿨 샴푸 플러스',\n",
       "       '러브 인 핑크 퍼퓸 샴푸', '빠른 건조 클리닉 샴푸', '샤이닝 데미지케어 샴푸', '헤어케어 두피클리닉 샴푸',\n",
       "       '네틀 샴푸', '망고버터 뉴트리션 샴푸', '석류 샴푸', '아쿠아민트 두피 딥클렌징 샴푸',\n",
       "       '오트밀크 울트라 젠틀 샴푸', '일랑일랑 무실리콘 너리싱 샴푸', '퀴닌 비타민B 샴푸', '피오니 샴푸',\n",
       "       '에그 레미디 팩 샴푸', '더말 리커버리 샴푸', '딥클렌징 샴푸', '모이스처 리치 샴푸', '살롱 실크 샴푸',\n",
       "       'PRO-V 극손상 케어 샴푸', '미셀라 퓨어 모이스트 샴푸', '미셀라 퓨어 클렌즈 샴푸',\n",
       "       '실키 스무드 케어 샴푸', '아쿠아 퓨어 샴푸', '프로-브이 엑스트라 볼륨 트리트먼트 샴푸',\n",
       "       '그린 허브 레시피 샴푸 (두피 클렌징 모히또 샴푸)', '만다린 & 유자 비듬 케어 샴푸',\n",
       "       '모발수분공급 베리식초 샴푸 ', '알로에 오트 진정 샴푸', '제로톡스 슈퍼 유칼립투스 두피 딥 클렌징 샴푸',\n",
       "       '제로톡스 케일 & 사과 샴푸', '마룰라 안티-드라이니스 모이스처 샴푸', '민트 리프레싱 샴푸',\n",
       "       '베이비마일드 포밍 샴푸', '블랙씨드 스칼프 릴리프 샴푸', '카페인 샴푸 ', '시크릿 학생샴푸',\n",
       "       '프리미엄 샴푸', '[단백질샴푸] 알베르 헤어 샴푸', '18-콜라 실크 샴푸', '더 마이부 디스데모카 샴푸',\n",
       "       '무쿠에 글로시로즈 모이스처 샴푸', '헤마 실크 스칼프&헤어 클렌징', '베다셀 헤어 테라피 샴푸',\n",
       "       '베다셀 헤어 프로그램 스칼프 샴푸', '아르간 오일 모로코 샴푸', '옐로우 카모마일컬렉션 샴푸',\n",
       "       '클래식 카모마일 샴푸', '핑크 로즈 샴푸', '가려운 두피케어 샴푸', '애플 프레쉬 샴푸', '쿨멘솔 샴푸',\n",
       "       '더 리컬리 샴푸', '벨벳 데미지 리페어 샴푸', '벨벳 프로틴 본드 샴푸(뉴트리 인젝션 단백질 본드 샴푸/약산성)',\n",
       "       '비타 서플라이 샴푸', '실크 코팅 샴푸', '오프레시 딥 허벌 샴푸', '컬러본드 보색 샴푸',\n",
       "       '카페인 샴푸 C1', '리페어 호호바 샴푸', '밀크단백질 90 샴푸', '꿀폭탄 90 고농축샴푸',\n",
       "       '단백질폭탄 퍼퓸 샴푸팩', '더 빠른샴푸', '볼륨 클리닉 샴푸', '두피 딥클렌징 샴푸'], dtype=object)"
      ]
     },
     "execution_count": 69,
     "metadata": {},
     "output_type": "execute_result"
    }
   ],
   "source": [
    "data2['product'].unique()"
   ]
  },
  {
   "cell_type": "code",
   "execution_count": 70,
   "metadata": {},
   "outputs": [
    {
     "data": {
      "text/plain": [
       "Index(['brand', 'product', '거품', '두피', '머릿결', '세정력', '탈모', '향', '가격(500ml)',\n",
       "       'ingredients'],\n",
       "      dtype='object')"
      ]
     },
     "execution_count": 70,
     "metadata": {},
     "output_type": "execute_result"
    }
   ],
   "source": [
    "data2.columns"
   ]
  },
  {
   "cell_type": "code",
   "execution_count": 103,
   "metadata": {},
   "outputs": [
    {
     "name": "stdout",
     "output_type": "stream",
     "text": [
      "[[233 372 365   9 324 102]]\n"
     ]
    },
    {
     "data": {
      "text/html": [
       "<div>\n",
       "<style scoped>\n",
       "    .dataframe tbody tr th:only-of-type {\n",
       "        vertical-align: middle;\n",
       "    }\n",
       "\n",
       "    .dataframe tbody tr th {\n",
       "        vertical-align: top;\n",
       "    }\n",
       "\n",
       "    .dataframe thead th {\n",
       "        text-align: right;\n",
       "    }\n",
       "</style>\n",
       "<table border=\"1\" class=\"dataframe\">\n",
       "  <thead>\n",
       "    <tr style=\"text-align: right;\">\n",
       "      <th></th>\n",
       "      <th>brand</th>\n",
       "      <th>product</th>\n",
       "      <th>가격(500ml)</th>\n",
       "      <th>ingredients</th>\n",
       "      <th>bad_score</th>\n",
       "    </tr>\n",
       "  </thead>\n",
       "  <tbody>\n",
       "    <tr>\n",
       "      <th>233</th>\n",
       "      <td>아쿠아더마</td>\n",
       "      <td>아쿠아에스링 퓨어 리프레싱 헤어 케어</td>\n",
       "      <td>34570.0</td>\n",
       "      <td>정제수 소듐C14-16올레핀설포네이트 코카마이드디이에이 코카미도프로필베타인 피이지-...</td>\n",
       "      <td>4</td>\n",
       "    </tr>\n",
       "    <tr>\n",
       "      <th>372</th>\n",
       "      <td>착한팩토리</td>\n",
       "      <td>꿀폭탄 90 고농축샴푸</td>\n",
       "      <td>15000.0</td>\n",
       "      <td>디소듐라우레스설포석시네이트 꿀추출물 코카마이드미파 로얄젤리추출물 프로폴리스추출물 코...</td>\n",
       "      <td>2</td>\n",
       "    </tr>\n",
       "    <tr>\n",
       "      <th>365</th>\n",
       "      <td>헤어플러스</td>\n",
       "      <td>비타 서플라이 샴푸</td>\n",
       "      <td>18000.0</td>\n",
       "      <td>정제수 다이소듐라우레스설포석시네이트 디소듐라우레스설포석시네이트 코카미도프로필베타인 ...</td>\n",
       "      <td>1</td>\n",
       "    </tr>\n",
       "    <tr>\n",
       "      <th>9</th>\n",
       "      <td>닥터포헤어</td>\n",
       "      <td>앱솔루트 실크 데미지 샴푸</td>\n",
       "      <td>29000.0</td>\n",
       "      <td>정제수 소듐라우레스설페이트 암모늄라우릴설페이트 코카미도프로필베타인 글리세린 글라이콜...</td>\n",
       "      <td>2</td>\n",
       "    </tr>\n",
       "    <tr>\n",
       "      <th>324</th>\n",
       "      <td>투쿨포스쿨</td>\n",
       "      <td>에그 레미디 팩 샴푸</td>\n",
       "      <td>38500.0</td>\n",
       "      <td>정제수 다이소듐라우레스설포석시네이트 디소듐라우레스설포석시네이트 코카미도프로필베타인 ...</td>\n",
       "      <td>6</td>\n",
       "    </tr>\n",
       "    <tr>\n",
       "      <th>102</th>\n",
       "      <td>로픈</td>\n",
       "      <td>바오밥 수분언덕 퍼퓸 샴푸 화이트 딥 머스크</td>\n",
       "      <td>19000.0</td>\n",
       "      <td>정제수 소듐C14-16올레핀설포네이트 라우릴베타인 글리세린 바오밥나무열매추출물 다마...</td>\n",
       "      <td>1</td>\n",
       "    </tr>\n",
       "  </tbody>\n",
       "</table>\n",
       "</div>"
      ],
      "text/plain": [
       "     brand                   product  가격(500ml)  \\\n",
       "233  아쿠아더마      아쿠아에스링 퓨어 리프레싱 헤어 케어    34570.0   \n",
       "372  착한팩토리              꿀폭탄 90 고농축샴푸    15000.0   \n",
       "365  헤어플러스                비타 서플라이 샴푸    18000.0   \n",
       "9    닥터포헤어            앱솔루트 실크 데미지 샴푸    29000.0   \n",
       "324  투쿨포스쿨               에그 레미디 팩 샴푸    38500.0   \n",
       "102     로픈  바오밥 수분언덕 퍼퓸 샴푸 화이트 딥 머스크    19000.0   \n",
       "\n",
       "                                           ingredients  bad_score  \n",
       "233  정제수 소듐C14-16올레핀설포네이트 코카마이드디이에이 코카미도프로필베타인 피이지-...          4  \n",
       "372  디소듐라우레스설포석시네이트 꿀추출물 코카마이드미파 로얄젤리추출물 프로폴리스추출물 코...          2  \n",
       "365  정제수 다이소듐라우레스설포석시네이트 디소듐라우레스설포석시네이트 코카미도프로필베타인 ...          1  \n",
       "9    정제수 소듐라우레스설페이트 암모늄라우릴설페이트 코카미도프로필베타인 글리세린 글라이콜...          2  \n",
       "324  정제수 다이소듐라우레스설포석시네이트 디소듐라우레스설포석시네이트 코카미도프로필베타인 ...          6  \n",
       "102  정제수 소듐C14-16올레핀설포네이트 라우릴베타인 글리세린 바오밥나무열매추출물 다마...          1  "
      ]
     },
     "execution_count": 103,
     "metadata": {},
     "output_type": "execute_result"
    }
   ],
   "source": [
    "similar_movies = find_sim_product(data2, ingredient_sim_sorted_ind,'아쿠아에스링 퓨어 리프레싱 헤어 케어',6)\n",
    "similar_movies[['brand','product','가격(500ml)' ,'ingredients','bad_score']]"
   ]
  },
  {
   "cell_type": "code",
   "execution_count": 102,
   "metadata": {},
   "outputs": [
    {
     "name": "stdout",
     "output_type": "stream",
     "text": [
      "[[ 32 364 366 271 362 106]]\n"
     ]
    },
    {
     "data": {
      "text/html": [
       "<div>\n",
       "<style scoped>\n",
       "    .dataframe tbody tr th:only-of-type {\n",
       "        vertical-align: middle;\n",
       "    }\n",
       "\n",
       "    .dataframe tbody tr th {\n",
       "        vertical-align: top;\n",
       "    }\n",
       "\n",
       "    .dataframe thead th {\n",
       "        text-align: right;\n",
       "    }\n",
       "</style>\n",
       "<table border=\"1\" class=\"dataframe\">\n",
       "  <thead>\n",
       "    <tr style=\"text-align: right;\">\n",
       "      <th></th>\n",
       "      <th>brand</th>\n",
       "      <th>product</th>\n",
       "      <th>가격(500ml)</th>\n",
       "      <th>ingredients</th>\n",
       "      <th>bad_score</th>\n",
       "    </tr>\n",
       "  </thead>\n",
       "  <tbody>\n",
       "    <tr>\n",
       "      <th>32</th>\n",
       "      <td>드라세나</td>\n",
       "      <td>텐더피오니 샴푸</td>\n",
       "      <td>66250.0</td>\n",
       "      <td>하이드롤라이즈드실크 정제수 다이소듐라우레스설포석시네이트 디소듐라우레스설포석시네이트 ...</td>\n",
       "      <td>1</td>\n",
       "    </tr>\n",
       "    <tr>\n",
       "      <th>364</th>\n",
       "      <td>헤어플러스</td>\n",
       "      <td>벨벳 프로틴 본드 샴푸(뉴트리 인젝션 단백질 본드 샴푸/약산성)</td>\n",
       "      <td>24800.0</td>\n",
       "      <td>정제수 다이소듐라우레스설포석시네이트 디소듐라우레스설포석시네이트 코카미도프로필베타인 ...</td>\n",
       "      <td>1</td>\n",
       "    </tr>\n",
       "    <tr>\n",
       "      <th>366</th>\n",
       "      <td>헤어플러스</td>\n",
       "      <td>실크 코팅 샴푸</td>\n",
       "      <td>18000.0</td>\n",
       "      <td>정제수 다이소듐라우레스설포석시네이트 디소듐라우레스설포석시네이트 코카미도프로필베타인 ...</td>\n",
       "      <td>1</td>\n",
       "    </tr>\n",
       "    <tr>\n",
       "      <th>271</th>\n",
       "      <td>이브로쉐</td>\n",
       "      <td>미니 샴푸 컬렉션</td>\n",
       "      <td>14300.0</td>\n",
       "      <td>정제수  소듐라우레스설페이트  코카미도프로필베타인  글라이콜다이스테아레이트  코카마...</td>\n",
       "      <td>20</td>\n",
       "    </tr>\n",
       "    <tr>\n",
       "      <th>362</th>\n",
       "      <td>헤어플러스</td>\n",
       "      <td>더 리컬리 샴푸</td>\n",
       "      <td>24800.0</td>\n",
       "      <td>정제수 다이소듐라우레스설포석시네이트 디소듐라우레스설포석시네이트 코카미도프로필베타인 ...</td>\n",
       "      <td>1</td>\n",
       "    </tr>\n",
       "    <tr>\n",
       "      <th>106</th>\n",
       "      <td>록시땅</td>\n",
       "      <td>아로마 리바이탈라이징 프레쉬 샴푸</td>\n",
       "      <td>33440.0</td>\n",
       "      <td>정제수 소듐라우레스설페이트 데실글루코사이드 코카미도프로필베타인 페퍼민트오일 아틀라스...</td>\n",
       "      <td>5</td>\n",
       "    </tr>\n",
       "  </tbody>\n",
       "</table>\n",
       "</div>"
      ],
      "text/plain": [
       "     brand                              product  가격(500ml)  \\\n",
       "32    드라세나                             텐더피오니 샴푸    66250.0   \n",
       "364  헤어플러스  벨벳 프로틴 본드 샴푸(뉴트리 인젝션 단백질 본드 샴푸/약산성)    24800.0   \n",
       "366  헤어플러스                             실크 코팅 샴푸    18000.0   \n",
       "271   이브로쉐                            미니 샴푸 컬렉션    14300.0   \n",
       "362  헤어플러스                             더 리컬리 샴푸    24800.0   \n",
       "106    록시땅                   아로마 리바이탈라이징 프레쉬 샴푸    33440.0   \n",
       "\n",
       "                                           ingredients  bad_score  \n",
       "32   하이드롤라이즈드실크 정제수 다이소듐라우레스설포석시네이트 디소듐라우레스설포석시네이트 ...          1  \n",
       "364  정제수 다이소듐라우레스설포석시네이트 디소듐라우레스설포석시네이트 코카미도프로필베타인 ...          1  \n",
       "366  정제수 다이소듐라우레스설포석시네이트 디소듐라우레스설포석시네이트 코카미도프로필베타인 ...          1  \n",
       "271  정제수  소듐라우레스설페이트  코카미도프로필베타인  글라이콜다이스테아레이트  코카마...         20  \n",
       "362  정제수 다이소듐라우레스설포석시네이트 디소듐라우레스설포석시네이트 코카미도프로필베타인 ...          1  \n",
       "106  정제수 소듐라우레스설페이트 데실글루코사이드 코카미도프로필베타인 페퍼민트오일 아틀라스...          5  "
      ]
     },
     "execution_count": 102,
     "metadata": {},
     "output_type": "execute_result"
    }
   ],
   "source": [
    "similar_movies = find_sim_product(data2, ingredient_sim_sorted_ind,'텐더피오니 샴푸',6)\n",
    "similar_movies[['brand','product','가격(500ml)' ,'ingredients','bad_score']]"
   ]
  },
  {
   "cell_type": "code",
   "execution_count": null,
   "metadata": {},
   "outputs": [],
   "source": []
  },
  {
   "cell_type": "markdown",
   "metadata": {},
   "source": [
    "## 나쁜 성분 갯수 표현 "
   ]
  },
  {
   "cell_type": "code",
   "execution_count": 79,
   "metadata": {},
   "outputs": [],
   "source": [
    "bad_ingredients = ['리모넨','페녹시에탄올', '유제놀', '피이지-12다이메티콘', '피이지-60', '피이지-40', '피이지-45M', '피이지-45M', '피이지-60', '청색1호', '황색203호', '피이지-12', '피이지-150펜타에리스리틸테트라스테아레이트', '알파-이소메칠이오논','향료', '헥실신나몰','피이지-7글리세릴코코에이트', '피이지-14M', '페녹시에탄올', '메칠파라벤', '황색4호', '리날룰', '신남알', '피이지-12다이메티콘', '피이지-8', '알파-이소메칠이오논', '벤질알코올' ,'황색5호', '리날룰,피이지-12', '피이지-12', '청색1호', '헥실신나몰','황색203호', '적색227호', '헥실신나몰', '황색5호', '리날룰', '피이지-32', '피이지-40하이드로제네이티드캐스터오일', '피이지-7글리세릴코코에이트', '황색4호', '피이지-7글리세릴코코에이트', '알파-이소메칠이오논','황색203호', '황색5호', '소듐라우레스설페이트', '피이지-8', '리날룰', '벤질알코올', '피이지-150', '녹색3호', '리모넨', '신남알','황색203호', '알파-이소메칠이오논', '유제놀','청색1호', '피이지-6', '벤질알코올','황색203호', '리모넨','황색203호', '벤질알코올','피이지-150', '향료']"
   ]
  },
  {
   "cell_type": "code",
   "execution_count": 80,
   "metadata": {},
   "outputs": [],
   "source": [
    "bad_ingredients2 = list(set(bad_ingredients))"
   ]
  },
  {
   "cell_type": "code",
   "execution_count": 81,
   "metadata": {},
   "outputs": [
    {
     "data": {
      "text/plain": [
       "31"
      ]
     },
     "execution_count": 81,
     "metadata": {},
     "output_type": "execute_result"
    }
   ],
   "source": [
    "len(bad_ingredients2)"
   ]
  },
  {
   "cell_type": "code",
   "execution_count": 87,
   "metadata": {},
   "outputs": [],
   "source": [
    "data2['bad_score'] = 0"
   ]
  },
  {
   "cell_type": "code",
   "execution_count": 90,
   "metadata": {},
   "outputs": [
    {
     "data": {
      "text/html": [
       "<div>\n",
       "<style scoped>\n",
       "    .dataframe tbody tr th:only-of-type {\n",
       "        vertical-align: middle;\n",
       "    }\n",
       "\n",
       "    .dataframe tbody tr th {\n",
       "        vertical-align: top;\n",
       "    }\n",
       "\n",
       "    .dataframe thead th {\n",
       "        text-align: right;\n",
       "    }\n",
       "</style>\n",
       "<table border=\"1\" class=\"dataframe\">\n",
       "  <thead>\n",
       "    <tr style=\"text-align: right;\">\n",
       "      <th></th>\n",
       "      <th>brand</th>\n",
       "      <th>product</th>\n",
       "      <th>거품</th>\n",
       "      <th>두피</th>\n",
       "      <th>머릿결</th>\n",
       "      <th>세정력</th>\n",
       "      <th>탈모</th>\n",
       "      <th>향</th>\n",
       "      <th>가격(500ml)</th>\n",
       "      <th>ingredients</th>\n",
       "      <th>bad_score</th>\n",
       "    </tr>\n",
       "  </thead>\n",
       "  <tbody>\n",
       "    <tr>\n",
       "      <th>0</th>\n",
       "      <td>TS</td>\n",
       "      <td>BD샴푸</td>\n",
       "      <td>2.186275</td>\n",
       "      <td>2.176471</td>\n",
       "      <td>2.024510</td>\n",
       "      <td>2.044118</td>\n",
       "      <td>2.509804</td>\n",
       "      <td>2.191176</td>\n",
       "      <td>15000.0</td>\n",
       "      <td>정제수    다이소듐라우레스설포석시네이트    라우릴글루코사이드    코카마이드메...</td>\n",
       "      <td>1</td>\n",
       "    </tr>\n",
       "    <tr>\n",
       "      <th>1</th>\n",
       "      <td>TS</td>\n",
       "      <td>올뉴TS샴푸</td>\n",
       "      <td>2.186275</td>\n",
       "      <td>2.176471</td>\n",
       "      <td>2.024510</td>\n",
       "      <td>2.044118</td>\n",
       "      <td>2.509804</td>\n",
       "      <td>2.191176</td>\n",
       "      <td>12900.0</td>\n",
       "      <td>정제수 소듐라우릴설페이트 어성초추출물  약모밀추출물 소듐라우레스설페이트 코카미도프로...</td>\n",
       "      <td>1</td>\n",
       "    </tr>\n",
       "    <tr>\n",
       "      <th>2</th>\n",
       "      <td>TS</td>\n",
       "      <td>프리미엄TS샴푸</td>\n",
       "      <td>2.260870</td>\n",
       "      <td>2.130435</td>\n",
       "      <td>1.782609</td>\n",
       "      <td>2.000000</td>\n",
       "      <td>2.739130</td>\n",
       "      <td>2.043478</td>\n",
       "      <td>15290.0</td>\n",
       "      <td>바이오틴 니코틴산아마이드 덱스판테놀 피리티온아연액 디나트륨이디티에이 구아하이드록시프...</td>\n",
       "      <td>1</td>\n",
       "    </tr>\n",
       "    <tr>\n",
       "      <th>3</th>\n",
       "      <td>닥터그루트</td>\n",
       "      <td>손상모발용샴푸</td>\n",
       "      <td>NaN</td>\n",
       "      <td>NaN</td>\n",
       "      <td>NaN</td>\n",
       "      <td>NaN</td>\n",
       "      <td>NaN</td>\n",
       "      <td>NaN</td>\n",
       "      <td>28625.0</td>\n",
       "      <td>덱스판테놀    니코틴산아미드    살리실산    폴리옥시에틸렌경화피마자유    폴...</td>\n",
       "      <td>0</td>\n",
       "    </tr>\n",
       "    <tr>\n",
       "      <th>4</th>\n",
       "      <td>닥터그루트</td>\n",
       "      <td>지성두피용샴푸</td>\n",
       "      <td>NaN</td>\n",
       "      <td>NaN</td>\n",
       "      <td>NaN</td>\n",
       "      <td>NaN</td>\n",
       "      <td>NaN</td>\n",
       "      <td>NaN</td>\n",
       "      <td>28625.0</td>\n",
       "      <td>덱스판테놀    니코틴산아미드    살리실산    시트르산    식초    폴리옥시...</td>\n",
       "      <td>0</td>\n",
       "    </tr>\n",
       "  </tbody>\n",
       "</table>\n",
       "</div>"
      ],
      "text/plain": [
       "   brand   product        거품        두피       머릿결       세정력        탈모  \\\n",
       "0     TS      BD샴푸  2.186275  2.176471  2.024510  2.044118  2.509804   \n",
       "1     TS    올뉴TS샴푸  2.186275  2.176471  2.024510  2.044118  2.509804   \n",
       "2     TS  프리미엄TS샴푸  2.260870  2.130435  1.782609  2.000000  2.739130   \n",
       "3  닥터그루트   손상모발용샴푸       NaN       NaN       NaN       NaN       NaN   \n",
       "4  닥터그루트   지성두피용샴푸       NaN       NaN       NaN       NaN       NaN   \n",
       "\n",
       "          향  가격(500ml)                                        ingredients  \\\n",
       "0  2.191176    15000.0   정제수    다이소듐라우레스설포석시네이트    라우릴글루코사이드    코카마이드메...   \n",
       "1  2.191176    12900.0  정제수 소듐라우릴설페이트 어성초추출물  약모밀추출물 소듐라우레스설페이트 코카미도프로...   \n",
       "2  2.043478    15290.0  바이오틴 니코틴산아마이드 덱스판테놀 피리티온아연액 디나트륨이디티에이 구아하이드록시프...   \n",
       "3       NaN    28625.0  덱스판테놀    니코틴산아미드    살리실산    폴리옥시에틸렌경화피마자유    폴...   \n",
       "4       NaN    28625.0  덱스판테놀    니코틴산아미드    살리실산    시트르산    식초    폴리옥시...   \n",
       "\n",
       "   bad_score  \n",
       "0          1  \n",
       "1          1  \n",
       "2          1  \n",
       "3          0  \n",
       "4          0  "
      ]
     },
     "execution_count": 90,
     "metadata": {},
     "output_type": "execute_result"
    }
   ],
   "source": [
    "data2.head()"
   ]
  },
  {
   "cell_type": "code",
   "execution_count": 92,
   "metadata": {},
   "outputs": [
    {
     "name": "stderr",
     "output_type": "stream",
     "text": [
      "/home/daehynk/anaconda3/lib/python3.7/site-packages/ipykernel_launcher.py:8: SettingWithCopyWarning: \n",
      "A value is trying to be set on a copy of a slice from a DataFrame\n",
      "\n",
      "See the caveats in the documentation: http://pandas.pydata.org/pandas-docs/stable/user_guide/indexing.html#returning-a-view-versus-a-copy\n",
      "  \n"
     ]
    }
   ],
   "source": [
    "num = 0\n",
    "for ingredients in data2['ingredients']:\n",
    "    score = 0\n",
    "    for ingredient in ingredients.split(' '):\n",
    "        for bad_ingredient in bad_ingredients2:    \n",
    "            if bad_ingredient in ingredient: \n",
    "                score += 1\n",
    "    data2['bad_score'][num] = score \n",
    "    num += 1   "
   ]
  },
  {
   "cell_type": "code",
   "execution_count": 93,
   "metadata": {},
   "outputs": [
    {
     "data": {
      "text/plain": [
       "0     128\n",
       "5      39\n",
       "2      38\n",
       "3      37\n",
       "1      34\n",
       "4      33\n",
       "7      29\n",
       "6      23\n",
       "9       5\n",
       "8       4\n",
       "10      3\n",
       "11      2\n",
       "20      1\n",
       "13      1\n",
       "Name: bad_score, dtype: int64"
      ]
     },
     "execution_count": 93,
     "metadata": {},
     "output_type": "execute_result"
    }
   ],
   "source": [
    "data2['bad_score'].value_counts()"
   ]
  },
  {
   "cell_type": "code",
   "execution_count": null,
   "metadata": {},
   "outputs": [],
   "source": []
  },
  {
   "cell_type": "code",
   "execution_count": 98,
   "metadata": {},
   "outputs": [],
   "source": [
    "data2.to_excel('1127_가격+성분_최종_ver0222.xlsx')"
   ]
  },
  {
   "cell_type": "code",
   "execution_count": null,
   "metadata": {},
   "outputs": [],
   "source": []
  }
 ],
 "metadata": {
  "kernelspec": {
   "display_name": "Python 3",
   "language": "python",
   "name": "python3"
  },
  "language_info": {
   "codemirror_mode": {
    "name": "ipython",
    "version": 3
   },
   "file_extension": ".py",
   "mimetype": "text/x-python",
   "name": "python",
   "nbconvert_exporter": "python",
   "pygments_lexer": "ipython3",
   "version": "3.7.3"
  }
 },
 "nbformat": 4,
 "nbformat_minor": 2
}
