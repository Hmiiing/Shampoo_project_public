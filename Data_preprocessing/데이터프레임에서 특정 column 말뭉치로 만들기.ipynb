{
 "cells": [
  {
   "cell_type": "code",
   "execution_count": 1,
   "metadata": {},
   "outputs": [],
   "source": [
    "import pandas as pd\n",
    "\n",
    "df = pd.read_excel('../excel_02_1018_1단계_CJ_review_peprocessing.xlsx', encoding='cp949')"
   ]
  },
  {
   "cell_type": "code",
   "execution_count": 3,
   "metadata": {},
   "outputs": [
    {
     "data": {
      "text/html": [
       "<div>\n",
       "<style scoped>\n",
       "    .dataframe tbody tr th:only-of-type {\n",
       "        vertical-align: middle;\n",
       "    }\n",
       "\n",
       "    .dataframe tbody tr th {\n",
       "        vertical-align: top;\n",
       "    }\n",
       "\n",
       "    .dataframe thead th {\n",
       "        text-align: right;\n",
       "    }\n",
       "</style>\n",
       "<table border=\"1\" class=\"dataframe\">\n",
       "  <thead>\n",
       "    <tr style=\"text-align: right;\">\n",
       "      <th></th>\n",
       "      <th>Unnamed: 0</th>\n",
       "      <th>product</th>\n",
       "      <th>review</th>\n",
       "      <th>거품</th>\n",
       "      <th>세정력</th>\n",
       "      <th>자극도</th>\n",
       "      <th>향</th>\n",
       "    </tr>\n",
       "  </thead>\n",
       "  <tbody>\n",
       "    <tr>\n",
       "      <th>0</th>\n",
       "      <td>0</td>\n",
       "      <td>허벌에센스 핑크로즈 샴푸 490ml</td>\n",
       "      <td>기존에 상품대비 가격이 부담이었는데 할인율이 높아져서 만족하면서 사용하고 있어요...</td>\n",
       "      <td>보통이에요</td>\n",
       "      <td>아주 만족해요</td>\n",
       "      <td>보통이에요</td>\n",
       "      <td>보통이에요</td>\n",
       "    </tr>\n",
       "    <tr>\n",
       "      <th>1</th>\n",
       "      <td>1</td>\n",
       "      <td>허벌에센스 핑크로즈 샴푸 490ml</td>\n",
       "      <td>뽀득뽀득해요 성분 좋다는 샴푸 쓰다가 거품도 너무 안나고 세정력이 떨어져서 바꿔봤는...</td>\n",
       "      <td>거품이 풍성해요</td>\n",
       "      <td>보통이에요</td>\n",
       "      <td>자극없이 순해요</td>\n",
       "      <td>아주 만족해요</td>\n",
       "    </tr>\n",
       "    <tr>\n",
       "      <th>2</th>\n",
       "      <td>2</td>\n",
       "      <td>허벌에센스 핑크로즈 샴푸 490ml</td>\n",
       "      <td>매번쓰던거입니다 거품도풍넝하고맘에아두듭니다</td>\n",
       "      <td>거품이 풍성해요</td>\n",
       "      <td>아주 만족해요</td>\n",
       "      <td>자극없이 순해요</td>\n",
       "      <td>아주 만족해요</td>\n",
       "    </tr>\n",
       "    <tr>\n",
       "      <th>3</th>\n",
       "      <td>3</td>\n",
       "      <td>허벌에센스 핑크로즈 샴푸 490ml</td>\n",
       "      <td>노란색 사용하다가 핑크색이 향이 더 좋을것 같아서 구매했어요</td>\n",
       "      <td>거품이 풍성해요</td>\n",
       "      <td>보통이에요</td>\n",
       "      <td>자극없이 순해요</td>\n",
       "      <td>보통이에요</td>\n",
       "    </tr>\n",
       "    <tr>\n",
       "      <th>4</th>\n",
       "      <td>4</td>\n",
       "      <td>허벌에센스 핑크로즈 샴푸 490ml</td>\n",
       "      <td>비누와 같은 세정력 세장력은 좋은 것 같은데 샴푸 후 머릿결이 조금 뻣뻣한 느낌이 ...</td>\n",
       "      <td>거품이 풍성해요</td>\n",
       "      <td>보통이에요</td>\n",
       "      <td>자극없이 순해요</td>\n",
       "      <td>보통이에요</td>\n",
       "    </tr>\n",
       "  </tbody>\n",
       "</table>\n",
       "</div>"
      ],
      "text/plain": [
       "   Unnamed: 0              product  \\\n",
       "0           0  허벌에센스 핑크로즈 샴푸 490ml   \n",
       "1           1  허벌에센스 핑크로즈 샴푸 490ml   \n",
       "2           2  허벌에센스 핑크로즈 샴푸 490ml   \n",
       "3           3  허벌에센스 핑크로즈 샴푸 490ml   \n",
       "4           4  허벌에센스 핑크로즈 샴푸 490ml   \n",
       "\n",
       "                                              review        거품      세정력  \\\n",
       "0    기존에 상품대비 가격이 부담이었는데 할인율이 높아져서 만족하면서 사용하고 있어요...     보통이에요  아주 만족해요   \n",
       "1  뽀득뽀득해요 성분 좋다는 샴푸 쓰다가 거품도 너무 안나고 세정력이 떨어져서 바꿔봤는...  거품이 풍성해요    보통이에요   \n",
       "2                            매번쓰던거입니다 거품도풍넝하고맘에아두듭니다  거품이 풍성해요  아주 만족해요   \n",
       "3                  노란색 사용하다가 핑크색이 향이 더 좋을것 같아서 구매했어요  거품이 풍성해요    보통이에요   \n",
       "4  비누와 같은 세정력 세장력은 좋은 것 같은데 샴푸 후 머릿결이 조금 뻣뻣한 느낌이 ...  거품이 풍성해요    보통이에요   \n",
       "\n",
       "        자극도        향  \n",
       "0     보통이에요    보통이에요  \n",
       "1  자극없이 순해요  아주 만족해요  \n",
       "2  자극없이 순해요  아주 만족해요  \n",
       "3  자극없이 순해요    보통이에요  \n",
       "4  자극없이 순해요    보통이에요  "
      ]
     },
     "execution_count": 3,
     "metadata": {},
     "output_type": "execute_result"
    }
   ],
   "source": [
    "df.head()"
   ]
  },
  {
   "cell_type": "code",
   "execution_count": 4,
   "metadata": {},
   "outputs": [],
   "source": [
    "df_review = df['review']"
   ]
  },
  {
   "cell_type": "code",
   "execution_count": 5,
   "metadata": {},
   "outputs": [],
   "source": [
    "mystr = ''\n",
    "\n",
    "for i in range(0, len(df_review), 1):\n",
    "    mystr += str(df_review[i])\n",
    "    "
   ]
  },
  {
   "cell_type": "code",
   "execution_count": 6,
   "metadata": {},
   "outputs": [
    {
     "data": {
      "text/plain": [
       "'  기존에 상품대비 가격이 부담이었는데 할인율이 높아져서 만족하면서 사용하고 있어요 정가로는 구매하긴 아쉬워요뽀득뽀득해요 성분 좋다는 샴푸 쓰다가 거품도 너무 안나고 세정력이 떨어져서 바꿔봤는데 뽀득뽀득 씻겨서 좋네요 저렴하기도 하고 좋아요  매번쓰던거입니다 거품도풍넝하고맘에아두듭니다  노란색 사용하다가 핑크색이 향이 더 좋을것 같아서 구매했어요비누와 같은 세정력 세장력은 좋은 것 같은데 샴푸 후 머릿결이 조금 뻣뻣한 느낌이 있어요 트리트먼트를 필수로 해야할 것 같아요  배송이 빠르고 품질이 매우 좋습니다 기대 이상이네요  예전에 여름철에 한번 사용해봣는데 기름기가 덜올라오고 보송함이 오래갓던 기억이 잇엇어요 그렇다고 건조하거나 뻑뻑한 느낌도 없이 순하고 편햇어요 요즘은 판매하는 곳이 잘 없고 온라인이나 올리브영에서 구매가능하더라구요 올리브영에서 저렴하게 판매하고 잇길래 한번 다시 사서 써봤어요 향도 좋고 산뜻하니 잘 쓰고 잇어요머리결에 풍부한 영양가와 좋은 향이 가득합니다 머리카락이 많이 상했었는데 이 제품 사용한뒤로 하루하루 좋은 머릿결로 구리고 좋은 향으로 생활할 수 있게 되었습니다  향이 너무 좋아요세정력도 그리 나쁘진않은거 같구무실리콘이니 더 좋겠죠머리카락 건조하신분들은 사용하시면 조금 건조할듯합니다 향이나 거품은 진짜 좋은데 나중에 시간 지나면 다른 샴푸에 비해서는 두피 냄새가 올라오더라구여 그리고 머리 많이 건조하신분들은 이거 사용하시면 조금 건조할듯합니당  향기도 좋고 머리결이 부드러운게 정말 좋아요  특가에 떠서 구매해봤는데향도 괜찮고 거품도 풍성하니 나름 만족스런 제품이에요냄새가 너무 좋아요 원래부터 좋아하던 제품이라서 구매했습니다 냄새 짱향도 좋고 두피에도 나쁘지 않아요 향이 너무 좋아요 실리콘 안 들어가서 모발에도 더 좋을 듯 벌써 네통 째향이 참 좋아요 세정력도 완젼 맘에 들고 거품도 풍성하고 무엇보다 향이 넘 좋아요무슨샴푸 쓰냐고 물어본데요 딸램 친구들이넘 만족이요  향이 좋아요 다만 머리가 뻣뻣한 느낌이 들어요향기 좋은 샴푸 장미향을'"
      ]
     },
     "execution_count": 6,
     "metadata": {},
     "output_type": "execute_result"
    }
   ],
   "source": [
    "mystr2 = mystr.replace('\\n', '')\n",
    "mystr2[:1000]"
   ]
  },
  {
   "cell_type": "code",
   "execution_count": 12,
   "metadata": {},
   "outputs": [],
   "source": [
    "with open('mycorpus.txt', 'w', encoding='utf-8') as f:\n",
    "    f.write(mystr2)"
   ]
  },
  {
   "cell_type": "code",
   "execution_count": null,
   "metadata": {},
   "outputs": [],
   "source": []
  }
 ],
 "metadata": {
  "kernelspec": {
   "display_name": "Python 3",
   "language": "python",
   "name": "python3"
  },
  "language_info": {
   "codemirror_mode": {
    "name": "ipython",
    "version": 3
   },
   "file_extension": ".py",
   "mimetype": "text/x-python",
   "name": "python",
   "nbconvert_exporter": "python",
   "pygments_lexer": "ipython3",
   "version": "3.7.3"
  }
 },
 "nbformat": 4,
 "nbformat_minor": 2
}
