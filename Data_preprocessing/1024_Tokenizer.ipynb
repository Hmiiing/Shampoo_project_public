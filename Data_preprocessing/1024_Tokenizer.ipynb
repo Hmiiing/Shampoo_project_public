{
 "cells": [
  {
   "cell_type": "code",
   "execution_count": 1,
   "metadata": {},
   "outputs": [],
   "source": [
    "from pprint import pprint\n",
    "import sys\n",
    "sys.path.append('../')\n",
    "\n",
    "from soynlp.tokenizer import RegexTokenizer, LTokenizer, MaxScoreTokenizer"
   ]
  },
  {
   "cell_type": "code",
   "execution_count": 2,
   "metadata": {},
   "outputs": [
    {
     "data": {
      "text/plain": [
       "['파스타', '가', '좋아', '요']"
      ]
     },
     "execution_count": 2,
     "metadata": {},
     "output_type": "execute_result"
    }
   ],
   "source": [
    "scores = {'파스': 0.3, '파스타': 0.7, '좋아요': 0.2, '좋아':0.5}\n",
    "\n",
    "tokenizer = MaxScoreTokenizer(scores=scores)\n",
    "tokenizer.tokenize('파스타가좋아요')"
   ]
  },
  {
   "cell_type": "code",
   "execution_count": 4,
   "metadata": {},
   "outputs": [],
   "source": [
    "import pandas as pd"
   ]
  },
  {
   "cell_type": "code",
   "execution_count": 5,
   "metadata": {},
   "outputs": [
    {
     "data": {
      "text/html": [
       "<div>\n",
       "<style scoped>\n",
       "    .dataframe tbody tr th:only-of-type {\n",
       "        vertical-align: middle;\n",
       "    }\n",
       "\n",
       "    .dataframe tbody tr th {\n",
       "        vertical-align: top;\n",
       "    }\n",
       "\n",
       "    .dataframe thead th {\n",
       "        text-align: right;\n",
       "    }\n",
       "</style>\n",
       "<table border=\"1\" class=\"dataframe\">\n",
       "  <thead>\n",
       "    <tr style=\"text-align: right;\">\n",
       "      <th></th>\n",
       "      <th>Unnamed: 0</th>\n",
       "      <th>product</th>\n",
       "      <th>review</th>\n",
       "      <th>거품</th>\n",
       "      <th>세정력</th>\n",
       "      <th>자극도</th>\n",
       "      <th>향</th>\n",
       "    </tr>\n",
       "  </thead>\n",
       "  <tbody>\n",
       "    <tr>\n",
       "      <td>0</td>\n",
       "      <td>0</td>\n",
       "      <td>허벌에센스 핑크로즈 샴푸 490ml</td>\n",
       "      <td>기존에 상품대비 가격이 부담이었는데 할인율이 높아져서 만족하면서 사용하고 있어요...</td>\n",
       "      <td>보통이에요</td>\n",
       "      <td>아주 만족해요</td>\n",
       "      <td>보통이에요</td>\n",
       "      <td>보통이에요</td>\n",
       "    </tr>\n",
       "    <tr>\n",
       "      <td>1</td>\n",
       "      <td>1</td>\n",
       "      <td>허벌에센스 핑크로즈 샴푸 490ml</td>\n",
       "      <td>뽀득뽀득해요 성분 좋다는 샴푸 쓰다가 거품도 너무 안나고 세정력이 떨어져서 바꿔봤는...</td>\n",
       "      <td>거품이 풍성해요</td>\n",
       "      <td>보통이에요</td>\n",
       "      <td>자극없이 순해요</td>\n",
       "      <td>아주 만족해요</td>\n",
       "    </tr>\n",
       "    <tr>\n",
       "      <td>2</td>\n",
       "      <td>2</td>\n",
       "      <td>허벌에센스 핑크로즈 샴푸 490ml</td>\n",
       "      <td>매번쓰던거입니다 거품도풍넝하고맘에아두듭니다</td>\n",
       "      <td>거품이 풍성해요</td>\n",
       "      <td>아주 만족해요</td>\n",
       "      <td>자극없이 순해요</td>\n",
       "      <td>아주 만족해요</td>\n",
       "    </tr>\n",
       "    <tr>\n",
       "      <td>3</td>\n",
       "      <td>3</td>\n",
       "      <td>허벌에센스 핑크로즈 샴푸 490ml</td>\n",
       "      <td>노란색 사용하다가 핑크색이 향이 더 좋을것 같아서 구매했어요</td>\n",
       "      <td>거품이 풍성해요</td>\n",
       "      <td>보통이에요</td>\n",
       "      <td>자극없이 순해요</td>\n",
       "      <td>보통이에요</td>\n",
       "    </tr>\n",
       "    <tr>\n",
       "      <td>4</td>\n",
       "      <td>4</td>\n",
       "      <td>허벌에센스 핑크로즈 샴푸 490ml</td>\n",
       "      <td>비누와 같은 세정력 세장력은 좋은 것 같은데 샴푸 후 머릿결이 조금 뻣뻣한 느낌이 ...</td>\n",
       "      <td>거품이 풍성해요</td>\n",
       "      <td>보통이에요</td>\n",
       "      <td>자극없이 순해요</td>\n",
       "      <td>보통이에요</td>\n",
       "    </tr>\n",
       "  </tbody>\n",
       "</table>\n",
       "</div>"
      ],
      "text/plain": [
       "   Unnamed: 0              product  \\\n",
       "0           0  허벌에센스 핑크로즈 샴푸 490ml   \n",
       "1           1  허벌에센스 핑크로즈 샴푸 490ml   \n",
       "2           2  허벌에센스 핑크로즈 샴푸 490ml   \n",
       "3           3  허벌에센스 핑크로즈 샴푸 490ml   \n",
       "4           4  허벌에센스 핑크로즈 샴푸 490ml   \n",
       "\n",
       "                                              review        거품      세정력  \\\n",
       "0    기존에 상품대비 가격이 부담이었는데 할인율이 높아져서 만족하면서 사용하고 있어요...     보통이에요  아주 만족해요   \n",
       "1  뽀득뽀득해요 성분 좋다는 샴푸 쓰다가 거품도 너무 안나고 세정력이 떨어져서 바꿔봤는...  거품이 풍성해요    보통이에요   \n",
       "2                            매번쓰던거입니다 거품도풍넝하고맘에아두듭니다  거품이 풍성해요  아주 만족해요   \n",
       "3                  노란색 사용하다가 핑크색이 향이 더 좋을것 같아서 구매했어요  거품이 풍성해요    보통이에요   \n",
       "4  비누와 같은 세정력 세장력은 좋은 것 같은데 샴푸 후 머릿결이 조금 뻣뻣한 느낌이 ...  거품이 풍성해요    보통이에요   \n",
       "\n",
       "        자극도        향  \n",
       "0     보통이에요    보통이에요  \n",
       "1  자극없이 순해요  아주 만족해요  \n",
       "2  자극없이 순해요  아주 만족해요  \n",
       "3  자극없이 순해요    보통이에요  \n",
       "4  자극없이 순해요    보통이에요  "
      ]
     },
     "execution_count": 5,
     "metadata": {},
     "output_type": "execute_result"
    }
   ],
   "source": [
    "sample = pd.read_excel('excel_02_1018_1단계_CJ_review_peprocessing.xlsx')\n",
    "sample.head()"
   ]
  },
  {
   "cell_type": "code",
   "execution_count": 6,
   "metadata": {},
   "outputs": [],
   "source": [
    "sample.drop(['Unnamed: 0'],axis='columns' , inplace = True)"
   ]
  },
  {
   "cell_type": "code",
   "execution_count": 7,
   "metadata": {},
   "outputs": [
    {
     "data": {
      "text/plain": [
       "Index(['product', 'review', '거품', '세정력', '자극도', '향'], dtype='object')"
      ]
     },
     "execution_count": 7,
     "metadata": {},
     "output_type": "execute_result"
    }
   ],
   "source": [
    "sample.columns"
   ]
  },
  {
   "cell_type": "code",
   "execution_count": 8,
   "metadata": {},
   "outputs": [],
   "source": [
    "data_려 = sample[sample['product'] == '려 함빛 극손상케어']"
   ]
  },
  {
   "cell_type": "code",
   "execution_count": 11,
   "metadata": {},
   "outputs": [],
   "source": [
    "data_려_prepro = data_려[data_려['review'] != '   ']"
   ]
  },
  {
   "cell_type": "code",
   "execution_count": 12,
   "metadata": {},
   "outputs": [
    {
     "data": {
      "text/plain": [
       "603    세정력도좋아 거품도 풍성합니당 거품도풍성하고 세정력도좋아서 저녁이되도 기름지지 않아...\n",
       "604                         려 특유의 향이 있지만 한방제품으로 믿고 사용합니다\n",
       "605    좋아요 세일하길해 구매했어욤\\n사용하고 나면  두피가 개운해서 좋아요\\n따로 린스나...\n",
       "608                                                좋아요  \n",
       "609    샴푸중에 갑오브더갑이라고 말할수있다  려는 나의 샴푸 인생에 제일 많이 써본 제품이...\n",
       "610    상품평이좋아서구매했어용  극손상이라그런지 머리결도 부드러워요 잘감기고 거품도많이나고...\n",
       "611                                              만족합니다  \n",
       "612                           빠른배송 정확한 상품 만족합니다 많이 파세요  \n",
       "613    사용하면 두피가 시원한 느낌 가끔 쓰던 제품인데 세일해서 다른것들 구매하면서 같이 ...\n",
       "614      뽁뽁이로 잘 싸져서 배송이 왔네요 샴푸랑 린스 둘다 구매했는데 려는 워낙 유명한...\n",
       "615    싸게 잘 샀어요 가격이 좋아서 바로 구매했어요 배송도  빨리 받았고요  유통기한은 ...\n",
       "616                                       세일할 때 사서 좋아요  \n",
       "617    저렴하고 좋습니다 여러가지 성분이 좋아 항상사용하는 제품입니다 배송도 빠르고 품질도...\n",
       "618    딴 거 쓰다가 늘 되돌아 오네요    항상 잘 쓰다가 질려서 다른 걸로 갈아타도 늘...\n",
       "619    늘쓰면 제품 좋아요  좋아요 좋아요 가격도 합리적이고 배송도 빠릅니다 다음에 또 구...\n",
       "620    감사합니다 늘 쓰던 제품 할인하길래 여기서 구매해요  배송도 빠르고 기사님도 친절하...\n",
       "Name: review, dtype: object"
      ]
     },
     "execution_count": 12,
     "metadata": {},
     "output_type": "execute_result"
    }
   ],
   "source": [
    "data_려_prepro['review']"
   ]
  },
  {
   "cell_type": "markdown",
   "metadata": {},
   "source": [
    "## MaxScoreTokenizer"
   ]
  },
  {
   "cell_type": "code",
   "execution_count": 16,
   "metadata": {},
   "outputs": [
    {
     "name": "stdout",
     "output_type": "stream",
     "text": [
      "['세정력도', '좋아', '거품도', '풍성합니당', '거품도풍성하고', '세정력도', '좋아', '서', '저녁이되도', '기름지지', '않아용', '향이좋은건', '아니지만', '거슬리진', '않아요']\n",
      "['려', '특유의', '향이', '있지만', '한방제품으로', '믿고', '사용합니다']\n",
      "['좋아', '요', '세일하길해', '구매했어욤', '사용하고', '나면', '두피가', '개운해서', '좋아', '요', '따로', '린스나', '트리트먼트까지', '같이', '써줘야', '머릿결엔', '더', '좋을것같아요', '향도', '한방이고', '맘에들어요']\n",
      "['좋아', '요']\n",
      "['샴푸중에', '갑오브더갑이라고', '말할수있다', '려는', '나의', '샴푸', '인생에', '제일', '많이', '써본', '제품이다', '그만큼', '나의', '머리결은', '얇아서', '잘빠지기도', '하는데', '려는', '그러한', '점도', '없고', '향기', '또한', '매력적이다']\n",
      "['상품평이', '좋아', '서구매했어용', '극손상이라그런지', '머리결도', '부드러워요', '잘감기고', '거품도많이나고', '기름기도잘잡아주네요', '꾸준하게', '잘쓸거같아용']\n",
      "['만족합니다']\n",
      "['빠른배송', '정확한', '상품', '만족합니다', '많이', '파세요']\n",
      "['사용하면', '두피가', '시원한', '느낌', '가끔', '쓰던', '제품인데', '세일해서', '다른것들', '구매하면서', '같이', '구매', '두피가', '개운한', '느낌이에요']\n",
      "['뽁뽁이로', '잘', '싸져서', '배송이', '왔네요', '샴푸랑', '린스', '둘다', '구매했는데', '려는', '워낙', '유명한', '제품이니', '만족할', '것', '같아요']\n",
      "['싸게', '잘', '샀어요', '가격이', '좋아', '서', '바로', '구매했어요', '배송도', '빨리', '받았고요', '유통기한은', '년도', '월까지라', '정말', '길어서', '완전', '만족합니다', '더', '구매해야겠어요']\n",
      "['세일할', '때', '사서', '좋아', '요']\n",
      "['저렴하고', '좋습니다', '여러가지', '성분이', '좋아', '항상사용하는', '제품입니다', '배송도', '빠르고', '품질도', '좋아', '만족합니다', '후에', '재구매하겠습니다']\n",
      "['딴', '거', '쓰다가', '늘', '되돌아', '오네요', '항상', '잘', '쓰다가', '질려서', '다른', '걸로', '갈아타도', '늘', '다시', '되돌아', '오게되는', '제품입니다', '향도', '한방', '치곤', '나쁘지', '않아요']\n",
      "['늘쓰면', '제품', '좋아', '요', '좋아', '요', '좋아', '요', '가격도', '합리적이고', '배송도', '빠릅니다', '다음에', '또', '구입하겠습니다', '많이', '파세요', '늘', '쓰면', '제품', '굿굿굿']\n",
      "['감사합니다', '늘', '쓰던', '제품', '할인하길래', '여기서', '구매해요', '배송도', '빠르고', '기사님도', '친절하시고', '다음에', '또살겡']\n"
     ]
    }
   ],
   "source": [
    "for review in data_려_prepro['review']:\n",
    "    print(tokenizer.tokenize(review))"
   ]
  },
  {
   "cell_type": "markdown",
   "metadata": {},
   "source": [
    "## LTokenizer - 띄어쓰기 잘 되어있는 문서에 적용할만한 tokenizer"
   ]
  },
  {
   "cell_type": "code",
   "execution_count": 17,
   "metadata": {},
   "outputs": [
    {
     "name": "stdout",
     "output_type": "stream",
     "text": [
      "['세정력도좋아', '거품도', '풍성합니당', '거품도풍성하고', '세정력도좋아서', '저녁이되도', '기름지지', '않아용', '향이좋은건', '아니지만', '거슬리진', '않아요']\n",
      "['려', '특유의', '향이', '있지만', '한방제품으로', '믿고', '사용합니다']\n",
      "['좋아', '요', '세일하길해', '구매했어욤', '사용하고', '나면', '두피가', '개운해서', '좋아', '요', '따로', '린스나', '트리트먼트까지', '같이', '써줘야', '머릿결엔', '더', '좋을것같아요', '향도', '한방이고', '맘에들어요']\n",
      "['좋아', '요']\n",
      "['샴푸중에', '갑오브더갑이라고', '말할수있다', '려는', '나의', '샴푸', '인생에', '제일', '많이', '써본', '제품이다', '그만큼', '나의', '머리결은', '얇아서', '잘빠지기도', '하는데', '려는', '그러한', '점도', '없고', '향기', '또한', '매력적이다']\n",
      "['상품평이좋아서구매했어용', '극손상이라그런지', '머리결도', '부드러워요', '잘감기고', '거품도많이나고', '기름기도잘잡아주네요', '꾸준하게', '잘쓸거같아용']\n",
      "['만족합니다']\n",
      "['빠른배송', '정확한', '상품', '만족합니다', '많이', '파세요']\n",
      "['사용하면', '두피가', '시원한', '느낌', '가끔', '쓰던', '제품인데', '세일해서', '다른것들', '구매하면서', '같이', '구매', '두피가', '개운한', '느낌이에요']\n",
      "['뽁뽁이로', '잘', '싸져서', '배송이', '왔네요', '샴푸랑', '린스', '둘다', '구매했는데', '려는', '워낙', '유명한', '제품이니', '만족할', '것', '같아요']\n",
      "['싸게', '잘', '샀어요', '가격이', '좋아', '서', '바로', '구매했어요', '배송도', '빨리', '받았고요', '유통기한은', '년도', '월까지라', '정말', '길어서', '완전', '만족합니다', '더', '구매해야겠어요']\n",
      "['세일할', '때', '사서', '좋아', '요']\n",
      "['저렴하고', '좋습니다', '여러가지', '성분이', '좋아', '항상사용하는', '제품입니다', '배송도', '빠르고', '품질도좋아', '만족합니다', '후에', '재구매하겠습니다']\n",
      "['딴', '거', '쓰다가', '늘', '되돌아', '오네요', '항상', '잘', '쓰다가', '질려서', '다른', '걸로', '갈아타도', '늘', '다시', '되돌아', '오게되는', '제품입니다', '향도', '한방', '치곤', '나쁘지', '않아요']\n",
      "['늘쓰면', '제품', '좋아', '요', '좋아', '요', '좋아', '요', '가격도', '합리적이고', '배송도', '빠릅니다', '다음에', '또', '구입하겠습니다', '많이', '파세요', '늘', '쓰면', '제품', '굿굿굿']\n",
      "['감사합니다', '늘', '쓰던', '제품', '할인하길래', '여기서', '구매해요', '배송도', '빠르고', '기사님도', '친절하시고', '다음에', '또살겡']\n"
     ]
    }
   ],
   "source": [
    "tokenizer = LTokenizer(scores=scores)\n",
    "\n",
    "for review in data_려_prepro['review']:\n",
    "    print(tokenizer.tokenize(review))"
   ]
  },
  {
   "cell_type": "markdown",
   "metadata": {},
   "source": [
    "## RegexTokenizer()"
   ]
  },
  {
   "cell_type": "code",
   "execution_count": 18,
   "metadata": {},
   "outputs": [
    {
     "name": "stdout",
     "output_type": "stream",
     "text": [
      "['세정력도좋아', '거품도', '풍성합니당', '거품도풍성하고', '세정력도좋아서', '저녁이되도', '기름지지', '않아용', '향이좋은건', '아니지만', '거슬리진', '않아요']\n",
      "['려', '특유의', '향이', '있지만', '한방제품으로', '믿고', '사용합니다']\n",
      "['좋아요', '세일하길해', '구매했어욤', '사용하고', '나면', '두피가', '개운해서', '좋아요', '따로', '린스나', '트리트먼트까지', '같이', '써줘야', '머릿결엔', '더', '좋을것같아요', '향도', '한방이고', '맘에들어요']\n",
      "['좋아요']\n",
      "['샴푸중에', '갑오브더갑이라고', '말할수있다', '려는', '나의', '샴푸', '인생에', '제일', '많이', '써본', '제품이다', '그만큼', '나의', '머리결은', '얇아서', '잘빠지기도', '하는데', '려는', '그러한', '점도', '없고', '향기', '또한', '매력적이다']\n",
      "['상품평이좋아서구매했어용', '극손상이라그런지', '머리결도', '부드러워요', '잘감기고', '거품도많이나고', '기름기도잘잡아주네요', '꾸준하게', '잘쓸거같아용']\n",
      "['만족합니다']\n",
      "['빠른배송', '정확한', '상품', '만족합니다', '많이', '파세요']\n",
      "['사용하면', '두피가', '시원한', '느낌', '가끔', '쓰던', '제품인데', '세일해서', '다른것들', '구매하면서', '같이', '구매', '두피가', '개운한', '느낌이에요']\n",
      "['뽁뽁이로', '잘', '싸져서', '배송이', '왔네요', '샴푸랑', '린스', '둘다', '구매했는데', '려는', '워낙', '유명한', '제품이니', '만족할', '것', '같아요']\n",
      "['싸게', '잘', '샀어요', '가격이', '좋아서', '바로', '구매했어요', '배송도', '빨리', '받았고요', '유통기한은', '년도', '월까지라', '정말', '길어서', '완전', '만족합니다', '더', '구매해야겠어요']\n",
      "['세일할', '때', '사서', '좋아요']\n",
      "['저렴하고', '좋습니다', '여러가지', '성분이', '좋아', '항상사용하는', '제품입니다', '배송도', '빠르고', '품질도좋아', '만족합니다', '후에', '재구매하겠습니다']\n",
      "['딴', '거', '쓰다가', '늘', '되돌아', '오네요', '항상', '잘', '쓰다가', '질려서', '다른', '걸로', '갈아타도', '늘', '다시', '되돌아', '오게되는', '제품입니다', '향도', '한방', '치곤', '나쁘지', '않아요']\n",
      "['늘쓰면', '제품', '좋아요', '좋아요', '좋아요', '가격도', '합리적이고', '배송도', '빠릅니다', '다음에', '또', '구입하겠습니다', '많이', '파세요', '늘', '쓰면', '제품', '굿굿굿']\n",
      "['감사합니다', '늘', '쓰던', '제품', '할인하길래', '여기서', '구매해요', '배송도', '빠르고', '기사님도', '친절하시고', '다음에', '또살겡']\n"
     ]
    },
    {
     "name": "stderr",
     "output_type": "stream",
     "text": [
      "/home/daehynk/anaconda3/lib/python3.7/site-packages/soynlp/tokenizer/_tokenizer.py:19: FutureWarning: Possible nested set at position 13\n",
      "  ('english & latin', re.compile(u\"[a-zA-ZÀ-ÿ]+[[`']?s]*|[a-zA-ZÀ-ÿ]+\", re.UNICODE))\n"
     ]
    }
   ],
   "source": [
    "tokenizer = RegexTokenizer()\n",
    "\n",
    "for review in data_려_prepro['review']:\n",
    "    print(tokenizer.tokenize(review))"
   ]
  },
  {
   "cell_type": "markdown",
   "metadata": {},
   "source": [
    "# Vectorizing"
   ]
  },
  {
   "cell_type": "markdown",
   "metadata": {},
   "source": [
    "### build tokenizer"
   ]
  },
  {
   "cell_type": "code",
   "execution_count": 20,
   "metadata": {},
   "outputs": [
    {
     "name": "stdout",
     "output_type": "stream",
     "text": [
      "training was done. used memory 0.241 Gbory 0.178 Gb\n",
      "all cohesion probabilities was computed. # words = 16385\n"
     ]
    }
   ],
   "source": [
    "from soynlp import DoublespaceLineCorpus\n",
    "from soynlp.word import WordExtractor\n",
    "from soynlp.tokenizer import LTokenizer\n",
    "from soynlp.vectorizer import BaseVectorizer\n",
    "\n",
    "corpus_path = 'mycorpus_줄바꿈_적용.txt'\n",
    "corpus = DoublespaceLineCorpus(corpus_path, iter_sent=True)\n",
    "word_extractor = WordExtractor()\n",
    "word_extractor.train(corpus)\n",
    "\n",
    "# (leftside cohesion, rightside cohesion)\n",
    "cohesion_scores = word_extractor.all_cohesion_scores()\n",
    "\n",
    "# use only leftside cohesion\n",
    "scores = {word:score[0] for word, score in cohesion_scores.items()}\n",
    "tokenizer = LTokenizer(scores=scores)"
   ]
  },
  {
   "cell_type": "code",
   "execution_count": 21,
   "metadata": {},
   "outputs": [
    {
     "name": "stdout",
     "output_type": "stream",
     "text": [
      "scanning was done                                        \n",
      "28184 terms are recognized\n",
      "transforming docs to term frequency marix was done\n"
     ]
    }
   ],
   "source": [
    "\n",
    "vectorizer = BaseVectorizer(\n",
    "    tokenizer=tokenizer,\n",
    "    min_tf=0,\n",
    "    max_tf=100000,\n",
    "    min_df=0,\n",
    "    max_df=1.0,\n",
    "    stopwords=None,\n",
    "    lowercase=True,\n",
    "    verbose=True\n",
    ")\n",
    "\n",
    "corpus.iter_sent = False\n",
    "x = vectorizer.fit_transform(corpus)"
   ]
  },
  {
   "cell_type": "code",
   "execution_count": 22,
   "metadata": {},
   "outputs": [
    {
     "data": {
      "text/plain": [
       "{0: 2,\n",
       " 16: 1,\n",
       " 10042: 1,\n",
       " 5: 1,\n",
       " 10043: 1,\n",
       " 3: 1,\n",
       " 21: 1,\n",
       " 191: 1,\n",
       " 8: 1,\n",
       " 6: 1,\n",
       " 81: 1,\n",
       " 13: 1}"
      ]
     },
     "execution_count": 22,
     "metadata": {},
     "output_type": "execute_result"
    }
   ],
   "source": [
    "vectorizer.encode_a_doc_to_bow('좋아요 세일하길해 구매했어욤\\n사용하고 나면  두피가 개운해서 좋아요')"
   ]
  },
  {
   "cell_type": "code",
   "execution_count": 23,
   "metadata": {},
   "outputs": [
    {
     "data": {
      "text/plain": [
       "{'좋아요': 2,\n",
       " '세일': 1,\n",
       " '하길해': 1,\n",
       " '구매': 1,\n",
       " '했어욤': 1,\n",
       " '사용': 1,\n",
       " '하고': 1,\n",
       " '나면': 1,\n",
       " '두피': 1,\n",
       " '가': 1,\n",
       " '개운': 1,\n",
       " '해서': 1}"
      ]
     },
     "execution_count": 23,
     "metadata": {},
     "output_type": "execute_result"
    }
   ],
   "source": [
    "vectorizer.decode_from_bow({0: 2,\n",
    " 16: 1,\n",
    " 10042: 1,\n",
    " 5: 1,\n",
    " 10043: 1,\n",
    " 3: 1,\n",
    " 21: 1,\n",
    " 191: 1,\n",
    " 8: 1,\n",
    " 6: 1,\n",
    " 81: 1,\n",
    " 13: 1})"
   ]
  },
  {
   "cell_type": "code",
   "execution_count": 25,
   "metadata": {},
   "outputs": [
    {
     "data": {
      "text/plain": [
       "[4, 1, 59, 59, 0]"
      ]
     },
     "execution_count": 25,
     "metadata": {},
     "output_type": "execute_result"
    }
   ],
   "source": [
    "vectorizer.encode_a_doc_to_list('이 샴푸 정말정말 좋아요')"
   ]
  },
  {
   "cell_type": "code",
   "execution_count": 26,
   "metadata": {},
   "outputs": [
    {
     "data": {
      "text/plain": [
       "[8, 6, 204, 1498, 84, 676, 0]"
      ]
     },
     "execution_count": 26,
     "metadata": {},
     "output_type": "execute_result"
    }
   ],
   "source": [
    "vectorizer.encode_a_doc_to_list(' 두피가 안 좋았는데 이거쓰니 좋아요')"
   ]
  },
  {
   "cell_type": "code",
   "execution_count": 27,
   "metadata": {},
   "outputs": [
    {
     "data": {
      "text/plain": [
       "['두피', '가', '안', '좋았는데', '이거', '쓰니', '좋아요']"
      ]
     },
     "execution_count": 27,
     "metadata": {},
     "output_type": "execute_result"
    }
   ],
   "source": [
    "vectorizer.decode_from_list([8, 6, 204, 1498, 84, 676, 0])"
   ]
  }
 ],
 "metadata": {
  "kernelspec": {
   "display_name": "Python 3",
   "language": "python",
   "name": "python3"
  },
  "language_info": {
   "codemirror_mode": {
    "name": "ipython",
    "version": 3
   },
   "file_extension": ".py",
   "mimetype": "text/x-python",
   "name": "python",
   "nbconvert_exporter": "python",
   "pygments_lexer": "ipython3",
   "version": "3.7.3"
  }
 },
 "nbformat": 4,
 "nbformat_minor": 2
}
