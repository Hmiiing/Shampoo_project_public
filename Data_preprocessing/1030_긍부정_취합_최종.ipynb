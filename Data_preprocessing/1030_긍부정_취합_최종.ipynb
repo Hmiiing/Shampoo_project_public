{
 "cells": [
  {
   "cell_type": "code",
   "execution_count": 2,
   "metadata": {},
   "outputs": [],
   "source": [
    "import pandas as pd"
   ]
  },
  {
   "cell_type": "code",
   "execution_count": 3,
   "metadata": {},
   "outputs": [],
   "source": [
    "data1 = pd.read_excel('./shampoo/1027_두피_score_대혁_ver02.xlsx')"
   ]
  },
  {
   "cell_type": "code",
   "execution_count": 4,
   "metadata": {},
   "outputs": [],
   "source": [
    "data1 = pd.read_excel('./shampoo/1027_두피_score_대혁_ver02.xlsx')\n",
    "data2 = pd.read_excel('./shampoo/191026_탈모긍부정_현웅최.xlsx')\n",
    "data3 = pd.read_excel('./shampoo/샴푸샴푸세정력.xlsx')\n",
    "data4 = pd.read_excel('./shampoo/hair_point.xlsx')\n",
    "data5 = pd.read_csv('./shampoo/real_final_거품_label.csv')\n",
    "data6 = pd.read_excel('./shampoo/향_긍부정_이혜민.xlsx')"
   ]
  },
  {
   "cell_type": "code",
   "execution_count": 6,
   "metadata": {},
   "outputs": [],
   "source": [
    "data1.drop(['Unnamed: 0'],axis=1,inplace=True)"
   ]
  },
  {
   "cell_type": "code",
   "execution_count": 7,
   "metadata": {},
   "outputs": [
    {
     "data": {
      "text/plain": [
       "Index(['product', 'review', '거품', '세정력', '자극도', '향', 'score', 'split_target'], dtype='object')"
      ]
     },
     "execution_count": 7,
     "metadata": {},
     "output_type": "execute_result"
    }
   ],
   "source": [
    "data1.columns"
   ]
  },
  {
   "cell_type": "code",
   "execution_count": 10,
   "metadata": {},
   "outputs": [],
   "source": [
    "data1.drop(['split_target'],axis=1,inplace=True)"
   ]
  },
  {
   "cell_type": "code",
   "execution_count": 8,
   "metadata": {},
   "outputs": [
    {
     "data": {
      "text/plain": [
       "(19897, 8)"
      ]
     },
     "execution_count": 8,
     "metadata": {},
     "output_type": "execute_result"
    }
   ],
   "source": [
    "data1.shape"
   ]
  },
  {
   "cell_type": "code",
   "execution_count": 14,
   "metadata": {},
   "outputs": [
    {
     "data": {
      "text/html": [
       "<div>\n",
       "<style scoped>\n",
       "    .dataframe tbody tr th:only-of-type {\n",
       "        vertical-align: middle;\n",
       "    }\n",
       "\n",
       "    .dataframe tbody tr th {\n",
       "        vertical-align: top;\n",
       "    }\n",
       "\n",
       "    .dataframe thead th {\n",
       "        text-align: right;\n",
       "    }\n",
       "</style>\n",
       "<table border=\"1\" class=\"dataframe\">\n",
       "  <thead>\n",
       "    <tr style=\"text-align: right;\">\n",
       "      <th></th>\n",
       "      <th>product</th>\n",
       "      <th>review</th>\n",
       "      <th>거품</th>\n",
       "      <th>세정력</th>\n",
       "      <th>자극도</th>\n",
       "      <th>향</th>\n",
       "      <th>두피</th>\n",
       "    </tr>\n",
       "  </thead>\n",
       "  <tbody>\n",
       "    <tr>\n",
       "      <th>19891</th>\n",
       "      <td>착한팩토리 90 밀크단백질 샴푸 1000ml</td>\n",
       "      <td>소문 믿고 구입했으나 품질은 수십번 사용해본후 판단해볼께요</td>\n",
       "      <td>NaN</td>\n",
       "      <td>NaN</td>\n",
       "      <td>NaN</td>\n",
       "      <td>NaN</td>\n",
       "      <td>NaN</td>\n",
       "    </tr>\n",
       "    <tr>\n",
       "      <th>19892</th>\n",
       "      <td>착한팩토리 90 밀크단백질 샴푸 1000ml</td>\n",
       "      <td>잘받았습니다</td>\n",
       "      <td>NaN</td>\n",
       "      <td>NaN</td>\n",
       "      <td>NaN</td>\n",
       "      <td>NaN</td>\n",
       "      <td>NaN</td>\n",
       "    </tr>\n",
       "    <tr>\n",
       "      <th>19893</th>\n",
       "      <td>착한팩토리 90 밀크단백질 샴푸 1000ml</td>\n",
       "      <td>싸게 샀어요</td>\n",
       "      <td>NaN</td>\n",
       "      <td>NaN</td>\n",
       "      <td>NaN</td>\n",
       "      <td>NaN</td>\n",
       "      <td>NaN</td>\n",
       "    </tr>\n",
       "    <tr>\n",
       "      <th>19894</th>\n",
       "      <td>더마클라센 굿바이헤어로스 샴푸 레몬그라스 기획세트[500ml+100ml+트리트먼트 ...</td>\n",
       "      <td>머리카락이 안 빠지는건 아직 못 느끼겠고요 쓰고 나니 머리가 너무 뻣뻣해서 반품하고...</td>\n",
       "      <td>NaN</td>\n",
       "      <td>NaN</td>\n",
       "      <td>NaN</td>\n",
       "      <td>NaN</td>\n",
       "      <td>NaN</td>\n",
       "    </tr>\n",
       "    <tr>\n",
       "      <th>19895</th>\n",
       "      <td>더마클라센 굿바이헤어로스 샴푸 레몬그라스 기획세트[500ml+100ml+트리트먼트 ...</td>\n",
       "      <td>탈모샴푸 가대해요</td>\n",
       "      <td>NaN</td>\n",
       "      <td>NaN</td>\n",
       "      <td>NaN</td>\n",
       "      <td>NaN</td>\n",
       "      <td>NaN</td>\n",
       "    </tr>\n",
       "  </tbody>\n",
       "</table>\n",
       "</div>"
      ],
      "text/plain": [
       "                                                 product  \\\n",
       "19891                           착한팩토리 90 밀크단백질 샴푸 1000ml   \n",
       "19892                           착한팩토리 90 밀크단백질 샴푸 1000ml   \n",
       "19893                           착한팩토리 90 밀크단백질 샴푸 1000ml   \n",
       "19894  더마클라센 굿바이헤어로스 샴푸 레몬그라스 기획세트[500ml+100ml+트리트먼트 ...   \n",
       "19895  더마클라센 굿바이헤어로스 샴푸 레몬그라스 기획세트[500ml+100ml+트리트먼트 ...   \n",
       "\n",
       "                                                  review   거품  세정력  자극도    향  \\\n",
       "19891                   소문 믿고 구입했으나 품질은 수십번 사용해본후 판단해볼께요  NaN  NaN  NaN  NaN   \n",
       "19892                                            잘받았습니다   NaN  NaN  NaN  NaN   \n",
       "19893                                             싸게 샀어요  NaN  NaN  NaN  NaN   \n",
       "19894  머리카락이 안 빠지는건 아직 못 느끼겠고요 쓰고 나니 머리가 너무 뻣뻣해서 반품하고...  NaN  NaN  NaN  NaN   \n",
       "19895                                          탈모샴푸 가대해요  NaN  NaN  NaN  NaN   \n",
       "\n",
       "       두피  \n",
       "19891 NaN  \n",
       "19892 NaN  \n",
       "19893 NaN  \n",
       "19894 NaN  \n",
       "19895 NaN  "
      ]
     },
     "execution_count": 14,
     "metadata": {},
     "output_type": "execute_result"
    }
   ],
   "source": [
    "data1.tail()"
   ]
  },
  {
   "cell_type": "code",
   "execution_count": 12,
   "metadata": {},
   "outputs": [],
   "source": [
    "data1.drop(19896,inplace=True)"
   ]
  },
  {
   "cell_type": "code",
   "execution_count": 11,
   "metadata": {},
   "outputs": [],
   "source": [
    "data1.rename(columns={\"score\":\"두피\"}, inplace = True)"
   ]
  },
  {
   "cell_type": "code",
   "execution_count": 13,
   "metadata": {},
   "outputs": [
    {
     "data": {
      "text/plain": [
       "(19896, 7)"
      ]
     },
     "execution_count": 13,
     "metadata": {},
     "output_type": "execute_result"
    }
   ],
   "source": [
    "data1.shape"
   ]
  },
  {
   "cell_type": "code",
   "execution_count": 15,
   "metadata": {},
   "outputs": [
    {
     "data": {
      "text/html": [
       "<div>\n",
       "<style scoped>\n",
       "    .dataframe tbody tr th:only-of-type {\n",
       "        vertical-align: middle;\n",
       "    }\n",
       "\n",
       "    .dataframe tbody tr th {\n",
       "        vertical-align: top;\n",
       "    }\n",
       "\n",
       "    .dataframe thead th {\n",
       "        text-align: right;\n",
       "    }\n",
       "</style>\n",
       "<table border=\"1\" class=\"dataframe\">\n",
       "  <thead>\n",
       "    <tr style=\"text-align: right;\">\n",
       "      <th></th>\n",
       "      <th>product</th>\n",
       "      <th>review</th>\n",
       "      <th>거품</th>\n",
       "      <th>세정력</th>\n",
       "      <th>자극도</th>\n",
       "      <th>향</th>\n",
       "      <th>두피</th>\n",
       "    </tr>\n",
       "  </thead>\n",
       "  <tbody>\n",
       "    <tr>\n",
       "      <th>0</th>\n",
       "      <td>허벌에센스 핑크로즈 샴푸 490ml</td>\n",
       "      <td>기존에 상품대비 가격이 부담이었는데 할인율이 높아져서 만족하면서 사용하고 있어요...</td>\n",
       "      <td>보통이에요</td>\n",
       "      <td>아주 만족해요</td>\n",
       "      <td>보통이에요</td>\n",
       "      <td>보통이에요</td>\n",
       "      <td>NaN</td>\n",
       "    </tr>\n",
       "    <tr>\n",
       "      <th>1</th>\n",
       "      <td>허벌에센스 핑크로즈 샴푸 490ml</td>\n",
       "      <td>뽀득뽀득해요 성분 좋다는 샴푸 쓰다가 거품도 너무 안나고 세정력이 떨어져서 바꿔봤는...</td>\n",
       "      <td>거품이 풍성해요</td>\n",
       "      <td>보통이에요</td>\n",
       "      <td>자극없이 순해요</td>\n",
       "      <td>아주 만족해요</td>\n",
       "      <td>NaN</td>\n",
       "    </tr>\n",
       "    <tr>\n",
       "      <th>2</th>\n",
       "      <td>허벌에센스 핑크로즈 샴푸 490ml</td>\n",
       "      <td>매번쓰던거입니다 거품도풍넝하고맘에아두듭니다</td>\n",
       "      <td>거품이 풍성해요</td>\n",
       "      <td>아주 만족해요</td>\n",
       "      <td>자극없이 순해요</td>\n",
       "      <td>아주 만족해요</td>\n",
       "      <td>NaN</td>\n",
       "    </tr>\n",
       "    <tr>\n",
       "      <th>3</th>\n",
       "      <td>허벌에센스 핑크로즈 샴푸 490ml</td>\n",
       "      <td>노란색 사용하다가 핑크색이 향이 더 좋을것 같아서 구매했어요</td>\n",
       "      <td>거품이 풍성해요</td>\n",
       "      <td>보통이에요</td>\n",
       "      <td>자극없이 순해요</td>\n",
       "      <td>보통이에요</td>\n",
       "      <td>NaN</td>\n",
       "    </tr>\n",
       "    <tr>\n",
       "      <th>4</th>\n",
       "      <td>허벌에센스 핑크로즈 샴푸 490ml</td>\n",
       "      <td>비누와 같은 세정력 세장력은 좋은 것 같은데 샴푸 후 머릿결이 조금 뻣뻣한 느낌이 ...</td>\n",
       "      <td>거품이 풍성해요</td>\n",
       "      <td>보통이에요</td>\n",
       "      <td>자극없이 순해요</td>\n",
       "      <td>보통이에요</td>\n",
       "      <td>NaN</td>\n",
       "    </tr>\n",
       "  </tbody>\n",
       "</table>\n",
       "</div>"
      ],
      "text/plain": [
       "               product                                             review  \\\n",
       "0  허벌에센스 핑크로즈 샴푸 490ml    기존에 상품대비 가격이 부담이었는데 할인율이 높아져서 만족하면서 사용하고 있어요...   \n",
       "1  허벌에센스 핑크로즈 샴푸 490ml  뽀득뽀득해요 성분 좋다는 샴푸 쓰다가 거품도 너무 안나고 세정력이 떨어져서 바꿔봤는...   \n",
       "2  허벌에센스 핑크로즈 샴푸 490ml                            매번쓰던거입니다 거품도풍넝하고맘에아두듭니다   \n",
       "3  허벌에센스 핑크로즈 샴푸 490ml                  노란색 사용하다가 핑크색이 향이 더 좋을것 같아서 구매했어요   \n",
       "4  허벌에센스 핑크로즈 샴푸 490ml  비누와 같은 세정력 세장력은 좋은 것 같은데 샴푸 후 머릿결이 조금 뻣뻣한 느낌이 ...   \n",
       "\n",
       "         거품      세정력       자극도        향  두피  \n",
       "0     보통이에요  아주 만족해요     보통이에요    보통이에요 NaN  \n",
       "1  거품이 풍성해요    보통이에요  자극없이 순해요  아주 만족해요 NaN  \n",
       "2  거품이 풍성해요  아주 만족해요  자극없이 순해요  아주 만족해요 NaN  \n",
       "3  거품이 풍성해요    보통이에요  자극없이 순해요    보통이에요 NaN  \n",
       "4  거품이 풍성해요    보통이에요  자극없이 순해요    보통이에요 NaN  "
      ]
     },
     "execution_count": 15,
     "metadata": {},
     "output_type": "execute_result"
    }
   ],
   "source": [
    "data1.head()"
   ]
  },
  {
   "cell_type": "code",
   "execution_count": 17,
   "metadata": {},
   "outputs": [],
   "source": [
    "data2.drop(['Unnamed: 0.1','Unnamed: 0'],axis=1,inplace=True)"
   ]
  },
  {
   "cell_type": "code",
   "execution_count": 18,
   "metadata": {},
   "outputs": [
    {
     "data": {
      "text/plain": [
       "Index(['product', 'review', '거품', '세정력', '자극도', '향', '탈모'], dtype='object')"
      ]
     },
     "execution_count": 18,
     "metadata": {},
     "output_type": "execute_result"
    }
   ],
   "source": [
    "data2.columns"
   ]
  },
  {
   "cell_type": "code",
   "execution_count": 19,
   "metadata": {},
   "outputs": [
    {
     "data": {
      "text/plain": [
       "(19882, 7)"
      ]
     },
     "execution_count": 19,
     "metadata": {},
     "output_type": "execute_result"
    }
   ],
   "source": [
    "data2.shape"
   ]
  },
  {
   "cell_type": "code",
   "execution_count": 20,
   "metadata": {},
   "outputs": [
    {
     "data": {
      "text/plain": [
       "Index(['Unnamed: 0', 'Unnamed: 0.1', 'product', 'review', '세정력', 'cleansing',\n",
       "       '세정gram', '뽀득gram', '세정pos', '뽀득pos', 'pos'],\n",
       "      dtype='object')"
      ]
     },
     "execution_count": 20,
     "metadata": {},
     "output_type": "execute_result"
    }
   ],
   "source": [
    "data3.columns"
   ]
  },
  {
   "cell_type": "code",
   "execution_count": null,
   "metadata": {},
   "outputs": [],
   "source": [
    "data3"
   ]
  },
  {
   "cell_type": "code",
   "execution_count": 22,
   "metadata": {},
   "outputs": [],
   "source": [
    "data3.drop(['Unnamed: 0.1','Unnamed: 0'],axis=1,inplace=True)"
   ]
  },
  {
   "cell_type": "code",
   "execution_count": 23,
   "metadata": {},
   "outputs": [
    {
     "data": {
      "text/plain": [
       "Index(['product', 'review', '세정력', 'cleansing', '세정gram', '뽀득gram', '세정pos',\n",
       "       '뽀득pos', 'pos'],\n",
       "      dtype='object')"
      ]
     },
     "execution_count": 23,
     "metadata": {},
     "output_type": "execute_result"
    }
   ],
   "source": [
    "data3.columns"
   ]
  },
  {
   "cell_type": "code",
   "execution_count": 33,
   "metadata": {},
   "outputs": [
    {
     "data": {
      "text/html": [
       "<div>\n",
       "<style scoped>\n",
       "    .dataframe tbody tr th:only-of-type {\n",
       "        vertical-align: middle;\n",
       "    }\n",
       "\n",
       "    .dataframe tbody tr th {\n",
       "        vertical-align: top;\n",
       "    }\n",
       "\n",
       "    .dataframe thead th {\n",
       "        text-align: right;\n",
       "    }\n",
       "</style>\n",
       "<table border=\"1\" class=\"dataframe\">\n",
       "  <thead>\n",
       "    <tr style=\"text-align: right;\">\n",
       "      <th></th>\n",
       "      <th>product</th>\n",
       "      <th>review</th>\n",
       "      <th>세정력</th>\n",
       "      <th>세정-긍부정</th>\n",
       "    </tr>\n",
       "  </thead>\n",
       "  <tbody>\n",
       "    <tr>\n",
       "      <th>0</th>\n",
       "      <td>허벌에센스 핑크로즈 샴푸 490ml</td>\n",
       "      <td>기존에 상품대비 가격이 부담이었는데 할인율이 높아져서 만족하면서 사용하고 있어요...</td>\n",
       "      <td>아주 만족해요</td>\n",
       "      <td>0</td>\n",
       "    </tr>\n",
       "    <tr>\n",
       "      <th>1</th>\n",
       "      <td>허벌에센스 핑크로즈 샴푸 490ml</td>\n",
       "      <td>뽀득뽀득해요 성분 좋다는 샴푸 쓰다가 거품도 너무 안나고 세정력이 떨어져서 바꿔봤는...</td>\n",
       "      <td>보통이에요</td>\n",
       "      <td>1</td>\n",
       "    </tr>\n",
       "    <tr>\n",
       "      <th>2</th>\n",
       "      <td>허벌에센스 핑크로즈 샴푸 490ml</td>\n",
       "      <td>매번쓰던거입니다 거품도풍넝하고맘에아두듭니다</td>\n",
       "      <td>아주 만족해요</td>\n",
       "      <td>0</td>\n",
       "    </tr>\n",
       "    <tr>\n",
       "      <th>3</th>\n",
       "      <td>허벌에센스 핑크로즈 샴푸 490ml</td>\n",
       "      <td>노란색 사용하다가 핑크색이 향이 더 좋을것 같아서 구매했어요</td>\n",
       "      <td>보통이에요</td>\n",
       "      <td>0</td>\n",
       "    </tr>\n",
       "    <tr>\n",
       "      <th>4</th>\n",
       "      <td>허벌에센스 핑크로즈 샴푸 490ml</td>\n",
       "      <td>비누와 같은 세정력 세장력은 좋은 것 같은데 샴푸 후 머릿결이 조금 뻣뻣한 느낌이 ...</td>\n",
       "      <td>보통이에요</td>\n",
       "      <td>1</td>\n",
       "    </tr>\n",
       "  </tbody>\n",
       "</table>\n",
       "</div>"
      ],
      "text/plain": [
       "               product                                             review  \\\n",
       "0  허벌에센스 핑크로즈 샴푸 490ml    기존에 상품대비 가격이 부담이었는데 할인율이 높아져서 만족하면서 사용하고 있어요...   \n",
       "1  허벌에센스 핑크로즈 샴푸 490ml  뽀득뽀득해요 성분 좋다는 샴푸 쓰다가 거품도 너무 안나고 세정력이 떨어져서 바꿔봤는...   \n",
       "2  허벌에센스 핑크로즈 샴푸 490ml                            매번쓰던거입니다 거품도풍넝하고맘에아두듭니다   \n",
       "3  허벌에센스 핑크로즈 샴푸 490ml                  노란색 사용하다가 핑크색이 향이 더 좋을것 같아서 구매했어요   \n",
       "4  허벌에센스 핑크로즈 샴푸 490ml  비누와 같은 세정력 세장력은 좋은 것 같은데 샴푸 후 머릿결이 조금 뻣뻣한 느낌이 ...   \n",
       "\n",
       "       세정력  세정-긍부정  \n",
       "0  아주 만족해요       0  \n",
       "1    보통이에요       1  \n",
       "2  아주 만족해요       0  \n",
       "3    보통이에요       0  \n",
       "4    보통이에요       1  "
      ]
     },
     "execution_count": 33,
     "metadata": {},
     "output_type": "execute_result"
    }
   ],
   "source": [
    "data3.head()"
   ]
  },
  {
   "cell_type": "code",
   "execution_count": 25,
   "metadata": {},
   "outputs": [],
   "source": [
    "data3.drop(['세정gram','뽀득gram','세정pos','뽀득pos'],axis=1,inplace=True)"
   ]
  },
  {
   "cell_type": "code",
   "execution_count": 29,
   "metadata": {},
   "outputs": [],
   "source": [
    "data3.drop(['cleansing'],axis=1,inplace=True)"
   ]
  },
  {
   "cell_type": "code",
   "execution_count": 30,
   "metadata": {},
   "outputs": [
    {
     "data": {
      "text/plain": [
       "(19896, 4)"
      ]
     },
     "execution_count": 30,
     "metadata": {},
     "output_type": "execute_result"
    }
   ],
   "source": [
    "data3.shape"
   ]
  },
  {
   "cell_type": "code",
   "execution_count": 32,
   "metadata": {},
   "outputs": [],
   "source": [
    "data3.rename(columns={\"pos\":\"세정-긍부정\"}, inplace = True)"
   ]
  },
  {
   "cell_type": "code",
   "execution_count": 34,
   "metadata": {},
   "outputs": [
    {
     "data": {
      "text/plain": [
       "Index(['Unnamed: 0', 'index', 'product', 'review', '거품', '세정력', '자극도', '향',\n",
       "       'hair_review', 'point'],\n",
       "      dtype='object')"
      ]
     },
     "execution_count": 34,
     "metadata": {},
     "output_type": "execute_result"
    }
   ],
   "source": [
    "data4.columns"
   ]
  },
  {
   "cell_type": "code",
   "execution_count": 35,
   "metadata": {},
   "outputs": [],
   "source": [
    "data4.drop(['Unnamed: 0'],axis=1,inplace=True)"
   ]
  },
  {
   "cell_type": "code",
   "execution_count": 36,
   "metadata": {},
   "outputs": [],
   "source": [
    "data4.drop(['index'],axis=1,inplace=True)"
   ]
  },
  {
   "cell_type": "code",
   "execution_count": 37,
   "metadata": {},
   "outputs": [],
   "source": [
    "data4.drop(['hair_review'],axis=1,inplace=True)"
   ]
  },
  {
   "cell_type": "code",
   "execution_count": 38,
   "metadata": {},
   "outputs": [],
   "source": [
    "data4.rename(columns={\"point\":\"머릿결\"}, inplace = True)"
   ]
  },
  {
   "cell_type": "code",
   "execution_count": 39,
   "metadata": {},
   "outputs": [
    {
     "data": {
      "text/plain": [
       "(19896, 7)"
      ]
     },
     "execution_count": 39,
     "metadata": {},
     "output_type": "execute_result"
    }
   ],
   "source": [
    "data4.shape"
   ]
  },
  {
   "cell_type": "code",
   "execution_count": 40,
   "metadata": {},
   "outputs": [
    {
     "data": {
      "text/html": [
       "<div>\n",
       "<style scoped>\n",
       "    .dataframe tbody tr th:only-of-type {\n",
       "        vertical-align: middle;\n",
       "    }\n",
       "\n",
       "    .dataframe tbody tr th {\n",
       "        vertical-align: top;\n",
       "    }\n",
       "\n",
       "    .dataframe thead th {\n",
       "        text-align: right;\n",
       "    }\n",
       "</style>\n",
       "<table border=\"1\" class=\"dataframe\">\n",
       "  <thead>\n",
       "    <tr style=\"text-align: right;\">\n",
       "      <th></th>\n",
       "      <th>product</th>\n",
       "      <th>review</th>\n",
       "      <th>거품</th>\n",
       "      <th>세정력</th>\n",
       "      <th>자극도</th>\n",
       "      <th>향</th>\n",
       "      <th>머릿결</th>\n",
       "    </tr>\n",
       "  </thead>\n",
       "  <tbody>\n",
       "    <tr>\n",
       "      <th>0</th>\n",
       "      <td>허벌에센스 핑크로즈 샴푸 490ml</td>\n",
       "      <td>기존에 상품대비 가격이 부담이었는데 할인율이 높아져서 만족하면서 사용하고 있어요...</td>\n",
       "      <td>보통이에요</td>\n",
       "      <td>아주 만족해요</td>\n",
       "      <td>보통이에요</td>\n",
       "      <td>보통이에요</td>\n",
       "      <td>NaN</td>\n",
       "    </tr>\n",
       "    <tr>\n",
       "      <th>1</th>\n",
       "      <td>허벌에센스 핑크로즈 샴푸 490ml</td>\n",
       "      <td>뽀득뽀득해요 성분 좋다는 샴푸 쓰다가 거품도 너무 안나고 세정력이 떨어져서 바꿔봤는...</td>\n",
       "      <td>거품이 풍성해요</td>\n",
       "      <td>보통이에요</td>\n",
       "      <td>자극없이 순해요</td>\n",
       "      <td>아주 만족해요</td>\n",
       "      <td>NaN</td>\n",
       "    </tr>\n",
       "    <tr>\n",
       "      <th>2</th>\n",
       "      <td>허벌에센스 핑크로즈 샴푸 490ml</td>\n",
       "      <td>매번쓰던거입니다 거품도풍넝하고맘에아두듭니다</td>\n",
       "      <td>거품이 풍성해요</td>\n",
       "      <td>아주 만족해요</td>\n",
       "      <td>자극없이 순해요</td>\n",
       "      <td>아주 만족해요</td>\n",
       "      <td>NaN</td>\n",
       "    </tr>\n",
       "    <tr>\n",
       "      <th>3</th>\n",
       "      <td>허벌에센스 핑크로즈 샴푸 490ml</td>\n",
       "      <td>노란색 사용하다가 핑크색이 향이 더 좋을것 같아서 구매했어요</td>\n",
       "      <td>거품이 풍성해요</td>\n",
       "      <td>보통이에요</td>\n",
       "      <td>자극없이 순해요</td>\n",
       "      <td>보통이에요</td>\n",
       "      <td>NaN</td>\n",
       "    </tr>\n",
       "    <tr>\n",
       "      <th>4</th>\n",
       "      <td>허벌에센스 핑크로즈 샴푸 490ml</td>\n",
       "      <td>비누와 같은 세정력 세장력은 좋은 것 같은데 샴푸 후 머릿결이 조금 뻣뻣한 느낌이 ...</td>\n",
       "      <td>거품이 풍성해요</td>\n",
       "      <td>보통이에요</td>\n",
       "      <td>자극없이 순해요</td>\n",
       "      <td>보통이에요</td>\n",
       "      <td>0.0</td>\n",
       "    </tr>\n",
       "  </tbody>\n",
       "</table>\n",
       "</div>"
      ],
      "text/plain": [
       "               product                                             review  \\\n",
       "0  허벌에센스 핑크로즈 샴푸 490ml    기존에 상품대비 가격이 부담이었는데 할인율이 높아져서 만족하면서 사용하고 있어요...   \n",
       "1  허벌에센스 핑크로즈 샴푸 490ml  뽀득뽀득해요 성분 좋다는 샴푸 쓰다가 거품도 너무 안나고 세정력이 떨어져서 바꿔봤는...   \n",
       "2  허벌에센스 핑크로즈 샴푸 490ml                            매번쓰던거입니다 거품도풍넝하고맘에아두듭니다   \n",
       "3  허벌에센스 핑크로즈 샴푸 490ml                  노란색 사용하다가 핑크색이 향이 더 좋을것 같아서 구매했어요   \n",
       "4  허벌에센스 핑크로즈 샴푸 490ml  비누와 같은 세정력 세장력은 좋은 것 같은데 샴푸 후 머릿결이 조금 뻣뻣한 느낌이 ...   \n",
       "\n",
       "         거품      세정력       자극도        향  머릿결  \n",
       "0     보통이에요  아주 만족해요     보통이에요    보통이에요  NaN  \n",
       "1  거품이 풍성해요    보통이에요  자극없이 순해요  아주 만족해요  NaN  \n",
       "2  거품이 풍성해요  아주 만족해요  자극없이 순해요  아주 만족해요  NaN  \n",
       "3  거품이 풍성해요    보통이에요  자극없이 순해요    보통이에요  NaN  \n",
       "4  거품이 풍성해요    보통이에요  자극없이 순해요    보통이에요  0.0  "
      ]
     },
     "execution_count": 40,
     "metadata": {},
     "output_type": "execute_result"
    }
   ],
   "source": [
    "data4.head()"
   ]
  },
  {
   "cell_type": "code",
   "execution_count": null,
   "metadata": {},
   "outputs": [],
   "source": []
  },
  {
   "cell_type": "code",
   "execution_count": 42,
   "metadata": {},
   "outputs": [],
   "source": [
    "data5.drop(['Unnamed: 0'],axis=1,inplace=True)"
   ]
  },
  {
   "cell_type": "code",
   "execution_count": 43,
   "metadata": {},
   "outputs": [],
   "source": [
    "data5.drop(['index'],axis=1,inplace=True)"
   ]
  },
  {
   "cell_type": "code",
   "execution_count": 44,
   "metadata": {},
   "outputs": [
    {
     "data": {
      "text/plain": [
       "(19896, 8)"
      ]
     },
     "execution_count": 44,
     "metadata": {},
     "output_type": "execute_result"
    }
   ],
   "source": [
    "data5.shape"
   ]
  },
  {
   "cell_type": "code",
   "execution_count": 46,
   "metadata": {},
   "outputs": [],
   "source": [
    "data5.rename(columns={\"neg_0\":\"거품-긍/부정\"}, inplace = True)"
   ]
  },
  {
   "cell_type": "code",
   "execution_count": 83,
   "metadata": {},
   "outputs": [],
   "source": [
    "#data5.rename(columns={\"향-긍/부정\":\"향\"}, inplace = True)"
   ]
  },
  {
   "cell_type": "code",
   "execution_count": 47,
   "metadata": {},
   "outputs": [],
   "source": [
    "data5.drop(['거품포함'],axis=1,inplace=True)"
   ]
  },
  {
   "cell_type": "code",
   "execution_count": 48,
   "metadata": {},
   "outputs": [
    {
     "data": {
      "text/html": [
       "<div>\n",
       "<style scoped>\n",
       "    .dataframe tbody tr th:only-of-type {\n",
       "        vertical-align: middle;\n",
       "    }\n",
       "\n",
       "    .dataframe tbody tr th {\n",
       "        vertical-align: top;\n",
       "    }\n",
       "\n",
       "    .dataframe thead th {\n",
       "        text-align: right;\n",
       "    }\n",
       "</style>\n",
       "<table border=\"1\" class=\"dataframe\">\n",
       "  <thead>\n",
       "    <tr style=\"text-align: right;\">\n",
       "      <th></th>\n",
       "      <th>product</th>\n",
       "      <th>review</th>\n",
       "      <th>거품</th>\n",
       "      <th>세정력</th>\n",
       "      <th>자극도</th>\n",
       "      <th>향</th>\n",
       "      <th>거품-긍/부정</th>\n",
       "    </tr>\n",
       "  </thead>\n",
       "  <tbody>\n",
       "    <tr>\n",
       "      <th>0</th>\n",
       "      <td>허벌에센스 핑크로즈 샴푸 490ml</td>\n",
       "      <td>기존에 상품대비 가격이 부담이었는데 할인율이 높아져서 만족하면서 사용하고 있어요...</td>\n",
       "      <td>보통이에요</td>\n",
       "      <td>아주 만족해요</td>\n",
       "      <td>보통이에요</td>\n",
       "      <td>보통이에요</td>\n",
       "      <td>NaN</td>\n",
       "    </tr>\n",
       "    <tr>\n",
       "      <th>1</th>\n",
       "      <td>허벌에센스 핑크로즈 샴푸 490ml</td>\n",
       "      <td>뽀득뽀득해요 성분 좋다는 샴푸 쓰다가 거품도 너무 안나고 세정력이 떨어져서 바꿔봤는...</td>\n",
       "      <td>거품이 풍성해요</td>\n",
       "      <td>보통이에요</td>\n",
       "      <td>자극없이 순해요</td>\n",
       "      <td>아주 만족해요</td>\n",
       "      <td>0.0</td>\n",
       "    </tr>\n",
       "    <tr>\n",
       "      <th>2</th>\n",
       "      <td>허벌에센스 핑크로즈 샴푸 490ml</td>\n",
       "      <td>매번쓰던거입니다 거품도풍넝하고맘에아두듭니다</td>\n",
       "      <td>거품이 풍성해요</td>\n",
       "      <td>아주 만족해요</td>\n",
       "      <td>자극없이 순해요</td>\n",
       "      <td>아주 만족해요</td>\n",
       "      <td>1.0</td>\n",
       "    </tr>\n",
       "    <tr>\n",
       "      <th>3</th>\n",
       "      <td>허벌에센스 핑크로즈 샴푸 490ml</td>\n",
       "      <td>노란색 사용하다가 핑크색이 향이 더 좋을것 같아서 구매했어요</td>\n",
       "      <td>거품이 풍성해요</td>\n",
       "      <td>보통이에요</td>\n",
       "      <td>자극없이 순해요</td>\n",
       "      <td>보통이에요</td>\n",
       "      <td>NaN</td>\n",
       "    </tr>\n",
       "    <tr>\n",
       "      <th>4</th>\n",
       "      <td>허벌에센스 핑크로즈 샴푸 490ml</td>\n",
       "      <td>비누와 같은 세정력 세장력은 좋은 것 같은데 샴푸 후 머릿결이 조금 뻣뻣한 느낌이 ...</td>\n",
       "      <td>거품이 풍성해요</td>\n",
       "      <td>보통이에요</td>\n",
       "      <td>자극없이 순해요</td>\n",
       "      <td>보통이에요</td>\n",
       "      <td>NaN</td>\n",
       "    </tr>\n",
       "  </tbody>\n",
       "</table>\n",
       "</div>"
      ],
      "text/plain": [
       "               product                                             review  \\\n",
       "0  허벌에센스 핑크로즈 샴푸 490ml    기존에 상품대비 가격이 부담이었는데 할인율이 높아져서 만족하면서 사용하고 있어요...   \n",
       "1  허벌에센스 핑크로즈 샴푸 490ml  뽀득뽀득해요 성분 좋다는 샴푸 쓰다가 거품도 너무 안나고 세정력이 떨어져서 바꿔봤는...   \n",
       "2  허벌에센스 핑크로즈 샴푸 490ml                            매번쓰던거입니다 거품도풍넝하고맘에아두듭니다   \n",
       "3  허벌에센스 핑크로즈 샴푸 490ml                  노란색 사용하다가 핑크색이 향이 더 좋을것 같아서 구매했어요   \n",
       "4  허벌에센스 핑크로즈 샴푸 490ml  비누와 같은 세정력 세장력은 좋은 것 같은데 샴푸 후 머릿결이 조금 뻣뻣한 느낌이 ...   \n",
       "\n",
       "         거품      세정력       자극도        향  거품-긍/부정  \n",
       "0     보통이에요  아주 만족해요     보통이에요    보통이에요      NaN  \n",
       "1  거품이 풍성해요    보통이에요  자극없이 순해요  아주 만족해요      0.0  \n",
       "2  거품이 풍성해요  아주 만족해요  자극없이 순해요  아주 만족해요      1.0  \n",
       "3  거품이 풍성해요    보통이에요  자극없이 순해요    보통이에요      NaN  \n",
       "4  거품이 풍성해요    보통이에요  자극없이 순해요    보통이에요      NaN  "
      ]
     },
     "execution_count": 48,
     "metadata": {},
     "output_type": "execute_result"
    }
   ],
   "source": [
    "data5.head()"
   ]
  },
  {
   "cell_type": "code",
   "execution_count": 69,
   "metadata": {},
   "outputs": [],
   "source": [
    "data6 = pd.read_excel('./shampoo/향_긍부정_이혜민.xlsx')"
   ]
  },
  {
   "cell_type": "code",
   "execution_count": 50,
   "metadata": {},
   "outputs": [],
   "source": [
    "data6.drop(['Unnamed: 0.1','Unnamed: 0'],axis=1,inplace=True)"
   ]
  },
  {
   "cell_type": "code",
   "execution_count": 51,
   "metadata": {},
   "outputs": [],
   "source": [
    "data6.drop(['review_text','review_word','review_word2'],axis=1,inplace=True)"
   ]
  },
  {
   "cell_type": "code",
   "execution_count": 52,
   "metadata": {},
   "outputs": [
    {
     "data": {
      "text/plain": [
       "(19896, 7)"
      ]
     },
     "execution_count": 52,
     "metadata": {},
     "output_type": "execute_result"
    }
   ],
   "source": [
    "data6.shape"
   ]
  },
  {
   "cell_type": "code",
   "execution_count": 53,
   "metadata": {},
   "outputs": [],
   "source": [
    "data6.rename(columns={\"pos/neg\":\"향-긍/부정\"}, inplace = True)"
   ]
  },
  {
   "cell_type": "code",
   "execution_count": 54,
   "metadata": {},
   "outputs": [
    {
     "data": {
      "text/html": [
       "<div>\n",
       "<style scoped>\n",
       "    .dataframe tbody tr th:only-of-type {\n",
       "        vertical-align: middle;\n",
       "    }\n",
       "\n",
       "    .dataframe tbody tr th {\n",
       "        vertical-align: top;\n",
       "    }\n",
       "\n",
       "    .dataframe thead th {\n",
       "        text-align: right;\n",
       "    }\n",
       "</style>\n",
       "<table border=\"1\" class=\"dataframe\">\n",
       "  <thead>\n",
       "    <tr style=\"text-align: right;\">\n",
       "      <th></th>\n",
       "      <th>product</th>\n",
       "      <th>review</th>\n",
       "      <th>거품</th>\n",
       "      <th>세정력</th>\n",
       "      <th>자극도</th>\n",
       "      <th>향</th>\n",
       "      <th>향-긍/부정</th>\n",
       "    </tr>\n",
       "  </thead>\n",
       "  <tbody>\n",
       "    <tr>\n",
       "      <th>0</th>\n",
       "      <td>허벌에센스 핑크로즈 샴푸 490ml</td>\n",
       "      <td>기존에 상품대비 가격이 부담이었는데 할인율이 높아져서 만족하면서 사용하고 있어요...</td>\n",
       "      <td>보통이에요</td>\n",
       "      <td>아주 만족해요</td>\n",
       "      <td>보통이에요</td>\n",
       "      <td>보통이에요</td>\n",
       "      <td>NaN</td>\n",
       "    </tr>\n",
       "    <tr>\n",
       "      <th>1</th>\n",
       "      <td>허벌에센스 핑크로즈 샴푸 490ml</td>\n",
       "      <td>뽀득뽀득해요 성분 좋다는 샴푸 쓰다가 거품도 너무 안나고 세정력이 떨어져서 바꿔봤는...</td>\n",
       "      <td>거품이 풍성해요</td>\n",
       "      <td>보통이에요</td>\n",
       "      <td>자극없이 순해요</td>\n",
       "      <td>아주 만족해요</td>\n",
       "      <td>NaN</td>\n",
       "    </tr>\n",
       "    <tr>\n",
       "      <th>2</th>\n",
       "      <td>허벌에센스 핑크로즈 샴푸 490ml</td>\n",
       "      <td>매번쓰던거입니다 거품도풍넝하고맘에아두듭니다</td>\n",
       "      <td>거품이 풍성해요</td>\n",
       "      <td>아주 만족해요</td>\n",
       "      <td>자극없이 순해요</td>\n",
       "      <td>아주 만족해요</td>\n",
       "      <td>NaN</td>\n",
       "    </tr>\n",
       "    <tr>\n",
       "      <th>3</th>\n",
       "      <td>허벌에센스 핑크로즈 샴푸 490ml</td>\n",
       "      <td>노란색 사용하다가 핑크색이 향이 더 좋을것 같아서 구매했어요</td>\n",
       "      <td>거품이 풍성해요</td>\n",
       "      <td>보통이에요</td>\n",
       "      <td>자극없이 순해요</td>\n",
       "      <td>보통이에요</td>\n",
       "      <td>1.0</td>\n",
       "    </tr>\n",
       "    <tr>\n",
       "      <th>4</th>\n",
       "      <td>허벌에센스 핑크로즈 샴푸 490ml</td>\n",
       "      <td>비누와 같은 세정력 세장력은 좋은 것 같은데 샴푸 후 머릿결이 조금 뻣뻣한 느낌이 ...</td>\n",
       "      <td>거품이 풍성해요</td>\n",
       "      <td>보통이에요</td>\n",
       "      <td>자극없이 순해요</td>\n",
       "      <td>보통이에요</td>\n",
       "      <td>NaN</td>\n",
       "    </tr>\n",
       "  </tbody>\n",
       "</table>\n",
       "</div>"
      ],
      "text/plain": [
       "               product                                             review  \\\n",
       "0  허벌에센스 핑크로즈 샴푸 490ml    기존에 상품대비 가격이 부담이었는데 할인율이 높아져서 만족하면서 사용하고 있어요...   \n",
       "1  허벌에센스 핑크로즈 샴푸 490ml  뽀득뽀득해요 성분 좋다는 샴푸 쓰다가 거품도 너무 안나고 세정력이 떨어져서 바꿔봤는...   \n",
       "2  허벌에센스 핑크로즈 샴푸 490ml                            매번쓰던거입니다 거품도풍넝하고맘에아두듭니다   \n",
       "3  허벌에센스 핑크로즈 샴푸 490ml                  노란색 사용하다가 핑크색이 향이 더 좋을것 같아서 구매했어요   \n",
       "4  허벌에센스 핑크로즈 샴푸 490ml  비누와 같은 세정력 세장력은 좋은 것 같은데 샴푸 후 머릿결이 조금 뻣뻣한 느낌이 ...   \n",
       "\n",
       "         거품      세정력       자극도        향  향-긍/부정  \n",
       "0     보통이에요  아주 만족해요     보통이에요    보통이에요     NaN  \n",
       "1  거품이 풍성해요    보통이에요  자극없이 순해요  아주 만족해요     NaN  \n",
       "2  거품이 풍성해요  아주 만족해요  자극없이 순해요  아주 만족해요     NaN  \n",
       "3  거품이 풍성해요    보통이에요  자극없이 순해요    보통이에요     1.0  \n",
       "4  거품이 풍성해요    보통이에요  자극없이 순해요    보통이에요     NaN  "
      ]
     },
     "execution_count": 54,
     "metadata": {},
     "output_type": "execute_result"
    }
   ],
   "source": [
    "data6.head()"
   ]
  },
  {
   "cell_type": "code",
   "execution_count": 55,
   "metadata": {},
   "outputs": [
    {
     "data": {
      "text/plain": [
       "Index(['product', 'review', '거품', '세정력', '자극도', '향', '향-긍/부정'], dtype='object')"
      ]
     },
     "execution_count": 55,
     "metadata": {},
     "output_type": "execute_result"
    }
   ],
   "source": [
    "data6.columns"
   ]
  },
  {
   "cell_type": "code",
   "execution_count": 56,
   "metadata": {},
   "outputs": [
    {
     "name": "stdout",
     "output_type": "stream",
     "text": [
      "Index(['product', 'review', '거품', '세정력', '자극도', '향', '두피'], dtype='object')\n",
      "Index(['product', 'review', '세정력', '세정-긍부정'], dtype='object')\n",
      "Index(['product', 'review', '거품', '세정력', '자극도', '향', '머릿결'], dtype='object')\n",
      "Index(['product', 'review', '거품', '세정력', '자극도', '향', '거품-긍/부정'], dtype='object')\n",
      "Index(['product', 'review', '거품', '세정력', '자극도', '향', '향-긍/부정'], dtype='object')\n",
      "(19896, 7)\n",
      "(19896, 4)\n",
      "(19896, 7)\n",
      "(19896, 7)\n",
      "(19896, 7)\n"
     ]
    }
   ],
   "source": [
    "print(data1.columns)\n",
    "print(data3.columns)\n",
    "print(data4.columns)\n",
    "print(data5.columns)\n",
    "print(data6.columns)\n",
    "\n",
    "\n",
    "print(data1.shape)\n",
    "print(data3.shape)\n",
    "print(data4.shape)\n",
    "print(data5.shape)\n",
    "print(data6.shape)"
   ]
  },
  {
   "cell_type": "code",
   "execution_count": 58,
   "metadata": {},
   "outputs": [],
   "source": [
    "final_score = pd.concat([data1,data3['세정-긍부정'],data4['머릿결'],data5['거품-긍/부정'],data6['향-긍/부정']],axis=1)"
   ]
  },
  {
   "cell_type": "code",
   "execution_count": 59,
   "metadata": {},
   "outputs": [
    {
     "data": {
      "text/plain": [
       "(19896, 11)"
      ]
     },
     "execution_count": 59,
     "metadata": {},
     "output_type": "execute_result"
    }
   ],
   "source": [
    "final_score.shape"
   ]
  },
  {
   "cell_type": "code",
   "execution_count": 60,
   "metadata": {},
   "outputs": [
    {
     "data": {
      "text/html": [
       "<div>\n",
       "<style scoped>\n",
       "    .dataframe tbody tr th:only-of-type {\n",
       "        vertical-align: middle;\n",
       "    }\n",
       "\n",
       "    .dataframe tbody tr th {\n",
       "        vertical-align: top;\n",
       "    }\n",
       "\n",
       "    .dataframe thead th {\n",
       "        text-align: right;\n",
       "    }\n",
       "</style>\n",
       "<table border=\"1\" class=\"dataframe\">\n",
       "  <thead>\n",
       "    <tr style=\"text-align: right;\">\n",
       "      <th></th>\n",
       "      <th>product</th>\n",
       "      <th>review</th>\n",
       "      <th>거품</th>\n",
       "      <th>세정력</th>\n",
       "      <th>자극도</th>\n",
       "      <th>향</th>\n",
       "      <th>두피</th>\n",
       "      <th>세정-긍부정</th>\n",
       "      <th>머릿결</th>\n",
       "      <th>거품-긍/부정</th>\n",
       "      <th>향-긍/부정</th>\n",
       "    </tr>\n",
       "  </thead>\n",
       "  <tbody>\n",
       "    <tr>\n",
       "      <th>0</th>\n",
       "      <td>허벌에센스 핑크로즈 샴푸 490ml</td>\n",
       "      <td>기존에 상품대비 가격이 부담이었는데 할인율이 높아져서 만족하면서 사용하고 있어요...</td>\n",
       "      <td>보통이에요</td>\n",
       "      <td>아주 만족해요</td>\n",
       "      <td>보통이에요</td>\n",
       "      <td>보통이에요</td>\n",
       "      <td>NaN</td>\n",
       "      <td>0</td>\n",
       "      <td>NaN</td>\n",
       "      <td>NaN</td>\n",
       "      <td>NaN</td>\n",
       "    </tr>\n",
       "    <tr>\n",
       "      <th>1</th>\n",
       "      <td>허벌에센스 핑크로즈 샴푸 490ml</td>\n",
       "      <td>뽀득뽀득해요 성분 좋다는 샴푸 쓰다가 거품도 너무 안나고 세정력이 떨어져서 바꿔봤는...</td>\n",
       "      <td>거품이 풍성해요</td>\n",
       "      <td>보통이에요</td>\n",
       "      <td>자극없이 순해요</td>\n",
       "      <td>아주 만족해요</td>\n",
       "      <td>NaN</td>\n",
       "      <td>1</td>\n",
       "      <td>NaN</td>\n",
       "      <td>0.0</td>\n",
       "      <td>NaN</td>\n",
       "    </tr>\n",
       "    <tr>\n",
       "      <th>2</th>\n",
       "      <td>허벌에센스 핑크로즈 샴푸 490ml</td>\n",
       "      <td>매번쓰던거입니다 거품도풍넝하고맘에아두듭니다</td>\n",
       "      <td>거품이 풍성해요</td>\n",
       "      <td>아주 만족해요</td>\n",
       "      <td>자극없이 순해요</td>\n",
       "      <td>아주 만족해요</td>\n",
       "      <td>NaN</td>\n",
       "      <td>0</td>\n",
       "      <td>NaN</td>\n",
       "      <td>1.0</td>\n",
       "      <td>NaN</td>\n",
       "    </tr>\n",
       "    <tr>\n",
       "      <th>3</th>\n",
       "      <td>허벌에센스 핑크로즈 샴푸 490ml</td>\n",
       "      <td>노란색 사용하다가 핑크색이 향이 더 좋을것 같아서 구매했어요</td>\n",
       "      <td>거품이 풍성해요</td>\n",
       "      <td>보통이에요</td>\n",
       "      <td>자극없이 순해요</td>\n",
       "      <td>보통이에요</td>\n",
       "      <td>NaN</td>\n",
       "      <td>0</td>\n",
       "      <td>NaN</td>\n",
       "      <td>NaN</td>\n",
       "      <td>1.0</td>\n",
       "    </tr>\n",
       "    <tr>\n",
       "      <th>4</th>\n",
       "      <td>허벌에센스 핑크로즈 샴푸 490ml</td>\n",
       "      <td>비누와 같은 세정력 세장력은 좋은 것 같은데 샴푸 후 머릿결이 조금 뻣뻣한 느낌이 ...</td>\n",
       "      <td>거품이 풍성해요</td>\n",
       "      <td>보통이에요</td>\n",
       "      <td>자극없이 순해요</td>\n",
       "      <td>보통이에요</td>\n",
       "      <td>NaN</td>\n",
       "      <td>1</td>\n",
       "      <td>0.0</td>\n",
       "      <td>NaN</td>\n",
       "      <td>NaN</td>\n",
       "    </tr>\n",
       "  </tbody>\n",
       "</table>\n",
       "</div>"
      ],
      "text/plain": [
       "               product                                             review  \\\n",
       "0  허벌에센스 핑크로즈 샴푸 490ml    기존에 상품대비 가격이 부담이었는데 할인율이 높아져서 만족하면서 사용하고 있어요...   \n",
       "1  허벌에센스 핑크로즈 샴푸 490ml  뽀득뽀득해요 성분 좋다는 샴푸 쓰다가 거품도 너무 안나고 세정력이 떨어져서 바꿔봤는...   \n",
       "2  허벌에센스 핑크로즈 샴푸 490ml                            매번쓰던거입니다 거품도풍넝하고맘에아두듭니다   \n",
       "3  허벌에센스 핑크로즈 샴푸 490ml                  노란색 사용하다가 핑크색이 향이 더 좋을것 같아서 구매했어요   \n",
       "4  허벌에센스 핑크로즈 샴푸 490ml  비누와 같은 세정력 세장력은 좋은 것 같은데 샴푸 후 머릿결이 조금 뻣뻣한 느낌이 ...   \n",
       "\n",
       "         거품      세정력       자극도        향  두피  세정-긍부정  머릿결  거품-긍/부정  향-긍/부정  \n",
       "0     보통이에요  아주 만족해요     보통이에요    보통이에요 NaN       0  NaN      NaN     NaN  \n",
       "1  거품이 풍성해요    보통이에요  자극없이 순해요  아주 만족해요 NaN       1  NaN      0.0     NaN  \n",
       "2  거품이 풍성해요  아주 만족해요  자극없이 순해요  아주 만족해요 NaN       0  NaN      1.0     NaN  \n",
       "3  거품이 풍성해요    보통이에요  자극없이 순해요    보통이에요 NaN       0  NaN      NaN     1.0  \n",
       "4  거품이 풍성해요    보통이에요  자극없이 순해요    보통이에요 NaN       1  0.0      NaN     NaN  "
      ]
     },
     "execution_count": 60,
     "metadata": {},
     "output_type": "execute_result"
    }
   ],
   "source": [
    "final_score.head()"
   ]
  },
  {
   "cell_type": "code",
   "execution_count": 61,
   "metadata": {},
   "outputs": [],
   "source": [
    "final_score_2 = final_score.dropna(subset=['review'])"
   ]
  },
  {
   "cell_type": "code",
   "execution_count": 62,
   "metadata": {},
   "outputs": [
    {
     "data": {
      "text/plain": [
       "(19882, 11)"
      ]
     },
     "execution_count": 62,
     "metadata": {},
     "output_type": "execute_result"
    }
   ],
   "source": [
    "final_score_2.shape"
   ]
  },
  {
   "cell_type": "code",
   "execution_count": 63,
   "metadata": {},
   "outputs": [],
   "source": [
    "final_1030 = pd.concat([final_score_2,data2['탈모']],axis=1)"
   ]
  },
  {
   "cell_type": "code",
   "execution_count": 64,
   "metadata": {},
   "outputs": [
    {
     "data": {
      "text/plain": [
       "(19882, 7)"
      ]
     },
     "execution_count": 64,
     "metadata": {},
     "output_type": "execute_result"
    }
   ],
   "source": [
    "data2.shape"
   ]
  },
  {
   "cell_type": "code",
   "execution_count": 65,
   "metadata": {},
   "outputs": [
    {
     "data": {
      "text/plain": [
       "(19896, 12)"
      ]
     },
     "execution_count": 65,
     "metadata": {},
     "output_type": "execute_result"
    }
   ],
   "source": [
    "final_1030.shape"
   ]
  },
  {
   "cell_type": "code",
   "execution_count": 66,
   "metadata": {},
   "outputs": [
    {
     "data": {
      "text/html": [
       "<div>\n",
       "<style scoped>\n",
       "    .dataframe tbody tr th:only-of-type {\n",
       "        vertical-align: middle;\n",
       "    }\n",
       "\n",
       "    .dataframe tbody tr th {\n",
       "        vertical-align: top;\n",
       "    }\n",
       "\n",
       "    .dataframe thead th {\n",
       "        text-align: right;\n",
       "    }\n",
       "</style>\n",
       "<table border=\"1\" class=\"dataframe\">\n",
       "  <thead>\n",
       "    <tr style=\"text-align: right;\">\n",
       "      <th></th>\n",
       "      <th>product</th>\n",
       "      <th>review</th>\n",
       "      <th>거품</th>\n",
       "      <th>세정력</th>\n",
       "      <th>자극도</th>\n",
       "      <th>향</th>\n",
       "      <th>두피</th>\n",
       "      <th>세정-긍부정</th>\n",
       "      <th>머릿결</th>\n",
       "      <th>거품-긍/부정</th>\n",
       "      <th>향-긍/부정</th>\n",
       "      <th>탈모</th>\n",
       "    </tr>\n",
       "  </thead>\n",
       "  <tbody>\n",
       "    <tr>\n",
       "      <th>0</th>\n",
       "      <td>허벌에센스 핑크로즈 샴푸 490ml</td>\n",
       "      <td>기존에 상품대비 가격이 부담이었는데 할인율이 높아져서 만족하면서 사용하고 있어요...</td>\n",
       "      <td>보통이에요</td>\n",
       "      <td>아주 만족해요</td>\n",
       "      <td>보통이에요</td>\n",
       "      <td>보통이에요</td>\n",
       "      <td>NaN</td>\n",
       "      <td>0.0</td>\n",
       "      <td>NaN</td>\n",
       "      <td>NaN</td>\n",
       "      <td>NaN</td>\n",
       "      <td>NaN</td>\n",
       "    </tr>\n",
       "    <tr>\n",
       "      <th>1</th>\n",
       "      <td>허벌에센스 핑크로즈 샴푸 490ml</td>\n",
       "      <td>뽀득뽀득해요 성분 좋다는 샴푸 쓰다가 거품도 너무 안나고 세정력이 떨어져서 바꿔봤는...</td>\n",
       "      <td>거품이 풍성해요</td>\n",
       "      <td>보통이에요</td>\n",
       "      <td>자극없이 순해요</td>\n",
       "      <td>아주 만족해요</td>\n",
       "      <td>NaN</td>\n",
       "      <td>1.0</td>\n",
       "      <td>NaN</td>\n",
       "      <td>0.0</td>\n",
       "      <td>NaN</td>\n",
       "      <td>NaN</td>\n",
       "    </tr>\n",
       "    <tr>\n",
       "      <th>2</th>\n",
       "      <td>허벌에센스 핑크로즈 샴푸 490ml</td>\n",
       "      <td>매번쓰던거입니다 거품도풍넝하고맘에아두듭니다</td>\n",
       "      <td>거품이 풍성해요</td>\n",
       "      <td>아주 만족해요</td>\n",
       "      <td>자극없이 순해요</td>\n",
       "      <td>아주 만족해요</td>\n",
       "      <td>NaN</td>\n",
       "      <td>0.0</td>\n",
       "      <td>NaN</td>\n",
       "      <td>1.0</td>\n",
       "      <td>NaN</td>\n",
       "      <td>NaN</td>\n",
       "    </tr>\n",
       "    <tr>\n",
       "      <th>3</th>\n",
       "      <td>허벌에센스 핑크로즈 샴푸 490ml</td>\n",
       "      <td>노란색 사용하다가 핑크색이 향이 더 좋을것 같아서 구매했어요</td>\n",
       "      <td>거품이 풍성해요</td>\n",
       "      <td>보통이에요</td>\n",
       "      <td>자극없이 순해요</td>\n",
       "      <td>보통이에요</td>\n",
       "      <td>NaN</td>\n",
       "      <td>0.0</td>\n",
       "      <td>NaN</td>\n",
       "      <td>NaN</td>\n",
       "      <td>1.0</td>\n",
       "      <td>NaN</td>\n",
       "    </tr>\n",
       "    <tr>\n",
       "      <th>4</th>\n",
       "      <td>허벌에센스 핑크로즈 샴푸 490ml</td>\n",
       "      <td>비누와 같은 세정력 세장력은 좋은 것 같은데 샴푸 후 머릿결이 조금 뻣뻣한 느낌이 ...</td>\n",
       "      <td>거품이 풍성해요</td>\n",
       "      <td>보통이에요</td>\n",
       "      <td>자극없이 순해요</td>\n",
       "      <td>보통이에요</td>\n",
       "      <td>NaN</td>\n",
       "      <td>1.0</td>\n",
       "      <td>0.0</td>\n",
       "      <td>NaN</td>\n",
       "      <td>NaN</td>\n",
       "      <td>NaN</td>\n",
       "    </tr>\n",
       "  </tbody>\n",
       "</table>\n",
       "</div>"
      ],
      "text/plain": [
       "               product                                             review  \\\n",
       "0  허벌에센스 핑크로즈 샴푸 490ml    기존에 상품대비 가격이 부담이었는데 할인율이 높아져서 만족하면서 사용하고 있어요...   \n",
       "1  허벌에센스 핑크로즈 샴푸 490ml  뽀득뽀득해요 성분 좋다는 샴푸 쓰다가 거품도 너무 안나고 세정력이 떨어져서 바꿔봤는...   \n",
       "2  허벌에센스 핑크로즈 샴푸 490ml                            매번쓰던거입니다 거품도풍넝하고맘에아두듭니다   \n",
       "3  허벌에센스 핑크로즈 샴푸 490ml                  노란색 사용하다가 핑크색이 향이 더 좋을것 같아서 구매했어요   \n",
       "4  허벌에센스 핑크로즈 샴푸 490ml  비누와 같은 세정력 세장력은 좋은 것 같은데 샴푸 후 머릿결이 조금 뻣뻣한 느낌이 ...   \n",
       "\n",
       "         거품      세정력       자극도        향  두피  세정-긍부정  머릿결  거품-긍/부정  향-긍/부정  탈모  \n",
       "0     보통이에요  아주 만족해요     보통이에요    보통이에요 NaN     0.0  NaN      NaN     NaN NaN  \n",
       "1  거품이 풍성해요    보통이에요  자극없이 순해요  아주 만족해요 NaN     1.0  NaN      0.0     NaN NaN  \n",
       "2  거품이 풍성해요  아주 만족해요  자극없이 순해요  아주 만족해요 NaN     0.0  NaN      1.0     NaN NaN  \n",
       "3  거품이 풍성해요    보통이에요  자극없이 순해요    보통이에요 NaN     0.0  NaN      NaN     1.0 NaN  \n",
       "4  거품이 풍성해요    보통이에요  자극없이 순해요    보통이에요 NaN     1.0  0.0      NaN     NaN NaN  "
      ]
     },
     "execution_count": 66,
     "metadata": {},
     "output_type": "execute_result"
    }
   ],
   "source": [
    "final_1030.head()"
   ]
  },
  {
   "cell_type": "code",
   "execution_count": 67,
   "metadata": {},
   "outputs": [],
   "source": [
    "final_score_3 = final_1030.dropna(subset=['review'])"
   ]
  },
  {
   "cell_type": "code",
   "execution_count": 68,
   "metadata": {},
   "outputs": [
    {
     "data": {
      "text/plain": [
       "(19882, 12)"
      ]
     },
     "execution_count": 68,
     "metadata": {},
     "output_type": "execute_result"
    }
   ],
   "source": [
    "final_score_3.shape"
   ]
  },
  {
   "cell_type": "code",
   "execution_count": 69,
   "metadata": {},
   "outputs": [],
   "source": [
    "final_score_4 = final_score_3[final_score_3['review'] != '   ']"
   ]
  },
  {
   "cell_type": "code",
   "execution_count": 70,
   "metadata": {},
   "outputs": [
    {
     "data": {
      "text/plain": [
       "(19335, 12)"
      ]
     },
     "execution_count": 70,
     "metadata": {},
     "output_type": "execute_result"
    }
   ],
   "source": [
    "final_score_4.shape"
   ]
  },
  {
   "cell_type": "code",
   "execution_count": 71,
   "metadata": {},
   "outputs": [],
   "source": [
    "final_score_5 = final_score_4[final_score_4['review'] != '  ']"
   ]
  },
  {
   "cell_type": "code",
   "execution_count": 72,
   "metadata": {},
   "outputs": [
    {
     "data": {
      "text/plain": [
       "(19299, 12)"
      ]
     },
     "execution_count": 72,
     "metadata": {},
     "output_type": "execute_result"
    }
   ],
   "source": [
    "final_score_5.shape"
   ]
  },
  {
   "cell_type": "code",
   "execution_count": 73,
   "metadata": {},
   "outputs": [
    {
     "data": {
      "text/plain": [
       "(19295, 12)"
      ]
     },
     "execution_count": 73,
     "metadata": {},
     "output_type": "execute_result"
    }
   ],
   "source": [
    "final_score_6 = final_score_5[final_score_5['review'] != ' ']\n",
    "final_score_6.shape"
   ]
  },
  {
   "cell_type": "code",
   "execution_count": 74,
   "metadata": {},
   "outputs": [
    {
     "data": {
      "text/plain": [
       "(19295, 12)"
      ]
     },
     "execution_count": 74,
     "metadata": {},
     "output_type": "execute_result"
    }
   ],
   "source": [
    "final_score_7 = final_score_6[final_score_6['review'] != '']\n",
    "final_score_7.shape"
   ]
  },
  {
   "cell_type": "code",
   "execution_count": 75,
   "metadata": {},
   "outputs": [
    {
     "data": {
      "text/html": [
       "<div>\n",
       "<style scoped>\n",
       "    .dataframe tbody tr th:only-of-type {\n",
       "        vertical-align: middle;\n",
       "    }\n",
       "\n",
       "    .dataframe tbody tr th {\n",
       "        vertical-align: top;\n",
       "    }\n",
       "\n",
       "    .dataframe thead th {\n",
       "        text-align: right;\n",
       "    }\n",
       "</style>\n",
       "<table border=\"1\" class=\"dataframe\">\n",
       "  <thead>\n",
       "    <tr style=\"text-align: right;\">\n",
       "      <th></th>\n",
       "      <th>product</th>\n",
       "      <th>review</th>\n",
       "      <th>거품</th>\n",
       "      <th>세정력</th>\n",
       "      <th>자극도</th>\n",
       "      <th>향</th>\n",
       "      <th>두피</th>\n",
       "      <th>세정-긍부정</th>\n",
       "      <th>머릿결</th>\n",
       "      <th>거품-긍/부정</th>\n",
       "      <th>향-긍/부정</th>\n",
       "      <th>탈모</th>\n",
       "    </tr>\n",
       "  </thead>\n",
       "  <tbody>\n",
       "    <tr>\n",
       "      <th>19891</th>\n",
       "      <td>착한팩토리 90 밀크단백질 샴푸 1000ml</td>\n",
       "      <td>소문 믿고 구입했으나 품질은 수십번 사용해본후 판단해볼께요</td>\n",
       "      <td>NaN</td>\n",
       "      <td>NaN</td>\n",
       "      <td>NaN</td>\n",
       "      <td>NaN</td>\n",
       "      <td>NaN</td>\n",
       "      <td>0.0</td>\n",
       "      <td>NaN</td>\n",
       "      <td>NaN</td>\n",
       "      <td>NaN</td>\n",
       "      <td>NaN</td>\n",
       "    </tr>\n",
       "    <tr>\n",
       "      <th>19892</th>\n",
       "      <td>착한팩토리 90 밀크단백질 샴푸 1000ml</td>\n",
       "      <td>잘받았습니다</td>\n",
       "      <td>NaN</td>\n",
       "      <td>NaN</td>\n",
       "      <td>NaN</td>\n",
       "      <td>NaN</td>\n",
       "      <td>NaN</td>\n",
       "      <td>0.0</td>\n",
       "      <td>NaN</td>\n",
       "      <td>NaN</td>\n",
       "      <td>NaN</td>\n",
       "      <td>NaN</td>\n",
       "    </tr>\n",
       "    <tr>\n",
       "      <th>19893</th>\n",
       "      <td>착한팩토리 90 밀크단백질 샴푸 1000ml</td>\n",
       "      <td>싸게 샀어요</td>\n",
       "      <td>NaN</td>\n",
       "      <td>NaN</td>\n",
       "      <td>NaN</td>\n",
       "      <td>NaN</td>\n",
       "      <td>NaN</td>\n",
       "      <td>0.0</td>\n",
       "      <td>NaN</td>\n",
       "      <td>NaN</td>\n",
       "      <td>NaN</td>\n",
       "      <td>NaN</td>\n",
       "    </tr>\n",
       "    <tr>\n",
       "      <th>19894</th>\n",
       "      <td>더마클라센 굿바이헤어로스 샴푸 레몬그라스 기획세트[500ml+100ml+트리트먼트 ...</td>\n",
       "      <td>머리카락이 안 빠지는건 아직 못 느끼겠고요 쓰고 나니 머리가 너무 뻣뻣해서 반품하고...</td>\n",
       "      <td>NaN</td>\n",
       "      <td>NaN</td>\n",
       "      <td>NaN</td>\n",
       "      <td>NaN</td>\n",
       "      <td>NaN</td>\n",
       "      <td>0.0</td>\n",
       "      <td>1.0</td>\n",
       "      <td>NaN</td>\n",
       "      <td>NaN</td>\n",
       "      <td>NaN</td>\n",
       "    </tr>\n",
       "    <tr>\n",
       "      <th>19895</th>\n",
       "      <td>더마클라센 굿바이헤어로스 샴푸 레몬그라스 기획세트[500ml+100ml+트리트먼트 ...</td>\n",
       "      <td>탈모샴푸 가대해요</td>\n",
       "      <td>NaN</td>\n",
       "      <td>NaN</td>\n",
       "      <td>NaN</td>\n",
       "      <td>NaN</td>\n",
       "      <td>NaN</td>\n",
       "      <td>0.0</td>\n",
       "      <td>NaN</td>\n",
       "      <td>NaN</td>\n",
       "      <td>NaN</td>\n",
       "      <td>NaN</td>\n",
       "    </tr>\n",
       "  </tbody>\n",
       "</table>\n",
       "</div>"
      ],
      "text/plain": [
       "                                                 product  \\\n",
       "19891                           착한팩토리 90 밀크단백질 샴푸 1000ml   \n",
       "19892                           착한팩토리 90 밀크단백질 샴푸 1000ml   \n",
       "19893                           착한팩토리 90 밀크단백질 샴푸 1000ml   \n",
       "19894  더마클라센 굿바이헤어로스 샴푸 레몬그라스 기획세트[500ml+100ml+트리트먼트 ...   \n",
       "19895  더마클라센 굿바이헤어로스 샴푸 레몬그라스 기획세트[500ml+100ml+트리트먼트 ...   \n",
       "\n",
       "                                                  review   거품  세정력  자극도    향  \\\n",
       "19891                   소문 믿고 구입했으나 품질은 수십번 사용해본후 판단해볼께요  NaN  NaN  NaN  NaN   \n",
       "19892                                            잘받았습니다   NaN  NaN  NaN  NaN   \n",
       "19893                                             싸게 샀어요  NaN  NaN  NaN  NaN   \n",
       "19894  머리카락이 안 빠지는건 아직 못 느끼겠고요 쓰고 나니 머리가 너무 뻣뻣해서 반품하고...  NaN  NaN  NaN  NaN   \n",
       "19895                                          탈모샴푸 가대해요  NaN  NaN  NaN  NaN   \n",
       "\n",
       "       두피  세정-긍부정  머릿결  거품-긍/부정  향-긍/부정  탈모  \n",
       "19891 NaN     0.0  NaN      NaN     NaN NaN  \n",
       "19892 NaN     0.0  NaN      NaN     NaN NaN  \n",
       "19893 NaN     0.0  NaN      NaN     NaN NaN  \n",
       "19894 NaN     0.0  1.0      NaN     NaN NaN  \n",
       "19895 NaN     0.0  NaN      NaN     NaN NaN  "
      ]
     },
     "execution_count": 75,
     "metadata": {},
     "output_type": "execute_result"
    }
   ],
   "source": [
    "final_score_7.tail()"
   ]
  },
  {
   "cell_type": "code",
   "execution_count": 76,
   "metadata": {},
   "outputs": [],
   "source": [
    "final_score_7.reset_index(inplace=True)"
   ]
  },
  {
   "cell_type": "code",
   "execution_count": 77,
   "metadata": {},
   "outputs": [
    {
     "data": {
      "text/html": [
       "<div>\n",
       "<style scoped>\n",
       "    .dataframe tbody tr th:only-of-type {\n",
       "        vertical-align: middle;\n",
       "    }\n",
       "\n",
       "    .dataframe tbody tr th {\n",
       "        vertical-align: top;\n",
       "    }\n",
       "\n",
       "    .dataframe thead th {\n",
       "        text-align: right;\n",
       "    }\n",
       "</style>\n",
       "<table border=\"1\" class=\"dataframe\">\n",
       "  <thead>\n",
       "    <tr style=\"text-align: right;\">\n",
       "      <th></th>\n",
       "      <th>index</th>\n",
       "      <th>product</th>\n",
       "      <th>review</th>\n",
       "      <th>거품</th>\n",
       "      <th>세정력</th>\n",
       "      <th>자극도</th>\n",
       "      <th>향</th>\n",
       "      <th>두피</th>\n",
       "      <th>세정-긍부정</th>\n",
       "      <th>머릿결</th>\n",
       "      <th>거품-긍/부정</th>\n",
       "      <th>향-긍/부정</th>\n",
       "      <th>탈모</th>\n",
       "    </tr>\n",
       "  </thead>\n",
       "  <tbody>\n",
       "    <tr>\n",
       "      <th>19290</th>\n",
       "      <td>19891</td>\n",
       "      <td>착한팩토리 90 밀크단백질 샴푸 1000ml</td>\n",
       "      <td>소문 믿고 구입했으나 품질은 수십번 사용해본후 판단해볼께요</td>\n",
       "      <td>NaN</td>\n",
       "      <td>NaN</td>\n",
       "      <td>NaN</td>\n",
       "      <td>NaN</td>\n",
       "      <td>NaN</td>\n",
       "      <td>0.0</td>\n",
       "      <td>NaN</td>\n",
       "      <td>NaN</td>\n",
       "      <td>NaN</td>\n",
       "      <td>NaN</td>\n",
       "    </tr>\n",
       "    <tr>\n",
       "      <th>19291</th>\n",
       "      <td>19892</td>\n",
       "      <td>착한팩토리 90 밀크단백질 샴푸 1000ml</td>\n",
       "      <td>잘받았습니다</td>\n",
       "      <td>NaN</td>\n",
       "      <td>NaN</td>\n",
       "      <td>NaN</td>\n",
       "      <td>NaN</td>\n",
       "      <td>NaN</td>\n",
       "      <td>0.0</td>\n",
       "      <td>NaN</td>\n",
       "      <td>NaN</td>\n",
       "      <td>NaN</td>\n",
       "      <td>NaN</td>\n",
       "    </tr>\n",
       "    <tr>\n",
       "      <th>19292</th>\n",
       "      <td>19893</td>\n",
       "      <td>착한팩토리 90 밀크단백질 샴푸 1000ml</td>\n",
       "      <td>싸게 샀어요</td>\n",
       "      <td>NaN</td>\n",
       "      <td>NaN</td>\n",
       "      <td>NaN</td>\n",
       "      <td>NaN</td>\n",
       "      <td>NaN</td>\n",
       "      <td>0.0</td>\n",
       "      <td>NaN</td>\n",
       "      <td>NaN</td>\n",
       "      <td>NaN</td>\n",
       "      <td>NaN</td>\n",
       "    </tr>\n",
       "    <tr>\n",
       "      <th>19293</th>\n",
       "      <td>19894</td>\n",
       "      <td>더마클라센 굿바이헤어로스 샴푸 레몬그라스 기획세트[500ml+100ml+트리트먼트 ...</td>\n",
       "      <td>머리카락이 안 빠지는건 아직 못 느끼겠고요 쓰고 나니 머리가 너무 뻣뻣해서 반품하고...</td>\n",
       "      <td>NaN</td>\n",
       "      <td>NaN</td>\n",
       "      <td>NaN</td>\n",
       "      <td>NaN</td>\n",
       "      <td>NaN</td>\n",
       "      <td>0.0</td>\n",
       "      <td>1.0</td>\n",
       "      <td>NaN</td>\n",
       "      <td>NaN</td>\n",
       "      <td>NaN</td>\n",
       "    </tr>\n",
       "    <tr>\n",
       "      <th>19294</th>\n",
       "      <td>19895</td>\n",
       "      <td>더마클라센 굿바이헤어로스 샴푸 레몬그라스 기획세트[500ml+100ml+트리트먼트 ...</td>\n",
       "      <td>탈모샴푸 가대해요</td>\n",
       "      <td>NaN</td>\n",
       "      <td>NaN</td>\n",
       "      <td>NaN</td>\n",
       "      <td>NaN</td>\n",
       "      <td>NaN</td>\n",
       "      <td>0.0</td>\n",
       "      <td>NaN</td>\n",
       "      <td>NaN</td>\n",
       "      <td>NaN</td>\n",
       "      <td>NaN</td>\n",
       "    </tr>\n",
       "  </tbody>\n",
       "</table>\n",
       "</div>"
      ],
      "text/plain": [
       "       index                                            product  \\\n",
       "19290  19891                           착한팩토리 90 밀크단백질 샴푸 1000ml   \n",
       "19291  19892                           착한팩토리 90 밀크단백질 샴푸 1000ml   \n",
       "19292  19893                           착한팩토리 90 밀크단백질 샴푸 1000ml   \n",
       "19293  19894  더마클라센 굿바이헤어로스 샴푸 레몬그라스 기획세트[500ml+100ml+트리트먼트 ...   \n",
       "19294  19895  더마클라센 굿바이헤어로스 샴푸 레몬그라스 기획세트[500ml+100ml+트리트먼트 ...   \n",
       "\n",
       "                                                  review   거품  세정력  자극도    향  \\\n",
       "19290                   소문 믿고 구입했으나 품질은 수십번 사용해본후 판단해볼께요  NaN  NaN  NaN  NaN   \n",
       "19291                                            잘받았습니다   NaN  NaN  NaN  NaN   \n",
       "19292                                             싸게 샀어요  NaN  NaN  NaN  NaN   \n",
       "19293  머리카락이 안 빠지는건 아직 못 느끼겠고요 쓰고 나니 머리가 너무 뻣뻣해서 반품하고...  NaN  NaN  NaN  NaN   \n",
       "19294                                          탈모샴푸 가대해요  NaN  NaN  NaN  NaN   \n",
       "\n",
       "       두피  세정-긍부정  머릿결  거품-긍/부정  향-긍/부정  탈모  \n",
       "19290 NaN     0.0  NaN      NaN     NaN NaN  \n",
       "19291 NaN     0.0  NaN      NaN     NaN NaN  \n",
       "19292 NaN     0.0  NaN      NaN     NaN NaN  \n",
       "19293 NaN     0.0  1.0      NaN     NaN NaN  \n",
       "19294 NaN     0.0  NaN      NaN     NaN NaN  "
      ]
     },
     "execution_count": 77,
     "metadata": {},
     "output_type": "execute_result"
    }
   ],
   "source": [
    "final_score_7.tail()"
   ]
  },
  {
   "cell_type": "code",
   "execution_count": 78,
   "metadata": {},
   "outputs": [],
   "source": [
    "final_score_7.to_excel('1030_긍부정취합_ver04.xlsx')"
   ]
  },
  {
   "cell_type": "code",
   "execution_count": null,
   "metadata": {},
   "outputs": [],
   "source": []
  },
  {
   "cell_type": "code",
   "execution_count": null,
   "metadata": {},
   "outputs": [],
   "source": []
  },
  {
   "cell_type": "code",
   "execution_count": null,
   "metadata": {},
   "outputs": [],
   "source": []
  },
  {
   "cell_type": "code",
   "execution_count": null,
   "metadata": {},
   "outputs": [],
   "source": []
  },
  {
   "cell_type": "code",
   "execution_count": 213,
   "metadata": {},
   "outputs": [
    {
     "data": {
      "text/html": [
       "<div>\n",
       "<style scoped>\n",
       "    .dataframe tbody tr th:only-of-type {\n",
       "        vertical-align: middle;\n",
       "    }\n",
       "\n",
       "    .dataframe tbody tr th {\n",
       "        vertical-align: top;\n",
       "    }\n",
       "\n",
       "    .dataframe thead th {\n",
       "        text-align: right;\n",
       "    }\n",
       "</style>\n",
       "<table border=\"1\" class=\"dataframe\">\n",
       "  <thead>\n",
       "    <tr style=\"text-align: right;\">\n",
       "      <th></th>\n",
       "      <th>product</th>\n",
       "      <th>review</th>\n",
       "      <th>거품</th>\n",
       "      <th>세정력</th>\n",
       "      <th>자극도</th>\n",
       "      <th>향</th>\n",
       "      <th>두피</th>\n",
       "      <th>머릿결</th>\n",
       "      <th>거품-긍/부정</th>\n",
       "      <th>향-긍/부정</th>\n",
       "      <th>탈모</th>\n",
       "    </tr>\n",
       "  </thead>\n",
       "  <tbody>\n",
       "    <tr>\n",
       "      <th>0</th>\n",
       "      <td>허벌에센스 핑크로즈 샴푸 490ml</td>\n",
       "      <td>기존에 상품대비 가격이 부담이었는데 할인율이 높아져서 만족하면서 사용하고 있어요...</td>\n",
       "      <td>보통이에요</td>\n",
       "      <td>아주 만족해요</td>\n",
       "      <td>보통이에요</td>\n",
       "      <td>보통이에요</td>\n",
       "      <td>NaN</td>\n",
       "      <td>NaN</td>\n",
       "      <td>NaN</td>\n",
       "      <td>NaN</td>\n",
       "      <td>NaN</td>\n",
       "    </tr>\n",
       "    <tr>\n",
       "      <th>1</th>\n",
       "      <td>허벌에센스 핑크로즈 샴푸 490ml</td>\n",
       "      <td>뽀득뽀득해요 성분 좋다는 샴푸 쓰다가 거품도 너무 안나고 세정력이 떨어져서 바꿔봤는...</td>\n",
       "      <td>거품이 풍성해요</td>\n",
       "      <td>보통이에요</td>\n",
       "      <td>자극없이 순해요</td>\n",
       "      <td>아주 만족해요</td>\n",
       "      <td>NaN</td>\n",
       "      <td>NaN</td>\n",
       "      <td>0.0</td>\n",
       "      <td>NaN</td>\n",
       "      <td>NaN</td>\n",
       "    </tr>\n",
       "    <tr>\n",
       "      <th>2</th>\n",
       "      <td>허벌에센스 핑크로즈 샴푸 490ml</td>\n",
       "      <td>매번쓰던거입니다 거품도풍넝하고맘에아두듭니다</td>\n",
       "      <td>거품이 풍성해요</td>\n",
       "      <td>아주 만족해요</td>\n",
       "      <td>자극없이 순해요</td>\n",
       "      <td>아주 만족해요</td>\n",
       "      <td>NaN</td>\n",
       "      <td>NaN</td>\n",
       "      <td>1.0</td>\n",
       "      <td>NaN</td>\n",
       "      <td>NaN</td>\n",
       "    </tr>\n",
       "    <tr>\n",
       "      <th>3</th>\n",
       "      <td>허벌에센스 핑크로즈 샴푸 490ml</td>\n",
       "      <td>노란색 사용하다가 핑크색이 향이 더 좋을것 같아서 구매했어요</td>\n",
       "      <td>거품이 풍성해요</td>\n",
       "      <td>보통이에요</td>\n",
       "      <td>자극없이 순해요</td>\n",
       "      <td>보통이에요</td>\n",
       "      <td>NaN</td>\n",
       "      <td>NaN</td>\n",
       "      <td>NaN</td>\n",
       "      <td>1.0</td>\n",
       "      <td>NaN</td>\n",
       "    </tr>\n",
       "    <tr>\n",
       "      <th>4</th>\n",
       "      <td>허벌에센스 핑크로즈 샴푸 490ml</td>\n",
       "      <td>비누와 같은 세정력 세장력은 좋은 것 같은데 샴푸 후 머릿결이 조금 뻣뻣한 느낌이 ...</td>\n",
       "      <td>거품이 풍성해요</td>\n",
       "      <td>보통이에요</td>\n",
       "      <td>자극없이 순해요</td>\n",
       "      <td>보통이에요</td>\n",
       "      <td>NaN</td>\n",
       "      <td>0.0</td>\n",
       "      <td>NaN</td>\n",
       "      <td>NaN</td>\n",
       "      <td>NaN</td>\n",
       "    </tr>\n",
       "  </tbody>\n",
       "</table>\n",
       "</div>"
      ],
      "text/plain": [
       "               product                                             review  \\\n",
       "0  허벌에센스 핑크로즈 샴푸 490ml    기존에 상품대비 가격이 부담이었는데 할인율이 높아져서 만족하면서 사용하고 있어요...   \n",
       "1  허벌에센스 핑크로즈 샴푸 490ml  뽀득뽀득해요 성분 좋다는 샴푸 쓰다가 거품도 너무 안나고 세정력이 떨어져서 바꿔봤는...   \n",
       "2  허벌에센스 핑크로즈 샴푸 490ml                            매번쓰던거입니다 거품도풍넝하고맘에아두듭니다   \n",
       "3  허벌에센스 핑크로즈 샴푸 490ml                  노란색 사용하다가 핑크색이 향이 더 좋을것 같아서 구매했어요   \n",
       "4  허벌에센스 핑크로즈 샴푸 490ml  비누와 같은 세정력 세장력은 좋은 것 같은데 샴푸 후 머릿결이 조금 뻣뻣한 느낌이 ...   \n",
       "\n",
       "         거품      세정력       자극도        향  두피  머릿결  거품-긍/부정  향-긍/부정  탈모  \n",
       "0     보통이에요  아주 만족해요     보통이에요    보통이에요 NaN  NaN      NaN     NaN NaN  \n",
       "1  거품이 풍성해요    보통이에요  자극없이 순해요  아주 만족해요 NaN  NaN      0.0     NaN NaN  \n",
       "2  거품이 풍성해요  아주 만족해요  자극없이 순해요  아주 만족해요 NaN  NaN      1.0     NaN NaN  \n",
       "3  거품이 풍성해요    보통이에요  자극없이 순해요    보통이에요 NaN  NaN      NaN     1.0 NaN  \n",
       "4  거품이 풍성해요    보통이에요  자극없이 순해요    보통이에요 NaN  0.0      NaN     NaN NaN  "
      ]
     },
     "execution_count": 213,
     "metadata": {},
     "output_type": "execute_result"
    }
   ],
   "source": [
    "final_1027.head()"
   ]
  },
  {
   "cell_type": "code",
   "execution_count": null,
   "metadata": {},
   "outputs": [],
   "source": []
  },
  {
   "cell_type": "code",
   "execution_count": null,
   "metadata": {},
   "outputs": [],
   "source": []
  },
  {
   "cell_type": "code",
   "execution_count": 203,
   "metadata": {},
   "outputs": [
    {
     "data": {
      "text/plain": [
       "(19882, 7)"
      ]
     },
     "execution_count": 203,
     "metadata": {},
     "output_type": "execute_result"
    }
   ],
   "source": [
    "data2.shape"
   ]
  },
  {
   "cell_type": "code",
   "execution_count": null,
   "metadata": {},
   "outputs": [],
   "source": [
    "data2.sh"
   ]
  },
  {
   "cell_type": "code",
   "execution_count": 92,
   "metadata": {},
   "outputs": [],
   "source": [
    "sample = data1[data1['review'] != '   ']"
   ]
  },
  {
   "cell_type": "code",
   "execution_count": 100,
   "metadata": {},
   "outputs": [],
   "source": [
    "sample = data2[data2['review'] != '   ']"
   ]
  },
  {
   "cell_type": "code",
   "execution_count": 101,
   "metadata": {},
   "outputs": [
    {
     "data": {
      "text/plain": [
       "(19335, 7)"
      ]
     },
     "execution_count": 101,
     "metadata": {},
     "output_type": "execute_result"
    }
   ],
   "source": [
    "sample.shape"
   ]
  },
  {
   "cell_type": "code",
   "execution_count": 95,
   "metadata": {},
   "outputs": [],
   "source": [
    "import numpy as np"
   ]
  },
  {
   "cell_type": "code",
   "execution_count": null,
   "metadata": {},
   "outputs": [],
   "source": []
  },
  {
   "cell_type": "code",
   "execution_count": null,
   "metadata": {},
   "outputs": [],
   "source": []
  },
  {
   "cell_type": "code",
   "execution_count": 148,
   "metadata": {},
   "outputs": [],
   "source": [
    "data1['review'].dropna(inplace=True)"
   ]
  },
  {
   "cell_type": "code",
   "execution_count": 158,
   "metadata": {},
   "outputs": [
    {
     "data": {
      "text/plain": [
       "19882"
      ]
     },
     "execution_count": 158,
     "metadata": {},
     "output_type": "execute_result"
    }
   ],
   "source": [
    "len(data1['review'].dropna())"
   ]
  },
  {
   "cell_type": "code",
   "execution_count": 170,
   "metadata": {},
   "outputs": [],
   "source": [
    "data1 = data1.drop(19896)"
   ]
  },
  {
   "cell_type": "code",
   "execution_count": 180,
   "metadata": {},
   "outputs": [
    {
     "data": {
      "text/plain": [
       "(19896, 7)"
      ]
     },
     "execution_count": 180,
     "metadata": {},
     "output_type": "execute_result"
    }
   ],
   "source": [
    "data1.shape"
   ]
  },
  {
   "cell_type": "code",
   "execution_count": null,
   "metadata": {},
   "outputs": [],
   "source": []
  },
  {
   "cell_type": "code",
   "execution_count": 159,
   "metadata": {},
   "outputs": [],
   "source": [
    "data1_1 = data1.dropna(subset=['review'])"
   ]
  },
  {
   "cell_type": "code",
   "execution_count": 175,
   "metadata": {},
   "outputs": [
    {
     "data": {
      "text/plain": [
       "(19882, 9)"
      ]
     },
     "execution_count": 175,
     "metadata": {},
     "output_type": "execute_result"
    }
   ],
   "source": [
    "data1_1.shape"
   ]
  },
  {
   "cell_type": "code",
   "execution_count": 176,
   "metadata": {},
   "outputs": [
    {
     "data": {
      "text/html": [
       "<div>\n",
       "<style scoped>\n",
       "    .dataframe tbody tr th:only-of-type {\n",
       "        vertical-align: middle;\n",
       "    }\n",
       "\n",
       "    .dataframe tbody tr th {\n",
       "        vertical-align: top;\n",
       "    }\n",
       "\n",
       "    .dataframe thead th {\n",
       "        text-align: right;\n",
       "    }\n",
       "</style>\n",
       "<table border=\"1\" class=\"dataframe\">\n",
       "  <thead>\n",
       "    <tr style=\"text-align: right;\">\n",
       "      <th></th>\n",
       "      <th>Unnamed: 0</th>\n",
       "      <th>product</th>\n",
       "      <th>review</th>\n",
       "      <th>거품</th>\n",
       "      <th>세정력</th>\n",
       "      <th>자극도</th>\n",
       "      <th>향</th>\n",
       "      <th>score</th>\n",
       "      <th>split_target</th>\n",
       "    </tr>\n",
       "  </thead>\n",
       "  <tbody>\n",
       "    <tr>\n",
       "      <th>19891</th>\n",
       "      <td>19891</td>\n",
       "      <td>착한팩토리 90 밀크단백질 샴푸 1000ml</td>\n",
       "      <td>소문 믿고 구입했으나 품질은 수십번 사용해본후 판단해볼께요</td>\n",
       "      <td>NaN</td>\n",
       "      <td>NaN</td>\n",
       "      <td>NaN</td>\n",
       "      <td>NaN</td>\n",
       "      <td>NaN</td>\n",
       "      <td>NaN</td>\n",
       "    </tr>\n",
       "    <tr>\n",
       "      <th>19892</th>\n",
       "      <td>19892</td>\n",
       "      <td>착한팩토리 90 밀크단백질 샴푸 1000ml</td>\n",
       "      <td>잘받았습니다</td>\n",
       "      <td>NaN</td>\n",
       "      <td>NaN</td>\n",
       "      <td>NaN</td>\n",
       "      <td>NaN</td>\n",
       "      <td>NaN</td>\n",
       "      <td>NaN</td>\n",
       "    </tr>\n",
       "    <tr>\n",
       "      <th>19893</th>\n",
       "      <td>19893</td>\n",
       "      <td>착한팩토리 90 밀크단백질 샴푸 1000ml</td>\n",
       "      <td>싸게 샀어요</td>\n",
       "      <td>NaN</td>\n",
       "      <td>NaN</td>\n",
       "      <td>NaN</td>\n",
       "      <td>NaN</td>\n",
       "      <td>NaN</td>\n",
       "      <td>NaN</td>\n",
       "    </tr>\n",
       "    <tr>\n",
       "      <th>19894</th>\n",
       "      <td>19894</td>\n",
       "      <td>더마클라센 굿바이헤어로스 샴푸 레몬그라스 기획세트[500ml+100ml+트리트먼트 ...</td>\n",
       "      <td>머리카락이 안 빠지는건 아직 못 느끼겠고요 쓰고 나니 머리가 너무 뻣뻣해서 반품하고...</td>\n",
       "      <td>NaN</td>\n",
       "      <td>NaN</td>\n",
       "      <td>NaN</td>\n",
       "      <td>NaN</td>\n",
       "      <td>NaN</td>\n",
       "      <td>NaN</td>\n",
       "    </tr>\n",
       "    <tr>\n",
       "      <th>19895</th>\n",
       "      <td>19895</td>\n",
       "      <td>더마클라센 굿바이헤어로스 샴푸 레몬그라스 기획세트[500ml+100ml+트리트먼트 ...</td>\n",
       "      <td>탈모샴푸 가대해요</td>\n",
       "      <td>NaN</td>\n",
       "      <td>NaN</td>\n",
       "      <td>NaN</td>\n",
       "      <td>NaN</td>\n",
       "      <td>NaN</td>\n",
       "      <td>NaN</td>\n",
       "    </tr>\n",
       "  </tbody>\n",
       "</table>\n",
       "</div>"
      ],
      "text/plain": [
       "      Unnamed: 0                                            product  \\\n",
       "19891      19891                           착한팩토리 90 밀크단백질 샴푸 1000ml   \n",
       "19892      19892                           착한팩토리 90 밀크단백질 샴푸 1000ml   \n",
       "19893      19893                           착한팩토리 90 밀크단백질 샴푸 1000ml   \n",
       "19894      19894  더마클라센 굿바이헤어로스 샴푸 레몬그라스 기획세트[500ml+100ml+트리트먼트 ...   \n",
       "19895      19895  더마클라센 굿바이헤어로스 샴푸 레몬그라스 기획세트[500ml+100ml+트리트먼트 ...   \n",
       "\n",
       "                                                  review   거품  세정력  자극도    향  \\\n",
       "19891                   소문 믿고 구입했으나 품질은 수십번 사용해본후 판단해볼께요  NaN  NaN  NaN  NaN   \n",
       "19892                                            잘받았습니다   NaN  NaN  NaN  NaN   \n",
       "19893                                             싸게 샀어요  NaN  NaN  NaN  NaN   \n",
       "19894  머리카락이 안 빠지는건 아직 못 느끼겠고요 쓰고 나니 머리가 너무 뻣뻣해서 반품하고...  NaN  NaN  NaN  NaN   \n",
       "19895                                          탈모샴푸 가대해요  NaN  NaN  NaN  NaN   \n",
       "\n",
       "       score split_target  \n",
       "19891    NaN          NaN  \n",
       "19892    NaN          NaN  \n",
       "19893    NaN          NaN  \n",
       "19894    NaN          NaN  \n",
       "19895    NaN          NaN  "
      ]
     },
     "execution_count": 176,
     "metadata": {},
     "output_type": "execute_result"
    }
   ],
   "source": [
    "data1_1.tail()"
   ]
  },
  {
   "cell_type": "code",
   "execution_count": null,
   "metadata": {},
   "outputs": [],
   "source": []
  },
  {
   "cell_type": "code",
   "execution_count": null,
   "metadata": {},
   "outputs": [],
   "source": []
  },
  {
   "cell_type": "code",
   "execution_count": null,
   "metadata": {},
   "outputs": [],
   "source": [
    "data1_1.drop(['Unnamed: 0'],axis=1,inplace=True)"
   ]
  },
  {
   "cell_type": "code",
   "execution_count": 121,
   "metadata": {},
   "outputs": [
    {
     "data": {
      "text/plain": [
       "(19349, 7)"
      ]
     },
     "execution_count": 121,
     "metadata": {},
     "output_type": "execute_result"
    }
   ],
   "source": [
    "sample = data1[data1['review'] != '   ']\n",
    "sample.shape"
   ]
  },
  {
   "cell_type": "code",
   "execution_count": 177,
   "metadata": {},
   "outputs": [
    {
     "data": {
      "text/plain": [
       "(19896, 7)"
      ]
     },
     "execution_count": 177,
     "metadata": {},
     "output_type": "execute_result"
    }
   ],
   "source": [
    "data4_1 = data4.dropna(subset=['review'])\n",
    "data4_1.shape"
   ]
  },
  {
   "cell_type": "code",
   "execution_count": 179,
   "metadata": {},
   "outputs": [
    {
     "data": {
      "text/plain": [
       "(19896, 7)"
      ]
     },
     "execution_count": 179,
     "metadata": {},
     "output_type": "execute_result"
    }
   ],
   "source": [
    "data5_1 = data5.dropna(subset=['review'])\n",
    "data5_1.shape"
   ]
  },
  {
   "cell_type": "code",
   "execution_count": 178,
   "metadata": {},
   "outputs": [
    {
     "data": {
      "text/plain": [
       "(19882, 7)"
      ]
     },
     "execution_count": 178,
     "metadata": {},
     "output_type": "execute_result"
    }
   ],
   "source": [
    "data6_1 = data6.dropna(subset=['review'])\n",
    "data6_1.shape"
   ]
  },
  {
   "cell_type": "code",
   "execution_count": 150,
   "metadata": {},
   "outputs": [
    {
     "ename": "AttributeError",
     "evalue": "'NoneType' object has no attribute 'shape'",
     "output_type": "error",
     "traceback": [
      "\u001b[1;31m---------------------------------------------------------------------------\u001b[0m",
      "\u001b[1;31mAttributeError\u001b[0m                            Traceback (most recent call last)",
      "\u001b[1;32m<ipython-input-150-95c9a6b41ff6>\u001b[0m in \u001b[0;36m<module>\u001b[1;34m\u001b[0m\n\u001b[0;32m      1\u001b[0m \u001b[0msample\u001b[0m \u001b[1;33m=\u001b[0m \u001b[0mdata4\u001b[0m\u001b[1;33m[\u001b[0m\u001b[1;34m'review'\u001b[0m\u001b[1;33m]\u001b[0m\u001b[1;33m.\u001b[0m\u001b[0mdropna\u001b[0m\u001b[1;33m(\u001b[0m\u001b[0minplace\u001b[0m\u001b[1;33m=\u001b[0m\u001b[1;32mTrue\u001b[0m\u001b[1;33m)\u001b[0m\u001b[1;33m\u001b[0m\u001b[1;33m\u001b[0m\u001b[0m\n\u001b[1;32m----> 2\u001b[1;33m \u001b[0msample\u001b[0m\u001b[1;33m.\u001b[0m\u001b[0mshape\u001b[0m\u001b[1;33m\u001b[0m\u001b[1;33m\u001b[0m\u001b[0m\n\u001b[0m",
      "\u001b[1;31mAttributeError\u001b[0m: 'NoneType' object has no attribute 'shape'"
     ]
    }
   ],
   "source": [
    "sample = data4['review'].dropna(inplace=True)\n",
    "sample.shape"
   ]
  },
  {
   "cell_type": "code",
   "execution_count": 124,
   "metadata": {},
   "outputs": [
    {
     "data": {
      "text/plain": [
       "(19291, 7)"
      ]
     },
     "execution_count": 124,
     "metadata": {},
     "output_type": "execute_result"
    }
   ],
   "source": [
    "sample = data4[data4['review'] != '   ']\n",
    "sample.shape"
   ]
  },
  {
   "cell_type": "code",
   "execution_count": 113,
   "metadata": {},
   "outputs": [
    {
     "data": {
      "text/plain": [
       "(19291, 7)"
      ]
     },
     "execution_count": 113,
     "metadata": {},
     "output_type": "execute_result"
    }
   ],
   "source": [
    "sample = data5[data5['review'] != '   ']\n",
    "sample.shape"
   ]
  },
  {
   "cell_type": "code",
   "execution_count": 126,
   "metadata": {},
   "outputs": [
    {
     "data": {
      "text/plain": [
       "(19349, 7)"
      ]
     },
     "execution_count": 126,
     "metadata": {},
     "output_type": "execute_result"
    }
   ],
   "source": [
    "sample = data6[data6['review'] != '   ']\n",
    "sample.shape"
   ]
  },
  {
   "cell_type": "code",
   "execution_count": null,
   "metadata": {},
   "outputs": [],
   "source": []
  }
 ],
 "metadata": {
  "kernelspec": {
   "display_name": "Python 3",
   "language": "python",
   "name": "python3"
  },
  "language_info": {
   "codemirror_mode": {
    "name": "ipython",
    "version": 3
   },
   "file_extension": ".py",
   "mimetype": "text/x-python",
   "name": "python",
   "nbconvert_exporter": "python",
   "pygments_lexer": "ipython3",
   "version": "3.7.3"
  }
 },
 "nbformat": 4,
 "nbformat_minor": 2
}
