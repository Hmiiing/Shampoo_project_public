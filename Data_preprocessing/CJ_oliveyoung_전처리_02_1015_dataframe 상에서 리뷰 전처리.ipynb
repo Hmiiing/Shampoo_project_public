{
 "cells": [
  {
   "cell_type": "code",
   "execution_count": 1,
   "metadata": {},
   "outputs": [],
   "source": [
    "import pandas as pd \n",
    "import re"
   ]
  },
  {
   "cell_type": "code",
   "execution_count": 2,
   "metadata": {},
   "outputs": [],
   "source": [
    "data =pd.read_excel('CJ_Olive_combined.xlsx')"
   ]
  },
  {
   "cell_type": "markdown",
   "metadata": {},
   "source": [
    "### 칼럼 이름 재설정"
   ]
  },
  {
   "cell_type": "code",
   "execution_count": 3,
   "metadata": {},
   "outputs": [],
   "source": [
    "data.rename(columns = {'detail1':'향','detail2':'자극도','detail3':'거품', 'detail4':'세정력'}, inplace =True) "
   ]
  },
  {
   "cell_type": "markdown",
   "metadata": {},
   "source": [
    "### 불필요 칼럼 삭제"
   ]
  },
  {
   "cell_type": "code",
   "execution_count": 4,
   "metadata": {},
   "outputs": [],
   "source": [
    "data.drop(['rating'],axis='columns' , inplace = True)"
   ]
  },
  {
   "cell_type": "code",
   "execution_count": 5,
   "metadata": {},
   "outputs": [],
   "source": [
    "data.drop(['Unnamed: 0'],axis='columns' , inplace = True)"
   ]
  },
  {
   "cell_type": "markdown",
   "metadata": {},
   "source": [
    "### 리뷰 칼럼만 따로 (깊은?) 복사   \n",
    "\n",
    "- 주소 값 다르므로 data_review 바꾼다고 data['review'] 안 변함"
   ]
  },
  {
   "cell_type": "code",
   "execution_count": null,
   "metadata": {},
   "outputs": [],
   "source": [
    "data_review = data['review']"
   ]
  },
  {
   "cell_type": "code",
   "execution_count": null,
   "metadata": {},
   "outputs": [],
   "source": [
    "print(id(data_review), '\\n\\n\\n' , id(data['review']))"
   ]
  },
  {
   "cell_type": "code",
   "execution_count": null,
   "metadata": {},
   "outputs": [],
   "source": [
    "id(data_review) is id(data['review'])"
   ]
  },
  {
   "cell_type": "code",
   "execution_count": null,
   "metadata": {},
   "outputs": [],
   "source": [
    "id(data_review) == id(data['review'])"
   ]
  },
  {
   "cell_type": "code",
   "execution_count": 6,
   "metadata": {},
   "outputs": [],
   "source": [
    "data_02 = data.dropna(subset=['review'])"
   ]
  },
  {
   "cell_type": "code",
   "execution_count": 7,
   "metadata": {},
   "outputs": [
    {
     "data": {
      "text/html": [
       "<div>\n",
       "<style scoped>\n",
       "    .dataframe tbody tr th:only-of-type {\n",
       "        vertical-align: middle;\n",
       "    }\n",
       "\n",
       "    .dataframe tbody tr th {\n",
       "        vertical-align: top;\n",
       "    }\n",
       "\n",
       "    .dataframe thead th {\n",
       "        text-align: right;\n",
       "    }\n",
       "</style>\n",
       "<table border=\"1\" class=\"dataframe\">\n",
       "  <thead>\n",
       "    <tr style=\"text-align: right;\">\n",
       "      <th></th>\n",
       "      <th>product</th>\n",
       "      <th>review</th>\n",
       "      <th>향</th>\n",
       "      <th>자극도</th>\n",
       "      <th>거품</th>\n",
       "      <th>세정력</th>\n",
       "    </tr>\n",
       "  </thead>\n",
       "  <tbody>\n",
       "    <tr>\n",
       "      <td>1</td>\n",
       "      <td>허벌에센스 핑크로즈 샴푸 490ml</td>\n",
       "      <td>뽀득뽀득해요 성분 좋다는 샴푸 쓰다가 거품도 너무 안나고 세정력이 떨어져서 바꿔봤는...</td>\n",
       "      <td>아주 만족해요</td>\n",
       "      <td>자극없이 순해요</td>\n",
       "      <td>거품이 풍성해요</td>\n",
       "      <td>보통이에요</td>\n",
       "    </tr>\n",
       "    <tr>\n",
       "      <td>4</td>\n",
       "      <td>허벌에센스 핑크로즈 샴푸 490ml</td>\n",
       "      <td>비누와 같은 세정력 세장력은 좋은 것 같은데 샴푸 후 머릿결이 조금 뻣뻣한 느낌이 ...</td>\n",
       "      <td>보통이에요</td>\n",
       "      <td>자극없이 순해요</td>\n",
       "      <td>거품이 풍성해요</td>\n",
       "      <td>보통이에요</td>\n",
       "    </tr>\n",
       "    <tr>\n",
       "      <td>7</td>\n",
       "      <td>허벌에센스 핑크로즈 샴푸 490ml</td>\n",
       "      <td>머리결에 풍부한 영양가와 좋은 향이 가득합니다 머리카락이 많이 상했었는데 이 제품 ...</td>\n",
       "      <td>아주 만족해요</td>\n",
       "      <td>자극없이 순해요</td>\n",
       "      <td>거품이 풍성해요</td>\n",
       "      <td>아주 만족해요</td>\n",
       "    </tr>\n",
       "    <tr>\n",
       "      <td>9</td>\n",
       "      <td>허벌에센스 핑크로즈 샴푸 490ml</td>\n",
       "      <td>머리카락 건조하신분들은 사용하시면 조금 건조할듯합니다 향이나 거품은 진짜 좋은데 나...</td>\n",
       "      <td>보통이에요</td>\n",
       "      <td>자극없이 순해요</td>\n",
       "      <td>거품이 풍성해요</td>\n",
       "      <td>아주 만족해요</td>\n",
       "    </tr>\n",
       "    <tr>\n",
       "      <td>12</td>\n",
       "      <td>허벌에센스 핑크로즈 샴푸 490ml</td>\n",
       "      <td>냄새가 너무 좋아요 원래부터 좋아하던 제품이라서 구매했습니다 냄새 짱</td>\n",
       "      <td>아주 만족해요</td>\n",
       "      <td>자극없이 순해요</td>\n",
       "      <td>거품이 풍성해요</td>\n",
       "      <td>아주 만족해요</td>\n",
       "    </tr>\n",
       "  </tbody>\n",
       "</table>\n",
       "</div>"
      ],
      "text/plain": [
       "                product                                             review  \\\n",
       "1   허벌에센스 핑크로즈 샴푸 490ml  뽀득뽀득해요 성분 좋다는 샴푸 쓰다가 거품도 너무 안나고 세정력이 떨어져서 바꿔봤는...   \n",
       "4   허벌에센스 핑크로즈 샴푸 490ml  비누와 같은 세정력 세장력은 좋은 것 같은데 샴푸 후 머릿결이 조금 뻣뻣한 느낌이 ...   \n",
       "7   허벌에센스 핑크로즈 샴푸 490ml  머리결에 풍부한 영양가와 좋은 향이 가득합니다 머리카락이 많이 상했었는데 이 제품 ...   \n",
       "9   허벌에센스 핑크로즈 샴푸 490ml  머리카락 건조하신분들은 사용하시면 조금 건조할듯합니다 향이나 거품은 진짜 좋은데 나...   \n",
       "12  허벌에센스 핑크로즈 샴푸 490ml             냄새가 너무 좋아요 원래부터 좋아하던 제품이라서 구매했습니다 냄새 짱   \n",
       "\n",
       "          향       자극도        거품      세정력  \n",
       "1   아주 만족해요  자극없이 순해요  거품이 풍성해요    보통이에요  \n",
       "4     보통이에요  자극없이 순해요  거품이 풍성해요    보통이에요  \n",
       "7   아주 만족해요  자극없이 순해요  거품이 풍성해요  아주 만족해요  \n",
       "9     보통이에요  자극없이 순해요  거품이 풍성해요  아주 만족해요  \n",
       "12  아주 만족해요  자극없이 순해요  거품이 풍성해요  아주 만족해요  "
      ]
     },
     "execution_count": 7,
     "metadata": {},
     "output_type": "execute_result"
    }
   ],
   "source": [
    "data_02.head()"
   ]
  },
  {
   "cell_type": "code",
   "execution_count": 8,
   "metadata": {},
   "outputs": [
    {
     "data": {
      "text/plain": [
       "(12584, 6)"
      ]
     },
     "execution_count": 8,
     "metadata": {},
     "output_type": "execute_result"
    }
   ],
   "source": [
    "data_02.shape"
   ]
  },
  {
   "cell_type": "code",
   "execution_count": 9,
   "metadata": {},
   "outputs": [
    {
     "data": {
      "text/plain": [
       "Index(['product', 'review', '향', '자극도', '거품', '세정력'], dtype='object')"
      ]
     },
     "execution_count": 9,
     "metadata": {},
     "output_type": "execute_result"
    }
   ],
   "source": [
    "data_02.columns"
   ]
  },
  {
   "cell_type": "markdown",
   "metadata": {},
   "source": [
    "### index 재설정"
   ]
  },
  {
   "cell_type": "code",
   "execution_count": 10,
   "metadata": {},
   "outputs": [],
   "source": [
    "data_02.index = pd.RangeIndex(len(data_02))"
   ]
  },
  {
   "cell_type": "code",
   "execution_count": 11,
   "metadata": {},
   "outputs": [
    {
     "data": {
      "text/html": [
       "<div>\n",
       "<style scoped>\n",
       "    .dataframe tbody tr th:only-of-type {\n",
       "        vertical-align: middle;\n",
       "    }\n",
       "\n",
       "    .dataframe tbody tr th {\n",
       "        vertical-align: top;\n",
       "    }\n",
       "\n",
       "    .dataframe thead th {\n",
       "        text-align: right;\n",
       "    }\n",
       "</style>\n",
       "<table border=\"1\" class=\"dataframe\">\n",
       "  <thead>\n",
       "    <tr style=\"text-align: right;\">\n",
       "      <th></th>\n",
       "      <th>product</th>\n",
       "      <th>review</th>\n",
       "      <th>향</th>\n",
       "      <th>자극도</th>\n",
       "      <th>거품</th>\n",
       "      <th>세정력</th>\n",
       "    </tr>\n",
       "  </thead>\n",
       "  <tbody>\n",
       "    <tr>\n",
       "      <td>0</td>\n",
       "      <td>허벌에센스 핑크로즈 샴푸 490ml</td>\n",
       "      <td>뽀득뽀득해요 성분 좋다는 샴푸 쓰다가 거품도 너무 안나고 세정력이 떨어져서 바꿔봤는...</td>\n",
       "      <td>아주 만족해요</td>\n",
       "      <td>자극없이 순해요</td>\n",
       "      <td>거품이 풍성해요</td>\n",
       "      <td>보통이에요</td>\n",
       "    </tr>\n",
       "    <tr>\n",
       "      <td>1</td>\n",
       "      <td>허벌에센스 핑크로즈 샴푸 490ml</td>\n",
       "      <td>비누와 같은 세정력 세장력은 좋은 것 같은데 샴푸 후 머릿결이 조금 뻣뻣한 느낌이 ...</td>\n",
       "      <td>보통이에요</td>\n",
       "      <td>자극없이 순해요</td>\n",
       "      <td>거품이 풍성해요</td>\n",
       "      <td>보통이에요</td>\n",
       "    </tr>\n",
       "    <tr>\n",
       "      <td>2</td>\n",
       "      <td>허벌에센스 핑크로즈 샴푸 490ml</td>\n",
       "      <td>머리결에 풍부한 영양가와 좋은 향이 가득합니다 머리카락이 많이 상했었는데 이 제품 ...</td>\n",
       "      <td>아주 만족해요</td>\n",
       "      <td>자극없이 순해요</td>\n",
       "      <td>거품이 풍성해요</td>\n",
       "      <td>아주 만족해요</td>\n",
       "    </tr>\n",
       "    <tr>\n",
       "      <td>3</td>\n",
       "      <td>허벌에센스 핑크로즈 샴푸 490ml</td>\n",
       "      <td>머리카락 건조하신분들은 사용하시면 조금 건조할듯합니다 향이나 거품은 진짜 좋은데 나...</td>\n",
       "      <td>보통이에요</td>\n",
       "      <td>자극없이 순해요</td>\n",
       "      <td>거품이 풍성해요</td>\n",
       "      <td>아주 만족해요</td>\n",
       "    </tr>\n",
       "    <tr>\n",
       "      <td>4</td>\n",
       "      <td>허벌에센스 핑크로즈 샴푸 490ml</td>\n",
       "      <td>냄새가 너무 좋아요 원래부터 좋아하던 제품이라서 구매했습니다 냄새 짱</td>\n",
       "      <td>아주 만족해요</td>\n",
       "      <td>자극없이 순해요</td>\n",
       "      <td>거품이 풍성해요</td>\n",
       "      <td>아주 만족해요</td>\n",
       "    </tr>\n",
       "  </tbody>\n",
       "</table>\n",
       "</div>"
      ],
      "text/plain": [
       "               product                                             review  \\\n",
       "0  허벌에센스 핑크로즈 샴푸 490ml  뽀득뽀득해요 성분 좋다는 샴푸 쓰다가 거품도 너무 안나고 세정력이 떨어져서 바꿔봤는...   \n",
       "1  허벌에센스 핑크로즈 샴푸 490ml  비누와 같은 세정력 세장력은 좋은 것 같은데 샴푸 후 머릿결이 조금 뻣뻣한 느낌이 ...   \n",
       "2  허벌에센스 핑크로즈 샴푸 490ml  머리결에 풍부한 영양가와 좋은 향이 가득합니다 머리카락이 많이 상했었는데 이 제품 ...   \n",
       "3  허벌에센스 핑크로즈 샴푸 490ml  머리카락 건조하신분들은 사용하시면 조금 건조할듯합니다 향이나 거품은 진짜 좋은데 나...   \n",
       "4  허벌에센스 핑크로즈 샴푸 490ml             냄새가 너무 좋아요 원래부터 좋아하던 제품이라서 구매했습니다 냄새 짱   \n",
       "\n",
       "         향       자극도        거품      세정력  \n",
       "0  아주 만족해요  자극없이 순해요  거품이 풍성해요    보통이에요  \n",
       "1    보통이에요  자극없이 순해요  거품이 풍성해요    보통이에요  \n",
       "2  아주 만족해요  자극없이 순해요  거품이 풍성해요  아주 만족해요  \n",
       "3    보통이에요  자극없이 순해요  거품이 풍성해요  아주 만족해요  \n",
       "4  아주 만족해요  자극없이 순해요  거품이 풍성해요  아주 만족해요  "
      ]
     },
     "execution_count": 11,
     "metadata": {},
     "output_type": "execute_result"
    }
   ],
   "source": [
    "data_02.head()"
   ]
  },
  {
   "cell_type": "code",
   "execution_count": 47,
   "metadata": {},
   "outputs": [],
   "source": [
    "# cleasing 함수 \n",
    "\n",
    "def cleasing(text):\n",
    "    repl =''\n",
    "    pattern = '([ㄱ-ㅎㅏ-ㅣ]+)' # 자음, 모음 제거\n",
    "    text = re.sub(pattern= pattern, repl=repl, string=text)\n",
    "    #pattern = '[^\\w\\s]' # 특수기호 제거\n",
    "    pattern = '[^가-히\\s]' # 특수기호 제거\n",
    "    text = re.sub(pattern= pattern, repl=repl, string=text)\n",
    "    pattern = '<[^>]*>' # html 제거\n",
    "    text = re.sub(pattern = pattern, repl='',string=text)\n",
    "    return text"
   ]
  },
  {
   "cell_type": "code",
   "execution_count": 13,
   "metadata": {},
   "outputs": [],
   "source": [
    "import copy"
   ]
  },
  {
   "cell_type": "code",
   "execution_count": 35,
   "metadata": {},
   "outputs": [],
   "source": [
    "data_review_preprocessing01 = copy.deepcopy(data_02)"
   ]
  },
  {
   "cell_type": "code",
   "execution_count": 36,
   "metadata": {},
   "outputs": [
    {
     "data": {
      "text/html": [
       "<div>\n",
       "<style scoped>\n",
       "    .dataframe tbody tr th:only-of-type {\n",
       "        vertical-align: middle;\n",
       "    }\n",
       "\n",
       "    .dataframe tbody tr th {\n",
       "        vertical-align: top;\n",
       "    }\n",
       "\n",
       "    .dataframe thead th {\n",
       "        text-align: right;\n",
       "    }\n",
       "</style>\n",
       "<table border=\"1\" class=\"dataframe\">\n",
       "  <thead>\n",
       "    <tr style=\"text-align: right;\">\n",
       "      <th></th>\n",
       "      <th>product</th>\n",
       "      <th>review</th>\n",
       "      <th>향</th>\n",
       "      <th>자극도</th>\n",
       "      <th>거품</th>\n",
       "      <th>세정력</th>\n",
       "    </tr>\n",
       "  </thead>\n",
       "  <tbody>\n",
       "    <tr>\n",
       "      <td>0</td>\n",
       "      <td>허벌에센스 핑크로즈 샴푸 490ml</td>\n",
       "      <td>뽀득뽀득해요 성분 좋다는 샴푸 쓰다가 거품도 너무 안나고 세정력이 떨어져서 바꿔봤는...</td>\n",
       "      <td>아주 만족해요</td>\n",
       "      <td>자극없이 순해요</td>\n",
       "      <td>거품이 풍성해요</td>\n",
       "      <td>보통이에요</td>\n",
       "    </tr>\n",
       "    <tr>\n",
       "      <td>1</td>\n",
       "      <td>허벌에센스 핑크로즈 샴푸 490ml</td>\n",
       "      <td>비누와 같은 세정력 세장력은 좋은 것 같은데 샴푸 후 머릿결이 조금 뻣뻣한 느낌이 ...</td>\n",
       "      <td>보통이에요</td>\n",
       "      <td>자극없이 순해요</td>\n",
       "      <td>거품이 풍성해요</td>\n",
       "      <td>보통이에요</td>\n",
       "    </tr>\n",
       "    <tr>\n",
       "      <td>2</td>\n",
       "      <td>허벌에센스 핑크로즈 샴푸 490ml</td>\n",
       "      <td>머리결에 풍부한 영양가와 좋은 향이 가득합니다 머리카락이 많이 상했었는데 이 제품 ...</td>\n",
       "      <td>아주 만족해요</td>\n",
       "      <td>자극없이 순해요</td>\n",
       "      <td>거품이 풍성해요</td>\n",
       "      <td>아주 만족해요</td>\n",
       "    </tr>\n",
       "    <tr>\n",
       "      <td>3</td>\n",
       "      <td>허벌에센스 핑크로즈 샴푸 490ml</td>\n",
       "      <td>머리카락 건조하신분들은 사용하시면 조금 건조할듯합니다 향이나 거품은 진짜 좋은데 나...</td>\n",
       "      <td>보통이에요</td>\n",
       "      <td>자극없이 순해요</td>\n",
       "      <td>거품이 풍성해요</td>\n",
       "      <td>아주 만족해요</td>\n",
       "    </tr>\n",
       "    <tr>\n",
       "      <td>4</td>\n",
       "      <td>허벌에센스 핑크로즈 샴푸 490ml</td>\n",
       "      <td>냄새가 너무 좋아요 원래부터 좋아하던 제품이라서 구매했습니다 냄새 짱</td>\n",
       "      <td>아주 만족해요</td>\n",
       "      <td>자극없이 순해요</td>\n",
       "      <td>거품이 풍성해요</td>\n",
       "      <td>아주 만족해요</td>\n",
       "    </tr>\n",
       "  </tbody>\n",
       "</table>\n",
       "</div>"
      ],
      "text/plain": [
       "               product                                             review  \\\n",
       "0  허벌에센스 핑크로즈 샴푸 490ml  뽀득뽀득해요 성분 좋다는 샴푸 쓰다가 거품도 너무 안나고 세정력이 떨어져서 바꿔봤는...   \n",
       "1  허벌에센스 핑크로즈 샴푸 490ml  비누와 같은 세정력 세장력은 좋은 것 같은데 샴푸 후 머릿결이 조금 뻣뻣한 느낌이 ...   \n",
       "2  허벌에센스 핑크로즈 샴푸 490ml  머리결에 풍부한 영양가와 좋은 향이 가득합니다 머리카락이 많이 상했었는데 이 제품 ...   \n",
       "3  허벌에센스 핑크로즈 샴푸 490ml  머리카락 건조하신분들은 사용하시면 조금 건조할듯합니다 향이나 거품은 진짜 좋은데 나...   \n",
       "4  허벌에센스 핑크로즈 샴푸 490ml             냄새가 너무 좋아요 원래부터 좋아하던 제품이라서 구매했습니다 냄새 짱   \n",
       "\n",
       "         향       자극도        거품      세정력  \n",
       "0  아주 만족해요  자극없이 순해요  거품이 풍성해요    보통이에요  \n",
       "1    보통이에요  자극없이 순해요  거품이 풍성해요    보통이에요  \n",
       "2  아주 만족해요  자극없이 순해요  거품이 풍성해요  아주 만족해요  \n",
       "3    보통이에요  자극없이 순해요  거품이 풍성해요  아주 만족해요  \n",
       "4  아주 만족해요  자극없이 순해요  거품이 풍성해요  아주 만족해요  "
      ]
     },
     "execution_count": 36,
     "metadata": {},
     "output_type": "execute_result"
    }
   ],
   "source": [
    "data_review_preprocessing01.head()"
   ]
  },
  {
   "cell_type": "code",
   "execution_count": 59,
   "metadata": {},
   "outputs": [
    {
     "data": {
      "text/plain": [
       "'감사합니다 샴푸가 다 떨어져서 샀읍니다 판매량이 많길래 사봤어요'"
      ]
     },
     "execution_count": 59,
     "metadata": {},
     "output_type": "execute_result"
    }
   ],
   "source": [
    "data_review_preprocessing01.iloc[13]['review']"
   ]
  },
  {
   "cell_type": "code",
   "execution_count": 43,
   "metadata": {},
   "outputs": [
    {
     "data": {
      "text/plain": [
       "0        뽀득뽀득해요 성분 좋다는 샴푸 쓰다가 거품도 너무 안나고 세정력이 떨어져서 바꿔봤는...\n",
       "1        비누와 같은 세정력 세장력은 좋은 것 같은데 샴푸 후 머릿결이 조금 뻣뻣한 느낌이 ...\n",
       "2        머리결에 풍부한 영양가와 좋은 향이 가득합니다 머리카락이 많이 상했었는데 이 제품 ...\n",
       "3        머리카락 건조하신분들은 사용하시면 조금 건조할듯합니다 향이나 거품은 진짜 좋은데 나...\n",
       "4                   냄새가 너무 좋아요 원래부터 좋아하던 제품이라서 구매했습니다 냄새 짱\n",
       "                               ...                        \n",
       "12579                   소문 믿고 구입했으나 품질은 수십번 사용해본후 판단해볼께요..\n",
       "12580                                              잘받았습니다 \n",
       "12581                                               싸게 샀어요\n",
       "12582    머리카락이 안 빠지는건 아직 못 느끼겠고요 <br>쓰고 나니 머리가 너무 뻣뻣해서 ...\n",
       "12583                                            탈모샴푸 가대해요\n",
       "Name: review, Length: 12584, dtype: object"
      ]
     },
     "execution_count": 43,
     "metadata": {},
     "output_type": "execute_result"
    }
   ],
   "source": [
    "data_review_preprocessing01.iloc[:,1]"
   ]
  },
  {
   "cell_type": "code",
   "execution_count": 44,
   "metadata": {},
   "outputs": [],
   "source": [
    "# 특수문자, 자음 모음, 해시태그 제거 - 테스트\n",
    "\n",
    "count = 0\n",
    "for review in data_review_preprocessing01['review']:\n",
    "    if count < 50: \n",
    "        review = cleasing(review)\n",
    "        data_review_preprocessing01.iloc[count]['review'] = review\n",
    "        #print(type(review), review, '\\n')\n",
    "        count += 1\n"
   ]
  },
  {
   "cell_type": "code",
   "execution_count": 49,
   "metadata": {},
   "outputs": [
    {
     "data": {
      "text/plain": [
       "'비누와 같은 세정력 세장력은 좋은 것 같은데 샴푸 후 머릿결이 조금 뻣뻣한 느낌이 있어요 \\n트리트먼트를 필수로 해야할 것 같아요'"
      ]
     },
     "execution_count": 49,
     "metadata": {},
     "output_type": "execute_result"
    }
   ],
   "source": [
    "text = '비누와 같은 세정력 세장력은 좋은 것 같은데 샴푸 후 머릿결이 조금 뻣뻣한 느낌이 있어요 \\n트리트먼트를 필수로 해야할 것 같아요'\n",
    "\n",
    "cleasing(text)"
   ]
  },
  {
   "cell_type": "code",
   "execution_count": 45,
   "metadata": {},
   "outputs": [
    {
     "data": {
      "text/plain": [
       "'비누와 같은 세정력 세장력은 좋은 것 같은데 샴푸 후 머릿결이 조금 뻣뻣한 느낌이 있어요 \\n트리트먼트를 필수로 해야할 것 같아요'"
      ]
     },
     "execution_count": 45,
     "metadata": {},
     "output_type": "execute_result"
    }
   ],
   "source": [
    "data_review_preprocessing01.iloc[1]['review']"
   ]
  },
  {
   "cell_type": "code",
   "execution_count": 60,
   "metadata": {},
   "outputs": [
    {
     "data": {
      "text/plain": [
       "Index(['product', 'review', '향', '자극도', '거품', '세정력'], dtype='object')"
      ]
     },
     "execution_count": 60,
     "metadata": {},
     "output_type": "execute_result"
    }
   ],
   "source": [
    "data_review_preprocessing01.columns"
   ]
  },
  {
   "cell_type": "code",
   "execution_count": 21,
   "metadata": {},
   "outputs": [
    {
     "data": {
      "text/plain": [
       "0        뽀득뽀득해요 성분 좋다는 샴푸 쓰다가 거품도 너무 안나고 세정력이 떨어져서 바꿔봤는...\n",
       "1        비누와 같은 세정력 세장력은 좋은 것 같은데 샴푸 후 머릿결이 조금 뻣뻣한 느낌이 ...\n",
       "2        머리결에 풍부한 영양가와 좋은 향이 가득합니다 머리카락이 많이 상했었는데 이 제품 ...\n",
       "3        머리카락 건조하신분들은 사용하시면 조금 건조할듯합니다 향이나 거품은 진짜 좋은데 나...\n",
       "4                   냄새가 너무 좋아요 원래부터 좋아하던 제품이라서 구매했습니다 냄새 짱\n",
       "                               ...                        \n",
       "12579                   소문 믿고 구입했으나 품질은 수십번 사용해본후 판단해볼께요..\n",
       "12580                                              잘받았습니다 \n",
       "12581                                               싸게 샀어요\n",
       "12582    머리카락이 안 빠지는건 아직 못 느끼겠고요 <br>쓰고 나니 머리가 너무 뻣뻣해서 ...\n",
       "12583                                            탈모샴푸 가대해요\n",
       "Name: review, Length: 12584, dtype: object"
      ]
     },
     "execution_count": 21,
     "metadata": {},
     "output_type": "execute_result"
    }
   ],
   "source": [
    "data_review_preprocessing01['review']"
   ]
  },
  {
   "cell_type": "code",
   "execution_count": 22,
   "metadata": {},
   "outputs": [
    {
     "name": "stdout",
     "output_type": "stream",
     "text": [
      "0    뽀득뽀득해요 성분 좋다는 샴푸 쓰다가 거품도 너무 안나고 세정력이 떨어져서 바꿔봤는...\n",
      "1    비누와 같은 세정력 세장력은 좋은 것 같은데 샴푸 후 머릿결이 조금 뻣뻣한 느낌이 ...\n",
      "2    머리결에 풍부한 영양가와 좋은 향이 가득합니다 머리카락이 많이 상했었는데 이 제품 ...\n",
      "3    머리카락 건조하신분들은 사용하시면 조금 건조할듯합니다 향이나 거품은 진짜 좋은데 나...\n",
      "4               냄새가 너무 좋아요 원래부터 좋아하던 제품이라서 구매했습니다 냄새 짱\n",
      "Name: review, dtype: object\n"
     ]
    }
   ],
   "source": [
    "print(data_review_preprocessing01['review'].head())"
   ]
  },
  {
   "cell_type": "code",
   "execution_count": null,
   "metadata": {},
   "outputs": [],
   "source": [
    "# 특수문자, 자음 모음, 해시태그 제거 - 테스트\n",
    "\n",
    "count = 0\n",
    "for review in data_review_preprocessing01['review']:\n",
    "    if count < 50: \n",
    "        review = cleasing(review)\n",
    "        data_review_preprocessing01.iloc[count]['review'] = review\n",
    "        #print(type(review), review, '\\n')\n",
    "        count += 1"
   ]
  },
  {
   "cell_type": "code",
   "execution_count": 61,
   "metadata": {},
   "outputs": [],
   "source": [
    "# 특수문자, 자음 모음, 해시태그 제거  + 저장\n",
    "\n",
    "count = 0\n",
    "for review in data_review_preprocessing01['review']:\n",
    "    review = cleasing(review)\n",
    "    data_review_preprocessing01.iloc[count]['review'] = review\n",
    "    count += 1"
   ]
  },
  {
   "cell_type": "code",
   "execution_count": 63,
   "metadata": {},
   "outputs": [
    {
     "data": {
      "text/plain": [
       "(12584, 6)"
      ]
     },
     "execution_count": 63,
     "metadata": {},
     "output_type": "execute_result"
    }
   ],
   "source": [
    "data_review_preprocessing01.shape"
   ]
  },
  {
   "cell_type": "code",
   "execution_count": null,
   "metadata": {},
   "outputs": [],
   "source": [
    "# 특수문자, 자음 모음, 해시태그 제거  + 저장\n",
    "\n",
    "count = 0\n",
    "for review in data_review_preprocessing01['review']:\n",
    "    review = cleasing(review)\n",
    "    data_review_preprocessing01[count] = review\n",
    "    #print(type(review), review, '\\n')\n",
    "    count += 1"
   ]
  },
  {
   "cell_type": "code",
   "execution_count": null,
   "metadata": {},
   "outputs": [],
   "source": [
    "# 저장 잘 됐는지 확인 \n",
    "\n",
    "count = 0\n",
    "for review in data_review_preprocessing01['review']:\n",
    "    if count < 30:\n",
    "        print(review , '\\n')\n",
    "        count +=1"
   ]
  },
  {
   "cell_type": "code",
   "execution_count": null,
   "metadata": {},
   "outputs": [],
   "source": [
    "data_review_preprocessing01.head()"
   ]
  },
  {
   "cell_type": "code",
   "execution_count": null,
   "metadata": {},
   "outputs": [],
   "source": []
  },
  {
   "cell_type": "markdown",
   "metadata": {},
   "source": [
    "### review만 따로 csv로 저장"
   ]
  },
  {
   "cell_type": "code",
   "execution_count": 64,
   "metadata": {},
   "outputs": [],
   "source": [
    "data_review_preprocessing01.to_csv(\"1015_CJ_review_peprocessing.csv\", mode='w')"
   ]
  },
  {
   "cell_type": "code",
   "execution_count": null,
   "metadata": {},
   "outputs": [],
   "source": []
  },
  {
   "cell_type": "markdown",
   "metadata": {},
   "source": [
    "### 정제 함수  테스트"
   ]
  },
  {
   "cell_type": "code",
   "execution_count": null,
   "metadata": {},
   "outputs": [],
   "source": [
    "count = 0\n",
    "for review in data_review:\n",
    "    if count < 1000: \n",
    "        review = cleasing(review)\n",
    "        print(type(review), review, '\\n')\n",
    "        count += 1"
   ]
  },
  {
   "cell_type": "code",
   "execution_count": null,
   "metadata": {},
   "outputs": [],
   "source": [
    "count = 0\n",
    "for review in data_review:\n",
    "    if count < 10: \n",
    "        pattern = '([ㄱ-ㅎㅏ-ㅣ]+)'\n",
    "        repl=''\n",
    "        review = re.sub(pattern= pattern, repl=repl, string=review)\n",
    "        print(type(review), review, '\\n')\n",
    "        count += 1\n",
    "        "
   ]
  },
  {
   "cell_type": "code",
   "execution_count": null,
   "metadata": {},
   "outputs": [],
   "source": [
    "count = 0\n",
    "for review in data_review:\n",
    "    if count < 10: \n",
    "        #re.sub('[-=+,#/\\?:^$.@*\\\"※~&%ㆍ!』\\\\‘|\\(\\)\\[\\]\\<\\>`\\'…》]', '', review)\n",
    "        print(review, '\\n')\n",
    "        count += 1"
   ]
  },
  {
   "cell_type": "code",
   "execution_count": null,
   "metadata": {},
   "outputs": [],
   "source": [
    "number = '716,908'\n",
    "number = int(re.sub(',','',number))\n",
    "print(number)"
   ]
  },
  {
   "cell_type": "code",
   "execution_count": null,
   "metadata": {},
   "outputs": [],
   "source": []
  }
 ],
 "metadata": {
  "kernelspec": {
   "display_name": "Python 3",
   "language": "python",
   "name": "python3"
  },
  "language_info": {
   "codemirror_mode": {
    "name": "ipython",
    "version": 3
   },
   "file_extension": ".py",
   "mimetype": "text/x-python",
   "name": "python",
   "nbconvert_exporter": "python",
   "pygments_lexer": "ipython3",
   "version": "3.7.3"
  }
 },
 "nbformat": 4,
 "nbformat_minor": 2
}
