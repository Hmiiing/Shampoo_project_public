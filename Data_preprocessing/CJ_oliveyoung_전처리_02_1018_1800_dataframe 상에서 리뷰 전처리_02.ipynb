{
 "cells": [
  {
   "cell_type": "code",
   "execution_count": 1,
   "metadata": {},
   "outputs": [],
   "source": [
    "import pandas as pd \n",
    "import re"
   ]
  },
  {
   "cell_type": "code",
   "execution_count": 2,
   "metadata": {},
   "outputs": [],
   "source": [
    "data =pd.read_excel('excel_01_1018_1단계_CJ_review_peprocessing.xlsx')"
   ]
  },
  {
   "cell_type": "code",
   "execution_count": 3,
   "metadata": {},
   "outputs": [
    {
     "data": {
      "text/plain": [
       "Index(['Unnamed: 0', 'product', 'review', '거품', '세정력', '자극도', '향'], dtype='object')"
      ]
     },
     "execution_count": 3,
     "metadata": {},
     "output_type": "execute_result"
    }
   ],
   "source": [
    "data.columns"
   ]
  },
  {
   "cell_type": "code",
   "execution_count": 4,
   "metadata": {},
   "outputs": [],
   "source": [
    "data.drop(['Unnamed: 0'],axis='columns' , inplace = True)"
   ]
  },
  {
   "cell_type": "code",
   "execution_count": 5,
   "metadata": {},
   "outputs": [
    {
     "data": {
      "text/plain": [
       "Index(['product', 'review', '거품', '세정력', '자극도', '향'], dtype='object')"
      ]
     },
     "execution_count": 5,
     "metadata": {},
     "output_type": "execute_result"
    }
   ],
   "source": [
    "data.columns"
   ]
  },
  {
   "cell_type": "code",
   "execution_count": 6,
   "metadata": {},
   "outputs": [
    {
     "data": {
      "text/plain": [
       "(19903, 6)"
      ]
     },
     "execution_count": 6,
     "metadata": {},
     "output_type": "execute_result"
    }
   ],
   "source": [
    "data.shape"
   ]
  },
  {
   "cell_type": "code",
   "execution_count": 7,
   "metadata": {},
   "outputs": [],
   "source": [
    "data_02 = data.dropna(subset=['review'])"
   ]
  },
  {
   "cell_type": "code",
   "execution_count": 8,
   "metadata": {},
   "outputs": [
    {
     "data": {
      "text/html": [
       "<div>\n",
       "<style scoped>\n",
       "    .dataframe tbody tr th:only-of-type {\n",
       "        vertical-align: middle;\n",
       "    }\n",
       "\n",
       "    .dataframe tbody tr th {\n",
       "        vertical-align: top;\n",
       "    }\n",
       "\n",
       "    .dataframe thead th {\n",
       "        text-align: right;\n",
       "    }\n",
       "</style>\n",
       "<table border=\"1\" class=\"dataframe\">\n",
       "  <thead>\n",
       "    <tr style=\"text-align: right;\">\n",
       "      <th></th>\n",
       "      <th>product</th>\n",
       "      <th>review</th>\n",
       "      <th>거품</th>\n",
       "      <th>세정력</th>\n",
       "      <th>자극도</th>\n",
       "      <th>향</th>\n",
       "    </tr>\n",
       "  </thead>\n",
       "  <tbody>\n",
       "    <tr>\n",
       "      <th>0</th>\n",
       "      <td>허벌에센스 핑크로즈 샴푸 490ml</td>\n",
       "      <td>기존에 상품대비 가격이 부담이었는데 할인율이 높아져서 만족하면서 사용하고 있어요...</td>\n",
       "      <td>보통이에요</td>\n",
       "      <td>아주 만족해요</td>\n",
       "      <td>보통이에요</td>\n",
       "      <td>보통이에요</td>\n",
       "    </tr>\n",
       "    <tr>\n",
       "      <th>1</th>\n",
       "      <td>허벌에센스 핑크로즈 샴푸 490ml</td>\n",
       "      <td>뽀득뽀득해요 성분 좋다는 샴푸 쓰다가 거품도 너무 안나고 세정력이 떨어져서 바꿔봤는...</td>\n",
       "      <td>거품이 풍성해요</td>\n",
       "      <td>보통이에요</td>\n",
       "      <td>자극없이 순해요</td>\n",
       "      <td>아주 만족해요</td>\n",
       "    </tr>\n",
       "    <tr>\n",
       "      <th>2</th>\n",
       "      <td>허벌에센스 핑크로즈 샴푸 490ml</td>\n",
       "      <td>매번쓰던거입니다 거품도풍넝하고맘에아두듭니다</td>\n",
       "      <td>거품이 풍성해요</td>\n",
       "      <td>아주 만족해요</td>\n",
       "      <td>자극없이 순해요</td>\n",
       "      <td>아주 만족해요</td>\n",
       "    </tr>\n",
       "    <tr>\n",
       "      <th>3</th>\n",
       "      <td>허벌에센스 핑크로즈 샴푸 490ml</td>\n",
       "      <td>노란색 사용하다가 핑크색이 향이 더 좋을것 같아서 구매했어요</td>\n",
       "      <td>거품이 풍성해요</td>\n",
       "      <td>보통이에요</td>\n",
       "      <td>자극없이 순해요</td>\n",
       "      <td>보통이에요</td>\n",
       "    </tr>\n",
       "    <tr>\n",
       "      <th>4</th>\n",
       "      <td>허벌에센스 핑크로즈 샴푸 490ml</td>\n",
       "      <td>비누와 같은 세정력 세장력은 좋은 것 같은데 샴푸 후 머릿결이 조금 뻣뻣한 느낌이 ...</td>\n",
       "      <td>거품이 풍성해요</td>\n",
       "      <td>보통이에요</td>\n",
       "      <td>자극없이 순해요</td>\n",
       "      <td>보통이에요</td>\n",
       "    </tr>\n",
       "  </tbody>\n",
       "</table>\n",
       "</div>"
      ],
      "text/plain": [
       "               product                                             review  \\\n",
       "0  허벌에센스 핑크로즈 샴푸 490ml    기존에 상품대비 가격이 부담이었는데 할인율이 높아져서 만족하면서 사용하고 있어요...   \n",
       "1  허벌에센스 핑크로즈 샴푸 490ml  뽀득뽀득해요 성분 좋다는 샴푸 쓰다가 거품도 너무 안나고 세정력이 떨어져서 바꿔봤는...   \n",
       "2  허벌에센스 핑크로즈 샴푸 490ml                            매번쓰던거입니다 거품도풍넝하고맘에아두듭니다   \n",
       "3  허벌에센스 핑크로즈 샴푸 490ml                  노란색 사용하다가 핑크색이 향이 더 좋을것 같아서 구매했어요   \n",
       "4  허벌에센스 핑크로즈 샴푸 490ml  비누와 같은 세정력 세장력은 좋은 것 같은데 샴푸 후 머릿결이 조금 뻣뻣한 느낌이 ...   \n",
       "\n",
       "         거품      세정력       자극도        향  \n",
       "0     보통이에요  아주 만족해요     보통이에요    보통이에요  \n",
       "1  거품이 풍성해요    보통이에요  자극없이 순해요  아주 만족해요  \n",
       "2  거품이 풍성해요  아주 만족해요  자극없이 순해요  아주 만족해요  \n",
       "3  거품이 풍성해요    보통이에요  자극없이 순해요    보통이에요  \n",
       "4  거품이 풍성해요    보통이에요  자극없이 순해요    보통이에요  "
      ]
     },
     "execution_count": 8,
     "metadata": {},
     "output_type": "execute_result"
    }
   ],
   "source": [
    "data_02.head()"
   ]
  },
  {
   "cell_type": "markdown",
   "metadata": {},
   "source": [
    "### 리뷰가 조금 줄었다. nan 값이 drop 된 것인가? "
   ]
  },
  {
   "cell_type": "code",
   "execution_count": 9,
   "metadata": {},
   "outputs": [
    {
     "data": {
      "text/plain": [
       "(19896, 6)"
      ]
     },
     "execution_count": 9,
     "metadata": {},
     "output_type": "execute_result"
    }
   ],
   "source": [
    "data_02.shape"
   ]
  },
  {
   "cell_type": "code",
   "execution_count": 10,
   "metadata": {},
   "outputs": [
    {
     "data": {
      "text/plain": [
       "Index(['product', 'review', '거품', '세정력', '자극도', '향'], dtype='object')"
      ]
     },
     "execution_count": 10,
     "metadata": {},
     "output_type": "execute_result"
    }
   ],
   "source": [
    "data_02.columns"
   ]
  },
  {
   "cell_type": "markdown",
   "metadata": {},
   "source": [
    "### index 재설정"
   ]
  },
  {
   "cell_type": "code",
   "execution_count": 11,
   "metadata": {},
   "outputs": [],
   "source": [
    "data_02.index = pd.RangeIndex(len(data_02))"
   ]
  },
  {
   "cell_type": "code",
   "execution_count": 12,
   "metadata": {},
   "outputs": [
    {
     "data": {
      "text/html": [
       "<div>\n",
       "<style scoped>\n",
       "    .dataframe tbody tr th:only-of-type {\n",
       "        vertical-align: middle;\n",
       "    }\n",
       "\n",
       "    .dataframe tbody tr th {\n",
       "        vertical-align: top;\n",
       "    }\n",
       "\n",
       "    .dataframe thead th {\n",
       "        text-align: right;\n",
       "    }\n",
       "</style>\n",
       "<table border=\"1\" class=\"dataframe\">\n",
       "  <thead>\n",
       "    <tr style=\"text-align: right;\">\n",
       "      <th></th>\n",
       "      <th>product</th>\n",
       "      <th>review</th>\n",
       "      <th>거품</th>\n",
       "      <th>세정력</th>\n",
       "      <th>자극도</th>\n",
       "      <th>향</th>\n",
       "    </tr>\n",
       "  </thead>\n",
       "  <tbody>\n",
       "    <tr>\n",
       "      <th>0</th>\n",
       "      <td>허벌에센스 핑크로즈 샴푸 490ml</td>\n",
       "      <td>기존에 상품대비 가격이 부담이었는데 할인율이 높아져서 만족하면서 사용하고 있어요...</td>\n",
       "      <td>보통이에요</td>\n",
       "      <td>아주 만족해요</td>\n",
       "      <td>보통이에요</td>\n",
       "      <td>보통이에요</td>\n",
       "    </tr>\n",
       "    <tr>\n",
       "      <th>1</th>\n",
       "      <td>허벌에센스 핑크로즈 샴푸 490ml</td>\n",
       "      <td>뽀득뽀득해요 성분 좋다는 샴푸 쓰다가 거품도 너무 안나고 세정력이 떨어져서 바꿔봤는...</td>\n",
       "      <td>거품이 풍성해요</td>\n",
       "      <td>보통이에요</td>\n",
       "      <td>자극없이 순해요</td>\n",
       "      <td>아주 만족해요</td>\n",
       "    </tr>\n",
       "    <tr>\n",
       "      <th>2</th>\n",
       "      <td>허벌에센스 핑크로즈 샴푸 490ml</td>\n",
       "      <td>매번쓰던거입니다 거품도풍넝하고맘에아두듭니다</td>\n",
       "      <td>거품이 풍성해요</td>\n",
       "      <td>아주 만족해요</td>\n",
       "      <td>자극없이 순해요</td>\n",
       "      <td>아주 만족해요</td>\n",
       "    </tr>\n",
       "    <tr>\n",
       "      <th>3</th>\n",
       "      <td>허벌에센스 핑크로즈 샴푸 490ml</td>\n",
       "      <td>노란색 사용하다가 핑크색이 향이 더 좋을것 같아서 구매했어요</td>\n",
       "      <td>거품이 풍성해요</td>\n",
       "      <td>보통이에요</td>\n",
       "      <td>자극없이 순해요</td>\n",
       "      <td>보통이에요</td>\n",
       "    </tr>\n",
       "    <tr>\n",
       "      <th>4</th>\n",
       "      <td>허벌에센스 핑크로즈 샴푸 490ml</td>\n",
       "      <td>비누와 같은 세정력 세장력은 좋은 것 같은데 샴푸 후 머릿결이 조금 뻣뻣한 느낌이 ...</td>\n",
       "      <td>거품이 풍성해요</td>\n",
       "      <td>보통이에요</td>\n",
       "      <td>자극없이 순해요</td>\n",
       "      <td>보통이에요</td>\n",
       "    </tr>\n",
       "  </tbody>\n",
       "</table>\n",
       "</div>"
      ],
      "text/plain": [
       "               product                                             review  \\\n",
       "0  허벌에센스 핑크로즈 샴푸 490ml    기존에 상품대비 가격이 부담이었는데 할인율이 높아져서 만족하면서 사용하고 있어요...   \n",
       "1  허벌에센스 핑크로즈 샴푸 490ml  뽀득뽀득해요 성분 좋다는 샴푸 쓰다가 거품도 너무 안나고 세정력이 떨어져서 바꿔봤는...   \n",
       "2  허벌에센스 핑크로즈 샴푸 490ml                            매번쓰던거입니다 거품도풍넝하고맘에아두듭니다   \n",
       "3  허벌에센스 핑크로즈 샴푸 490ml                  노란색 사용하다가 핑크색이 향이 더 좋을것 같아서 구매했어요   \n",
       "4  허벌에센스 핑크로즈 샴푸 490ml  비누와 같은 세정력 세장력은 좋은 것 같은데 샴푸 후 머릿결이 조금 뻣뻣한 느낌이 ...   \n",
       "\n",
       "         거품      세정력       자극도        향  \n",
       "0     보통이에요  아주 만족해요     보통이에요    보통이에요  \n",
       "1  거품이 풍성해요    보통이에요  자극없이 순해요  아주 만족해요  \n",
       "2  거품이 풍성해요  아주 만족해요  자극없이 순해요  아주 만족해요  \n",
       "3  거품이 풍성해요    보통이에요  자극없이 순해요    보통이에요  \n",
       "4  거품이 풍성해요    보통이에요  자극없이 순해요    보통이에요  "
      ]
     },
     "execution_count": 12,
     "metadata": {},
     "output_type": "execute_result"
    }
   ],
   "source": [
    "data_02.head()"
   ]
  },
  {
   "cell_type": "code",
   "execution_count": 13,
   "metadata": {},
   "outputs": [
    {
     "data": {
      "text/html": [
       "<div>\n",
       "<style scoped>\n",
       "    .dataframe tbody tr th:only-of-type {\n",
       "        vertical-align: middle;\n",
       "    }\n",
       "\n",
       "    .dataframe tbody tr th {\n",
       "        vertical-align: top;\n",
       "    }\n",
       "\n",
       "    .dataframe thead th {\n",
       "        text-align: right;\n",
       "    }\n",
       "</style>\n",
       "<table border=\"1\" class=\"dataframe\">\n",
       "  <thead>\n",
       "    <tr style=\"text-align: right;\">\n",
       "      <th></th>\n",
       "      <th>product</th>\n",
       "      <th>review</th>\n",
       "      <th>거품</th>\n",
       "      <th>세정력</th>\n",
       "      <th>자극도</th>\n",
       "      <th>향</th>\n",
       "    </tr>\n",
       "  </thead>\n",
       "  <tbody>\n",
       "    <tr>\n",
       "      <th>19891</th>\n",
       "      <td>착한팩토리 90 밀크단백질 샴푸 1000ml</td>\n",
       "      <td>소문 믿고 구입했으나 품질은 수십번 사용해본후 판단해볼께요</td>\n",
       "      <td>NaN</td>\n",
       "      <td>NaN</td>\n",
       "      <td>NaN</td>\n",
       "      <td>NaN</td>\n",
       "    </tr>\n",
       "    <tr>\n",
       "      <th>19892</th>\n",
       "      <td>착한팩토리 90 밀크단백질 샴푸 1000ml</td>\n",
       "      <td>잘받았습니다</td>\n",
       "      <td>NaN</td>\n",
       "      <td>NaN</td>\n",
       "      <td>NaN</td>\n",
       "      <td>NaN</td>\n",
       "    </tr>\n",
       "    <tr>\n",
       "      <th>19893</th>\n",
       "      <td>착한팩토리 90 밀크단백질 샴푸 1000ml</td>\n",
       "      <td>싸게 샀어요</td>\n",
       "      <td>NaN</td>\n",
       "      <td>NaN</td>\n",
       "      <td>NaN</td>\n",
       "      <td>NaN</td>\n",
       "    </tr>\n",
       "    <tr>\n",
       "      <th>19894</th>\n",
       "      <td>더마클라센 굿바이헤어로스 샴푸 레몬그라스 기획세트[500ml+100ml+트리트먼트 ...</td>\n",
       "      <td>머리카락이 안 빠지는건 아직 못 느끼겠고요 br쓰고 나니 머리가 너무 뻣뻣해서 반품...</td>\n",
       "      <td>NaN</td>\n",
       "      <td>NaN</td>\n",
       "      <td>NaN</td>\n",
       "      <td>NaN</td>\n",
       "    </tr>\n",
       "    <tr>\n",
       "      <th>19895</th>\n",
       "      <td>더마클라센 굿바이헤어로스 샴푸 레몬그라스 기획세트[500ml+100ml+트리트먼트 ...</td>\n",
       "      <td>탈모샴푸 가대해요</td>\n",
       "      <td>NaN</td>\n",
       "      <td>NaN</td>\n",
       "      <td>NaN</td>\n",
       "      <td>NaN</td>\n",
       "    </tr>\n",
       "  </tbody>\n",
       "</table>\n",
       "</div>"
      ],
      "text/plain": [
       "                                                 product  \\\n",
       "19891                           착한팩토리 90 밀크단백질 샴푸 1000ml   \n",
       "19892                           착한팩토리 90 밀크단백질 샴푸 1000ml   \n",
       "19893                           착한팩토리 90 밀크단백질 샴푸 1000ml   \n",
       "19894  더마클라센 굿바이헤어로스 샴푸 레몬그라스 기획세트[500ml+100ml+트리트먼트 ...   \n",
       "19895  더마클라센 굿바이헤어로스 샴푸 레몬그라스 기획세트[500ml+100ml+트리트먼트 ...   \n",
       "\n",
       "                                                  review   거품  세정력  자극도    향  \n",
       "19891                   소문 믿고 구입했으나 품질은 수십번 사용해본후 판단해볼께요  NaN  NaN  NaN  NaN  \n",
       "19892                                            잘받았습니다   NaN  NaN  NaN  NaN  \n",
       "19893                                             싸게 샀어요  NaN  NaN  NaN  NaN  \n",
       "19894  머리카락이 안 빠지는건 아직 못 느끼겠고요 br쓰고 나니 머리가 너무 뻣뻣해서 반품...  NaN  NaN  NaN  NaN  \n",
       "19895                                          탈모샴푸 가대해요  NaN  NaN  NaN  NaN  "
      ]
     },
     "execution_count": 13,
     "metadata": {},
     "output_type": "execute_result"
    }
   ],
   "source": [
    "data_02.tail()"
   ]
  },
  {
   "cell_type": "code",
   "execution_count": 14,
   "metadata": {},
   "outputs": [],
   "source": [
    "# cleasing 함수 \n",
    "\n",
    "def cleasing(text):\n",
    "    repl =''\n",
    "    pattern = '([ㄱ-ㅎㅏ-ㅣ]+)' # 자음, 모음 제거\n",
    "    text = re.sub(pattern= pattern, repl=repl, string=text)\n",
    "    #pattern = '[^\\w\\s]' # 특수기호 제거\n",
    "    pattern = '[^가-히\\s]' # 특수기호 제거\n",
    "    text = re.sub(pattern= pattern, repl=repl, string=text)\n",
    "    pattern = '<[^>]*>' # html 제거\n",
    "    text = re.sub(pattern = pattern, repl='',string=text)\n",
    "    return text"
   ]
  },
  {
   "cell_type": "code",
   "execution_count": 15,
   "metadata": {},
   "outputs": [],
   "source": [
    "import copy"
   ]
  },
  {
   "cell_type": "code",
   "execution_count": 16,
   "metadata": {},
   "outputs": [],
   "source": [
    "data_review_preprocessing01 = copy.deepcopy(data_02)"
   ]
  },
  {
   "cell_type": "code",
   "execution_count": 17,
   "metadata": {},
   "outputs": [
    {
     "data": {
      "text/html": [
       "<div>\n",
       "<style scoped>\n",
       "    .dataframe tbody tr th:only-of-type {\n",
       "        vertical-align: middle;\n",
       "    }\n",
       "\n",
       "    .dataframe tbody tr th {\n",
       "        vertical-align: top;\n",
       "    }\n",
       "\n",
       "    .dataframe thead th {\n",
       "        text-align: right;\n",
       "    }\n",
       "</style>\n",
       "<table border=\"1\" class=\"dataframe\">\n",
       "  <thead>\n",
       "    <tr style=\"text-align: right;\">\n",
       "      <th></th>\n",
       "      <th>product</th>\n",
       "      <th>review</th>\n",
       "      <th>거품</th>\n",
       "      <th>세정력</th>\n",
       "      <th>자극도</th>\n",
       "      <th>향</th>\n",
       "    </tr>\n",
       "  </thead>\n",
       "  <tbody>\n",
       "    <tr>\n",
       "      <th>0</th>\n",
       "      <td>허벌에센스 핑크로즈 샴푸 490ml</td>\n",
       "      <td>기존에 상품대비 가격이 부담이었는데 할인율이 높아져서 만족하면서 사용하고 있어요...</td>\n",
       "      <td>보통이에요</td>\n",
       "      <td>아주 만족해요</td>\n",
       "      <td>보통이에요</td>\n",
       "      <td>보통이에요</td>\n",
       "    </tr>\n",
       "    <tr>\n",
       "      <th>1</th>\n",
       "      <td>허벌에센스 핑크로즈 샴푸 490ml</td>\n",
       "      <td>뽀득뽀득해요 성분 좋다는 샴푸 쓰다가 거품도 너무 안나고 세정력이 떨어져서 바꿔봤는...</td>\n",
       "      <td>거품이 풍성해요</td>\n",
       "      <td>보통이에요</td>\n",
       "      <td>자극없이 순해요</td>\n",
       "      <td>아주 만족해요</td>\n",
       "    </tr>\n",
       "    <tr>\n",
       "      <th>2</th>\n",
       "      <td>허벌에센스 핑크로즈 샴푸 490ml</td>\n",
       "      <td>매번쓰던거입니다 거품도풍넝하고맘에아두듭니다</td>\n",
       "      <td>거품이 풍성해요</td>\n",
       "      <td>아주 만족해요</td>\n",
       "      <td>자극없이 순해요</td>\n",
       "      <td>아주 만족해요</td>\n",
       "    </tr>\n",
       "    <tr>\n",
       "      <th>3</th>\n",
       "      <td>허벌에센스 핑크로즈 샴푸 490ml</td>\n",
       "      <td>노란색 사용하다가 핑크색이 향이 더 좋을것 같아서 구매했어요</td>\n",
       "      <td>거품이 풍성해요</td>\n",
       "      <td>보통이에요</td>\n",
       "      <td>자극없이 순해요</td>\n",
       "      <td>보통이에요</td>\n",
       "    </tr>\n",
       "    <tr>\n",
       "      <th>4</th>\n",
       "      <td>허벌에센스 핑크로즈 샴푸 490ml</td>\n",
       "      <td>비누와 같은 세정력 세장력은 좋은 것 같은데 샴푸 후 머릿결이 조금 뻣뻣한 느낌이 ...</td>\n",
       "      <td>거품이 풍성해요</td>\n",
       "      <td>보통이에요</td>\n",
       "      <td>자극없이 순해요</td>\n",
       "      <td>보통이에요</td>\n",
       "    </tr>\n",
       "  </tbody>\n",
       "</table>\n",
       "</div>"
      ],
      "text/plain": [
       "               product                                             review  \\\n",
       "0  허벌에센스 핑크로즈 샴푸 490ml    기존에 상품대비 가격이 부담이었는데 할인율이 높아져서 만족하면서 사용하고 있어요...   \n",
       "1  허벌에센스 핑크로즈 샴푸 490ml  뽀득뽀득해요 성분 좋다는 샴푸 쓰다가 거품도 너무 안나고 세정력이 떨어져서 바꿔봤는...   \n",
       "2  허벌에센스 핑크로즈 샴푸 490ml                            매번쓰던거입니다 거품도풍넝하고맘에아두듭니다   \n",
       "3  허벌에센스 핑크로즈 샴푸 490ml                  노란색 사용하다가 핑크색이 향이 더 좋을것 같아서 구매했어요   \n",
       "4  허벌에센스 핑크로즈 샴푸 490ml  비누와 같은 세정력 세장력은 좋은 것 같은데 샴푸 후 머릿결이 조금 뻣뻣한 느낌이 ...   \n",
       "\n",
       "         거품      세정력       자극도        향  \n",
       "0     보통이에요  아주 만족해요     보통이에요    보통이에요  \n",
       "1  거품이 풍성해요    보통이에요  자극없이 순해요  아주 만족해요  \n",
       "2  거품이 풍성해요  아주 만족해요  자극없이 순해요  아주 만족해요  \n",
       "3  거품이 풍성해요    보통이에요  자극없이 순해요    보통이에요  \n",
       "4  거품이 풍성해요    보통이에요  자극없이 순해요    보통이에요  "
      ]
     },
     "execution_count": 17,
     "metadata": {},
     "output_type": "execute_result"
    }
   ],
   "source": [
    "data_review_preprocessing01.head()"
   ]
  },
  {
   "cell_type": "code",
   "execution_count": 18,
   "metadata": {},
   "outputs": [
    {
     "data": {
      "text/plain": [
       "'향도 좋고 두피에도 나쁘지 않아요 향이 너무 좋아요 실리콘 안 들어가서 모발에도 더 좋을 듯 벌써 네통 째'"
      ]
     },
     "execution_count": 18,
     "metadata": {},
     "output_type": "execute_result"
    }
   ],
   "source": [
    "data_review_preprocessing01.iloc[13]['review']"
   ]
  },
  {
   "cell_type": "code",
   "execution_count": 19,
   "metadata": {},
   "outputs": [
    {
     "data": {
      "text/plain": [
       "0      기존에 상품대비 가격이 부담이었는데 할인율이 높아져서 만족하면서 사용하고 있어요...\n",
       "1    뽀득뽀득해요 성분 좋다는 샴푸 쓰다가 거품도 너무 안나고 세정력이 떨어져서 바꿔봤는...\n",
       "2                              매번쓰던거입니다 거품도풍넝하고맘에아두듭니다\n",
       "3                    노란색 사용하다가 핑크색이 향이 더 좋을것 같아서 구매했어요\n",
       "4    비누와 같은 세정력 세장력은 좋은 것 같은데 샴푸 후 머릿결이 조금 뻣뻣한 느낌이 ...\n",
       "Name: review, dtype: object"
      ]
     },
     "execution_count": 19,
     "metadata": {},
     "output_type": "execute_result"
    }
   ],
   "source": [
    "data_review_preprocessing01.iloc[:,1].head()"
   ]
  },
  {
   "cell_type": "code",
   "execution_count": 21,
   "metadata": {},
   "outputs": [
    {
     "data": {
      "text/plain": [
       "'뽀득뽀득해요 성분 좋다는 샴푸 쓰다가 거품도 너무 안나고 세정력이 떨어져서 바꿔봤는데 뽀득뽀득 씻겨서 좋네요 저렴하기도 하고 좋아요'"
      ]
     },
     "execution_count": 21,
     "metadata": {},
     "output_type": "execute_result"
    }
   ],
   "source": [
    "data_review_preprocessing01.iloc[1]['review']"
   ]
  },
  {
   "cell_type": "code",
   "execution_count": 23,
   "metadata": {},
   "outputs": [
    {
     "data": {
      "text/plain": [
       "' 비누와 같은 세정력 세장력은 좋은 것 같은데 샴푸 후 머릿결이 조금 뻣뻣한 느낌이 있어요 \\n트리트먼트를 필수로 해야할 것 같아요'"
      ]
     },
     "execution_count": 23,
     "metadata": {},
     "output_type": "execute_result"
    }
   ],
   "source": [
    "text = 'br 비누와 같은 세정력 세장력은 좋은 것 같은데 샴푸 후 머릿결이 조금 뻣뻣한 느낌이 있어요 \\n트리트먼트를 필수로 해야할 것 같아요'\n",
    "\n",
    "cleasing(text)"
   ]
  },
  {
   "cell_type": "code",
   "execution_count": 24,
   "metadata": {},
   "outputs": [
    {
     "data": {
      "text/plain": [
       "Index(['product', 'review', '거품', '세정력', '자극도', '향'], dtype='object')"
      ]
     },
     "execution_count": 24,
     "metadata": {},
     "output_type": "execute_result"
    }
   ],
   "source": [
    "data_review_preprocessing01.columns"
   ]
  },
  {
   "cell_type": "code",
   "execution_count": 25,
   "metadata": {},
   "outputs": [
    {
     "data": {
      "text/plain": [
       "5272        배송도 빠르고  평소 머리 감아도 간지러움 너무 심했는데 요걸로 감고는 간지러...\n",
       "15318          주문할때도 할인이 되서 샀는데 지금은 더 할인이 되서\\n가격에서 별하나 뺐어요\n",
       "2637                                                      \n",
       "143         이 샴푸는 냄새가 정말 좋은데 심지어 그 좋은 냄새가 오래가요 베스트로 올라오...\n",
       "5868     상품잘받았습니다  좋아요 상품  잘 받았습니다  품질도 좋고 빨라진 배송에 더욱 만...\n",
       "6446        1년째쓰고있어요 계속 꾸준히 사용하고 있는 제품이에요\\n무첨가라는거 믿고 쓰고있어요\n",
       "8470          만족합니다 츠바키 다른 라인 써봤는데 괜찮았음\\n할인 많이해서 저렴하게 잘 샀음\n",
       "7335                             성분이 괜찮은것같고 향이 좋아 잘쓰고있어요  \n",
       "5460     빠른배송감사합니다 img srchttpimageoliveyoungcokrupload...\n",
       "11899                                                     \n",
       "Name: review, dtype: object"
      ]
     },
     "execution_count": 25,
     "metadata": {},
     "output_type": "execute_result"
    }
   ],
   "source": [
    "data_review_preprocessing01['review'].sample(10)"
   ]
  },
  {
   "cell_type": "code",
   "execution_count": 26,
   "metadata": {},
   "outputs": [
    {
     "name": "stdout",
     "output_type": "stream",
     "text": [
      "2073                        비싸게 주고삿는데 저는 더 떡지고 두피가 붉어졋어요  \n",
      "211      항상 사용하는 제품이에요 img srchttpimageoliveyoungcokrup...\n",
      "8871     뱀부샴푸 세통째예요 사이오스 파란통 샴푸검은색통뱀부샴푸이렇게 써봤는데셋중에 뱀부가 ...\n",
      "9004     가격이 너무 좋아 구입했어요 img srchttpimageoliveyoungcokr...\n",
      "16956                                      갑자기 외출할때 요긴하게 씀\n",
      "4811               좋은 것 같아요 자극이 없고 세정이 잘 되는것 같아서 계속 쓰고 있어요\n",
      "4178     두피가 시원함 머리가 화 해져서 기분이 좋습니다 향기가 좋은 편은 아닙니다900짜리...\n",
      "13699    비듬두피진정에 효과가 있다고 해서 처음으로 구매해봤어요 이벤트땜에 저렴하게 구매해서...\n",
      "6930       언니가 해외에서 다른 사이오스 제품을 사다줘서 썼었는데 너무 좋길래 한 번 구매...\n",
      "15257    지성두피에 예민한 편이여서 삼푸를 선택하는데 신중한편인데 저에겐 잘 맞아 꾸준히 쓰...\n",
      "Name: review, dtype: object\n"
     ]
    }
   ],
   "source": [
    "print(data_review_preprocessing01['review'].sample(10))"
   ]
  },
  {
   "cell_type": "code",
   "execution_count": 27,
   "metadata": {},
   "outputs": [],
   "source": [
    "from tqdm import tqdm\n",
    "from tqdm import tqdm_notebook"
   ]
  },
  {
   "cell_type": "code",
   "execution_count": 28,
   "metadata": {},
   "outputs": [
    {
     "data": {
      "text/html": [
       "<div>\n",
       "<style scoped>\n",
       "    .dataframe tbody tr th:only-of-type {\n",
       "        vertical-align: middle;\n",
       "    }\n",
       "\n",
       "    .dataframe tbody tr th {\n",
       "        vertical-align: top;\n",
       "    }\n",
       "\n",
       "    .dataframe thead th {\n",
       "        text-align: right;\n",
       "    }\n",
       "</style>\n",
       "<table border=\"1\" class=\"dataframe\">\n",
       "  <thead>\n",
       "    <tr style=\"text-align: right;\">\n",
       "      <th></th>\n",
       "      <th>product</th>\n",
       "      <th>review</th>\n",
       "      <th>거품</th>\n",
       "      <th>세정력</th>\n",
       "      <th>자극도</th>\n",
       "      <th>향</th>\n",
       "    </tr>\n",
       "  </thead>\n",
       "  <tbody>\n",
       "    <tr>\n",
       "      <th>0</th>\n",
       "      <td>허벌에센스 핑크로즈 샴푸 490ml</td>\n",
       "      <td>기존에 상품대비 가격이 부담이었는데 할인율이 높아져서 만족하면서 사용하고 있어요...</td>\n",
       "      <td>보통이에요</td>\n",
       "      <td>아주 만족해요</td>\n",
       "      <td>보통이에요</td>\n",
       "      <td>보통이에요</td>\n",
       "    </tr>\n",
       "    <tr>\n",
       "      <th>1</th>\n",
       "      <td>허벌에센스 핑크로즈 샴푸 490ml</td>\n",
       "      <td>뽀득뽀득해요 성분 좋다는 샴푸 쓰다가 거품도 너무 안나고 세정력이 떨어져서 바꿔봤는...</td>\n",
       "      <td>거품이 풍성해요</td>\n",
       "      <td>보통이에요</td>\n",
       "      <td>자극없이 순해요</td>\n",
       "      <td>아주 만족해요</td>\n",
       "    </tr>\n",
       "    <tr>\n",
       "      <th>2</th>\n",
       "      <td>허벌에센스 핑크로즈 샴푸 490ml</td>\n",
       "      <td>매번쓰던거입니다 거품도풍넝하고맘에아두듭니다</td>\n",
       "      <td>거품이 풍성해요</td>\n",
       "      <td>아주 만족해요</td>\n",
       "      <td>자극없이 순해요</td>\n",
       "      <td>아주 만족해요</td>\n",
       "    </tr>\n",
       "    <tr>\n",
       "      <th>3</th>\n",
       "      <td>허벌에센스 핑크로즈 샴푸 490ml</td>\n",
       "      <td>노란색 사용하다가 핑크색이 향이 더 좋을것 같아서 구매했어요</td>\n",
       "      <td>거품이 풍성해요</td>\n",
       "      <td>보통이에요</td>\n",
       "      <td>자극없이 순해요</td>\n",
       "      <td>보통이에요</td>\n",
       "    </tr>\n",
       "    <tr>\n",
       "      <th>4</th>\n",
       "      <td>허벌에센스 핑크로즈 샴푸 490ml</td>\n",
       "      <td>비누와 같은 세정력 세장력은 좋은 것 같은데 샴푸 후 머릿결이 조금 뻣뻣한 느낌이 ...</td>\n",
       "      <td>거품이 풍성해요</td>\n",
       "      <td>보통이에요</td>\n",
       "      <td>자극없이 순해요</td>\n",
       "      <td>보통이에요</td>\n",
       "    </tr>\n",
       "  </tbody>\n",
       "</table>\n",
       "</div>"
      ],
      "text/plain": [
       "               product                                             review  \\\n",
       "0  허벌에센스 핑크로즈 샴푸 490ml    기존에 상품대비 가격이 부담이었는데 할인율이 높아져서 만족하면서 사용하고 있어요...   \n",
       "1  허벌에센스 핑크로즈 샴푸 490ml  뽀득뽀득해요 성분 좋다는 샴푸 쓰다가 거품도 너무 안나고 세정력이 떨어져서 바꿔봤는...   \n",
       "2  허벌에센스 핑크로즈 샴푸 490ml                            매번쓰던거입니다 거품도풍넝하고맘에아두듭니다   \n",
       "3  허벌에센스 핑크로즈 샴푸 490ml                  노란색 사용하다가 핑크색이 향이 더 좋을것 같아서 구매했어요   \n",
       "4  허벌에센스 핑크로즈 샴푸 490ml  비누와 같은 세정력 세장력은 좋은 것 같은데 샴푸 후 머릿결이 조금 뻣뻣한 느낌이 ...   \n",
       "\n",
       "         거품      세정력       자극도        향  \n",
       "0     보통이에요  아주 만족해요     보통이에요    보통이에요  \n",
       "1  거품이 풍성해요    보통이에요  자극없이 순해요  아주 만족해요  \n",
       "2  거품이 풍성해요  아주 만족해요  자극없이 순해요  아주 만족해요  \n",
       "3  거품이 풍성해요    보통이에요  자극없이 순해요    보통이에요  \n",
       "4  거품이 풍성해요    보통이에요  자극없이 순해요    보통이에요  "
      ]
     },
     "execution_count": 28,
     "metadata": {},
     "output_type": "execute_result"
    }
   ],
   "source": [
    "data_review_preprocessing01.head()"
   ]
  },
  {
   "cell_type": "code",
   "execution_count": 29,
   "metadata": {},
   "outputs": [
    {
     "data": {
      "text/html": [
       "<div>\n",
       "<style scoped>\n",
       "    .dataframe tbody tr th:only-of-type {\n",
       "        vertical-align: middle;\n",
       "    }\n",
       "\n",
       "    .dataframe tbody tr th {\n",
       "        vertical-align: top;\n",
       "    }\n",
       "\n",
       "    .dataframe thead th {\n",
       "        text-align: right;\n",
       "    }\n",
       "</style>\n",
       "<table border=\"1\" class=\"dataframe\">\n",
       "  <thead>\n",
       "    <tr style=\"text-align: right;\">\n",
       "      <th></th>\n",
       "      <th>product</th>\n",
       "      <th>review</th>\n",
       "      <th>거품</th>\n",
       "      <th>세정력</th>\n",
       "      <th>자극도</th>\n",
       "      <th>향</th>\n",
       "    </tr>\n",
       "  </thead>\n",
       "  <tbody>\n",
       "    <tr>\n",
       "      <th>19891</th>\n",
       "      <td>착한팩토리 90 밀크단백질 샴푸 1000ml</td>\n",
       "      <td>소문 믿고 구입했으나 품질은 수십번 사용해본후 판단해볼께요</td>\n",
       "      <td>NaN</td>\n",
       "      <td>NaN</td>\n",
       "      <td>NaN</td>\n",
       "      <td>NaN</td>\n",
       "    </tr>\n",
       "    <tr>\n",
       "      <th>19892</th>\n",
       "      <td>착한팩토리 90 밀크단백질 샴푸 1000ml</td>\n",
       "      <td>잘받았습니다</td>\n",
       "      <td>NaN</td>\n",
       "      <td>NaN</td>\n",
       "      <td>NaN</td>\n",
       "      <td>NaN</td>\n",
       "    </tr>\n",
       "    <tr>\n",
       "      <th>19893</th>\n",
       "      <td>착한팩토리 90 밀크단백질 샴푸 1000ml</td>\n",
       "      <td>싸게 샀어요</td>\n",
       "      <td>NaN</td>\n",
       "      <td>NaN</td>\n",
       "      <td>NaN</td>\n",
       "      <td>NaN</td>\n",
       "    </tr>\n",
       "    <tr>\n",
       "      <th>19894</th>\n",
       "      <td>더마클라센 굿바이헤어로스 샴푸 레몬그라스 기획세트[500ml+100ml+트리트먼트 ...</td>\n",
       "      <td>머리카락이 안 빠지는건 아직 못 느끼겠고요 br쓰고 나니 머리가 너무 뻣뻣해서 반품...</td>\n",
       "      <td>NaN</td>\n",
       "      <td>NaN</td>\n",
       "      <td>NaN</td>\n",
       "      <td>NaN</td>\n",
       "    </tr>\n",
       "    <tr>\n",
       "      <th>19895</th>\n",
       "      <td>더마클라센 굿바이헤어로스 샴푸 레몬그라스 기획세트[500ml+100ml+트리트먼트 ...</td>\n",
       "      <td>탈모샴푸 가대해요</td>\n",
       "      <td>NaN</td>\n",
       "      <td>NaN</td>\n",
       "      <td>NaN</td>\n",
       "      <td>NaN</td>\n",
       "    </tr>\n",
       "  </tbody>\n",
       "</table>\n",
       "</div>"
      ],
      "text/plain": [
       "                                                 product  \\\n",
       "19891                           착한팩토리 90 밀크단백질 샴푸 1000ml   \n",
       "19892                           착한팩토리 90 밀크단백질 샴푸 1000ml   \n",
       "19893                           착한팩토리 90 밀크단백질 샴푸 1000ml   \n",
       "19894  더마클라센 굿바이헤어로스 샴푸 레몬그라스 기획세트[500ml+100ml+트리트먼트 ...   \n",
       "19895  더마클라센 굿바이헤어로스 샴푸 레몬그라스 기획세트[500ml+100ml+트리트먼트 ...   \n",
       "\n",
       "                                                  review   거품  세정력  자극도    향  \n",
       "19891                   소문 믿고 구입했으나 품질은 수십번 사용해본후 판단해볼께요  NaN  NaN  NaN  NaN  \n",
       "19892                                            잘받았습니다   NaN  NaN  NaN  NaN  \n",
       "19893                                             싸게 샀어요  NaN  NaN  NaN  NaN  \n",
       "19894  머리카락이 안 빠지는건 아직 못 느끼겠고요 br쓰고 나니 머리가 너무 뻣뻣해서 반품...  NaN  NaN  NaN  NaN  \n",
       "19895                                          탈모샴푸 가대해요  NaN  NaN  NaN  NaN  "
      ]
     },
     "execution_count": 29,
     "metadata": {},
     "output_type": "execute_result"
    }
   ],
   "source": [
    "data_review_preprocessing01.tail()"
   ]
  },
  {
   "cell_type": "code",
   "execution_count": 32,
   "metadata": {},
   "outputs": [
    {
     "data": {
      "text/plain": [
       "'뽀득뽀득해요 성분 좋다는 샴푸 쓰다가 거품도 너무 안나고 세정력이 떨어져서 바꿔봤는데 뽀득뽀득 씻겨서 좋네요 저렴하기도 하고 좋아요'"
      ]
     },
     "execution_count": 32,
     "metadata": {},
     "output_type": "execute_result"
    }
   ],
   "source": [
    "data_review_preprocessing01.iloc[1]['review']"
   ]
  },
  {
   "cell_type": "code",
   "execution_count": null,
   "metadata": {},
   "outputs": [],
   "source": [
    "# 특수문자, 자음 모음, 해시태그 제거  + 저장\n",
    "\n",
    "count = 0\n",
    "for review in data_review_preprocessing01['review']:\n",
    "    review = cleasing(review)\n",
    "    data_review_preprocessing01[count] = review\n",
    "    #print(type(review), review, '\\n')\n",
    "    count += 1"
   ]
  },
  {
   "cell_type": "code",
   "execution_count": 33,
   "metadata": {},
   "outputs": [
    {
     "data": {
      "text/plain": [
       "'뽀득뽀득해요 성분 좋다는 샴푸 쓰다가 거품도 너무 안나고 세정력이 떨어져서 바꿔봤는데 뽀득뽀득 씻겨서 좋네요 저렴하기도 하고 좋아요'"
      ]
     },
     "execution_count": 33,
     "metadata": {},
     "output_type": "execute_result"
    }
   ],
   "source": [
    "cleasing(data_review_preprocessing01.iloc[1]['review'])"
   ]
  },
  {
   "cell_type": "code",
   "execution_count": 34,
   "metadata": {},
   "outputs": [
    {
     "data": {
      "application/vnd.jupyter.widget-view+json": {
       "model_id": "23c03df820384393b1793fd6f2e14831",
       "version_major": 2,
       "version_minor": 0
      },
      "text/plain": [
       "HBox(children=(IntProgress(value=0, max=19896), HTML(value='')))"
      ]
     },
     "metadata": {},
     "output_type": "display_data"
    },
    {
     "name": "stdout",
     "output_type": "stream",
     "text": [
      "50   후기가 좋아서 사봤어요 아직 안써봤는데 좋았음 좋겠네요\n",
      "\n"
     ]
    }
   ],
   "source": [
    "for i in tqdm_notebook(range(len(data_review_preprocessing01))):  \n",
    "    data_review_preprocessing01.iloc[i]['review'] = cleasing(data_review_preprocessing01.iloc[i]['review'])\n",
    "    if i == 50:\n",
    "        print(i,data_review_preprocessing01.iloc[i]['review'])\n",
    "    else:\n",
    "        pass\n",
    "    "
   ]
  },
  {
   "cell_type": "markdown",
   "metadata": {},
   "source": [
    "### 저장!"
   ]
  },
  {
   "cell_type": "code",
   "execution_count": 51,
   "metadata": {},
   "outputs": [],
   "source": [
    "data_review_preprocessing01.to_excel(\"excel_02_1018_1단계_CJ_review_peprocessing.xlsx\")"
   ]
  },
  {
   "cell_type": "code",
   "execution_count": 50,
   "metadata": {},
   "outputs": [
    {
     "data": {
      "text/plain": [
       "11652                                                좋아요  \n",
       "4235     좋아요 상품문제없이 배송 무사히 도착했어요   제품이 세거나 그런거없이 배송 무사히...\n",
       "17088                                               잘구매했어요\n",
       "16594                                      머리가 뻣뻣하네요 린스쓰세요\n",
       "18789                               향은 조금 강하지만 머릿결은 부드러워져요\n",
       "13159                                               향이 좋네요\n",
       "10778    재구매했어요  거품 잘나고 향도 은은해서 만족스러워요 탈모방지용 샴푸 효과는 잘 모...\n",
       "17994    첨 사봣늠데 잘써볼게요 후기가 좋다니 기대가되내요 유용하게 쓰일거같네요 감사합니다 ...\n",
       "9601     샘플써보고 괜찮아서 구매했어요 예전에 샘플 써보고 크림타입이라 특이하다 싶었는데  ...\n",
       "6323                                    용량도 크고 잘 쓰고 있습니다  \n",
       "18711    오늘 방금 배송받았는데\\n배송은 하루만에 왔지만 \\n날이 추워서 그런지 샴프가 얼어...\n",
       "6582         나 혼자 산다의 전현무 탈모 에피소드보면서 두피관리의 중요성을 깨닫고 세일을...\n",
       "19884                                                부드러워요\n",
       "10501    효과가 있기를  폴리젠 샴푸 샘플이 있어서 한 번 사용해 보았는데 좋았어요 향도 괜...\n",
       "18259           뒷머리는 잘안되고 아무래도 이걸해도 신경쓰이고 앞머리에 소량사용하긴 괜찮을듯\n",
       "2750                 이건 너무 묽어요 팍팍쓰게되는데  드라이하고나면 풍성한 느낌이 있음\n",
       "10163                                       너무 좋아요 감사합니다  \n",
       "17372    배송상태 불량입니다 샴퓨가 다 찌그러져 있고 애초 포장단계에서 찢어진 박스에 테이프...\n",
       "10325    그냥 잘 안맞아요  샴푸 써보고 이것도좋다고 해서 써봤는데 이건 잘 안맞는거 같아요...\n",
       "15231    양많아서좋고\\n제품좋아서 이 제품이 좋은건지\\n아님 요브랜드가좋은지\\n모르겠어요\\n...\n",
       "16391    츠바키향기도 좋고 오래가고\\n쓰기전엔 머릿결 별로였는데 츠바키 데미지케어 사용하고 ...\n",
       "2904     너무 좋아요 계속 쓰고있어요 샴푸도 아무거나 쓰면 두피가 뒤집어지는데 이건 딱 맞아...\n",
       "18716                                   처음구매 해 봅니다 저렴해서 구매\n",
       "11915      제품만족도는 높지만 가격이 비싸서 이번에는 다른제품을 살까 고민했다가 마침 행사...\n",
       "2909       올리브영에서 여러가지 상품을 살 수 있어서 좋아요 아직 사용전이지만 상품명 보고...\n",
       "17850    쿠폰으로 저렴하게 구입했어요 급할때 사용하기 좋고 단점응 향이 강해 약간의 거부감이 생김\n",
       "2282        후기보고 긴가민가하며 구매했는데  결과는 대만족입니다 최근 이유없이 비듬이 많...\n",
       "17017    머리가 상쾌하니 괜찮네요세일하고 있어서 이거저거 사봤는데 전 괜찮은정도 입니다 이브...\n",
       "14393                                               좋은것같아요\n",
       "939                            항상 쓰고 있습니다 너무너무 좋아요 또 구매했어요\n",
       "                               ...                        \n",
       "9214     거품풍성해요 아직사용전인데 성분보고 탈모방지 효과있다고해서구매하게 됫어요 용량대비 ...\n",
       "10909                                              향이좋아요  \n",
       "18068    올리브영 오프라인 가서 실제로 제가 출근전에 황급히 써보았는 정말 좋더라구요 두라이...\n",
       "12127    향기 나고 부드러워용 샴푸 이렇게 좋은거 처음 써봤어요\\n매번 싸게 구매해서 쓰고 ...\n",
       "3629                     남편이 쓰는데 쓴지 일주일만에 효과가 나타나네여좋은것같습니다\n",
       "8351                                              좋음좋음좋음  \n",
       "11047       은은한 향이네요 퀴닌향보다는 좋은편이라  자주쓸것같아요 두피가 시원한 느낌이 ...\n",
       "13662    배송 빠르고 좋네요두피가려울때 이거 쓰면 거짓말같이 안가렵고 두피가 산뜻해지는 느낌...\n",
       "18222                                            이런좋은게있다니 \n",
       "8718     비싸지만 좋네요 일단 거품 잘나고 향기좋고 아직 몇번 안써봐서 머릿결리 좋아지는건지...\n",
       "12514       샴푸를 잘못 썼더니 뾰루지나 각질이 올라와서 샀어요 아직 첫 날이라서 효과가 ...\n",
       "6551        아직 안써봣는데 워낙 평이 좋길래 사봄  원래 로레알쓰는데 한번 사봄  지성두...\n",
       "6223                                그냥 여느 컨디셔너 정도의 효과입니다  \n",
       "17180    계절 탓인지 두피가 갑자기 예민해져서 최근 몇개월 사이에 샴푸를 몇번 바꿨는데 이 ...\n",
       "3001        냄새가 진짜 별로긴 해요  씨위드를 샘플 써봤었는데 같은 건줄 알고 샀다가 오...\n",
       "10836                          된다님 추천으로 샀는데 아직 써보진 않았습니다  \n",
       "15103                                            사세요 두번사세용\n",
       "2302     이거 쓰면 머리가 안가려워요  다른 샴푸로 머리 감 으면 가려운데 이거는 안가려워요...\n",
       "5947        평이  좋아 구매하게  된  샴푸 막  와  좋다 이정도까진  아닌데  감아보...\n",
       "3729                아직 써보지는 못했는데요 포장도 깔끔한게 좋더라구요 잘 사용하겠습니다\n",
       "9536     배송이 빨라요 아직 사용 하기 전인데  좋다고 하니 기대가 됩니다   배송은 빨리 ...\n",
       "942        잘 사용할게요 고맙습니다 빠른 배송도 감사합니다 그리고 다음에도 또 신청 할게요...\n",
       "16005                                  두피도 두피지만 머리결도 부드럽네요\n",
       "10039      소금알갱이가 커서 세게문지르면 따가워요\\n긴머리다보니 두피에 완전닿게 짜기가 들...\n",
       "9906                     두피가 시워하고 깔끔하게 씻어주는 느낌이라 너무 좋습니다  \n",
       "18227                      분사력도 좋고 다 좋은데\\n허옇게 되고 나서 잘 안털려요\n",
       "13624    아들이 탈모 때에  신경을 많이  쓰는데 비듬이 생겼다고 해서  여러곳에 검색한 결...\n",
       "4778                                     할인된 가격으로 사서 좋아요  \n",
       "97       이것보단 노랑이 향이더 좋은듯       이번에 요게 세일해서 같이 주문했는데 노랑...\n",
       "10435    만족합니다 이번 여름에 머리통에 땀샘열린것 마냥 땀이 진짜 비오듯이 나서 머리속에 ...\n",
       "Name: review, Length: 100, dtype: object"
      ]
     },
     "execution_count": 50,
     "metadata": {},
     "output_type": "execute_result"
    }
   ],
   "source": [
    "data_review_preprocessing01['review'].sample(100)"
   ]
  },
  {
   "cell_type": "code",
   "execution_count": null,
   "metadata": {},
   "outputs": [],
   "source": []
  }
 ],
 "metadata": {
  "kernelspec": {
   "display_name": "Python 3",
   "language": "python",
   "name": "python3"
  },
  "language_info": {
   "codemirror_mode": {
    "name": "ipython",
    "version": 3
   },
   "file_extension": ".py",
   "mimetype": "text/x-python",
   "name": "python",
   "nbconvert_exporter": "python",
   "pygments_lexer": "ipython3",
   "version": "3.7.3"
  }
 },
 "nbformat": 4,
 "nbformat_minor": 2
}
