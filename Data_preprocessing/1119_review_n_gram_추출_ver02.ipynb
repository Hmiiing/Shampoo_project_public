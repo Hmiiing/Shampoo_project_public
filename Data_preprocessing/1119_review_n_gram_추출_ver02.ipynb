{
 "cells": [
  {
   "cell_type": "markdown",
   "metadata": {},
   "source": [
    "# wordextractor"
   ]
  },
  {
   "cell_type": "code",
   "execution_count": 1,
   "metadata": {},
   "outputs": [
    {
     "name": "stdout",
     "output_type": "stream",
     "text": [
      "num sentences = 58547\n"
     ]
    }
   ],
   "source": [
    "import sys\n",
    "sys.path.insert(0, '../')\n",
    "from soynlp.utils import DoublespaceLineCorpus\n",
    "    \n",
    "corpus_fname = '1118_shampoo_review_corpus.txt'\n",
    "sentences = DoublespaceLineCorpus(corpus_fname, iter_sent=True)\n",
    "print('num sentences = %d' % len(sentences))"
   ]
  },
  {
   "cell_type": "markdown",
   "metadata": {},
   "source": [
    "### train은 substrings의 빈도수를 카운팅 하는 것이며, extract는 init에 들어가는 값을 기준으로 단어를 선택하여 줍니다."
   ]
  },
  {
   "cell_type": "code",
   "execution_count": 4,
   "metadata": {},
   "outputs": [
    {
     "name": "stdout",
     "output_type": "stream",
     "text": [
      "training was done. used memory 0.321 Gbory 0.285 Gb\n",
      "all cohesion probabilities was computed. # words = 107889\n",
      "all branching entropies was computed # words = 71326\n",
      "all accessor variety was computed # words = 71326\n",
      "CPU times: user 12.3 s, sys: 104 ms, total: 12.4 s\n",
      "Wall time: 12.4 s\n"
     ]
    }
   ],
   "source": [
    "%%time\n",
    "\n",
    "from soynlp.word import WordExtractor\n",
    "\n",
    "word_extractor = WordExtractor(\n",
    "    min_frequency=2, # 수정된 부분 빈도수 최소 2번으로 바꿈. 그전에 5번이었음.\n",
    "    min_cohesion_forward=0.05, \n",
    "    min_right_branching_entropy=0.0\n",
    ")\n",
    "\n",
    "word_extractor.train(sentences)\n",
    "words = word_extractor.extract()"
   ]
  },
  {
   "cell_type": "code",
   "execution_count": 5,
   "metadata": {},
   "outputs": [
    {
     "data": {
      "text/plain": [
       "56577"
      ]
     },
     "execution_count": 5,
     "metadata": {},
     "output_type": "execute_result"
    }
   ],
   "source": [
    "len(words)"
   ]
  },
  {
   "cell_type": "code",
   "execution_count": 6,
   "metadata": {
    "scrolled": false
   },
   "outputs": [],
   "source": [
    "result = []\n",
    "for key in words:\n",
    "    if 1 <= len(key):\n",
    "        result.append(key)\n",
    "         \n",
    "#print(result)"
   ]
  },
  {
   "cell_type": "code",
   "execution_count": 7,
   "metadata": {},
   "outputs": [
    {
     "data": {
      "text/plain": [
       "56577"
      ]
     },
     "execution_count": 7,
     "metadata": {},
     "output_type": "execute_result"
    }
   ],
   "source": [
    "len(result)"
   ]
  },
  {
   "cell_type": "markdown",
   "metadata": {},
   "source": [
    "### 필요 단어를 리스트로 다 만듭니다. \n",
    "### if 조건에서 본인 담당한 필터의 워드를 넣으시면 됩니다. soynlp가 위에서 빈도수 학습한 걸로 조건에 들어간 글자 어절을 뽑아줘요 "
   ]
  },
  {
   "cell_type": "code",
   "execution_count": 8,
   "metadata": {},
   "outputs": [
    {
     "data": {
      "text/plain": [
       "2361"
      ]
     },
     "execution_count": 8,
     "metadata": {},
     "output_type": "execute_result"
    }
   ],
   "source": [
    "result_2 = []\n",
    "for word in result:\n",
    "    if '두피' in word or '자극' in word or'건조' in word or '비듬' in word or '기름' in word \\\n",
    "    or'떡' in word or'트러블' in word or'간지' in word or'가려' in word:\n",
    "        result_2.append(word)\n",
    "\n",
    "\n",
    "stopword_sample = result_2\n",
    "len(stopword_sample)"
   ]
  },
  {
   "cell_type": "markdown",
   "metadata": {},
   "source": [
    "## 여기서 부터 ngram 리뷰 칼럼 만들기 "
   ]
  },
  {
   "cell_type": "code",
   "execution_count": 11,
   "metadata": {},
   "outputs": [],
   "source": [
    "import pandas as pd"
   ]
  },
  {
   "cell_type": "code",
   "execution_count": 12,
   "metadata": {},
   "outputs": [],
   "source": [
    "# 데이터 불러오세요. \n",
    "\n",
    "data = pd.read_excel('1118_review_preprocessing.xlsx')"
   ]
  },
  {
   "cell_type": "code",
   "execution_count": 13,
   "metadata": {},
   "outputs": [],
   "source": [
    "data.drop('Unnamed: 0', axis = 'columns', inplace=True)"
   ]
  },
  {
   "cell_type": "code",
   "execution_count": 14,
   "metadata": {},
   "outputs": [
    {
     "data": {
      "text/html": [
       "<div>\n",
       "<style scoped>\n",
       "    .dataframe tbody tr th:only-of-type {\n",
       "        vertical-align: middle;\n",
       "    }\n",
       "\n",
       "    .dataframe tbody tr th {\n",
       "        vertical-align: top;\n",
       "    }\n",
       "\n",
       "    .dataframe thead th {\n",
       "        text-align: right;\n",
       "    }\n",
       "</style>\n",
       "<table border=\"1\" class=\"dataframe\">\n",
       "  <thead>\n",
       "    <tr style=\"text-align: right;\">\n",
       "      <th></th>\n",
       "      <th>brand</th>\n",
       "      <th>product</th>\n",
       "      <th>review</th>\n",
       "      <th>거품_카테고리</th>\n",
       "      <th>거품</th>\n",
       "      <th>두피</th>\n",
       "      <th>머릿결</th>\n",
       "      <th>세정력_카테고리</th>\n",
       "      <th>세정력</th>\n",
       "      <th>자극도_카테고리</th>\n",
       "      <th>탈모</th>\n",
       "      <th>향_카테고리</th>\n",
       "      <th>향</th>\n",
       "      <th>label</th>\n",
       "    </tr>\n",
       "  </thead>\n",
       "  <tbody>\n",
       "    <tr>\n",
       "      <th>0</th>\n",
       "      <td>비욘드</td>\n",
       "      <td>힐링포스 프로페셔널 스캘프 샴푸</td>\n",
       "      <td>이거 진심 대박템임 어렸을 때는 숱 많고 굵은 모발이었던 나 그러나 자라면서 머리카...</td>\n",
       "      <td>NaN</td>\n",
       "      <td>NaN</td>\n",
       "      <td>NaN</td>\n",
       "      <td>NaN</td>\n",
       "      <td>NaN</td>\n",
       "      <td>NaN</td>\n",
       "      <td>NaN</td>\n",
       "      <td>NaN</td>\n",
       "      <td>NaN</td>\n",
       "      <td>NaN</td>\n",
       "      <td>train</td>\n",
       "    </tr>\n",
       "  </tbody>\n",
       "</table>\n",
       "</div>"
      ],
      "text/plain": [
       "  brand            product                                             review  \\\n",
       "0   비욘드  힐링포스 프로페셔널 스캘프 샴푸  이거 진심 대박템임 어렸을 때는 숱 많고 굵은 모발이었던 나 그러나 자라면서 머리카...   \n",
       "\n",
       "  거품_카테고리  거품  두피  머릿결 세정력_카테고리  세정력 자극도_카테고리  탈모 향_카테고리   향  label  \n",
       "0     NaN NaN NaN  NaN      NaN  NaN      NaN NaN    NaN NaN  train  "
      ]
     },
     "execution_count": 14,
     "metadata": {},
     "output_type": "execute_result"
    }
   ],
   "source": [
    "data.head(1)"
   ]
  },
  {
   "cell_type": "markdown",
   "metadata": {},
   "source": [
    "### 본인 담당의 ngram 칼럼을 정해주세요. 칼럼 이름은 본인이 담당한 'split_(본인 담당 필터)' 으로 통일할게요 "
   ]
  },
  {
   "cell_type": "code",
   "execution_count": 15,
   "metadata": {},
   "outputs": [],
   "source": [
    "data['split_target'] = '' # 예시 칼럼 이름입니다. "
   ]
  },
  {
   "cell_type": "markdown",
   "metadata": {},
   "source": [
    "### ngram 칼럼 추출"
   ]
  },
  {
   "cell_type": "markdown",
   "metadata": {},
   "source": [
    "## logic 테스트 코드 - 실행 안해도 됩니다. 이해를 위해 실험한 코드입니다. \n",
    "#### 이 코드는 ngram test를 위한 테스트 코드입니다. 이해를 원하는 분들을 위해 남겨둘테니 한 번 실행 해보면서 이해해보세요 "
   ]
  },
  {
   "cell_type": "code",
   "execution_count": 197,
   "metadata": {},
   "outputs": [
    {
     "name": "stdout",
     "output_type": "stream",
     "text": [
      "[8, 47, 48, 84]\n",
      "sample_str 출력: \n",
      " 사러 갔습니다 전 두피 정말 민감해서 제일\n",
      "향이 무지 좋고 두피에 자극되는 느낌이 정말\n",
      "무지 좋고 두피에 자극되는 느낌이 정말 없더라구요\n",
      "샴푸 써봐도 다 간지럽고 긁게 됐는데 왠지\n",
      "\n",
      "['사러 갔습니다 전 두피 정말 민감해서 제일\\n', '향이 무지 좋고 두피에 자극되는 느낌이 정말\\n', '무지 좋고 두피에 자극되는 느낌이 정말 없더라구요\\n', '샴푸 써봐도 다 간지럽고 긁게 됐는데 왠지\\n']\n",
      "['사러 갔습니다 전 두피 정말 민감해서 제일\\n', '향이 무지 좋고 두피에 자극되는 느낌이 정말\\n', '무지 좋고 두피에 자극되는 느낌이 정말 없더라구요\\n', '샴푸 써봐도 다 간지럽고 긁게 됐는데 왠지\\n']\n",
      "['사러', '갔습니다', '전', '두피', '정말', '민감해서', '제일', '향이', '무지', '좋고', '두피에', '자극되는', '느낌이', '없더라구요', '샴푸', '써봐도', '다', '간지럽고', '긁게', '됐는데', '왠지']\n",
      "사러 갔습니다 전 두피 정말 민감해서 제일 향이 무지 좋고 두피에 자극되는 느낌이 없더라구요 샴푸 써봐도 다 간지럽고 긁게 됐는데 왠지\n"
     ]
    }
   ],
   "source": [
    "# 로직 테스트 \n",
    "\n",
    "split_review = data['review'].iloc[1,].split()\n",
    "\n",
    "target_list = []\n",
    "\n",
    "for word in split_review:\n",
    "        if word in stopword_sample:\n",
    "            target_list.append(split_review.index(word))\n",
    "            \n",
    "print(target_list) # target의 index 위치 리스트 \n",
    "\n",
    "\n",
    "sample_list = []\n",
    "\n",
    "for target in target_list:\n",
    "    if target < 3:\n",
    "         sample_list.append(' '.join(split_review[:target+4]) + '\\n')\n",
    "    else:\n",
    "        sample_list.append(' '.join(split_review[target-3:target+4]) + '\\n')\n",
    "\n",
    "print('sample_str 출력: \\n' , sample_str)\n",
    "        \n",
    "for ngram in sample_list:\n",
    "    text = ngram.split()\n",
    "    for word in text:\n",
    "        result.append(word) \n",
    "\n",
    "result2 = list(OrderedDict.fromkeys(result))       \n",
    "        \n",
    "        \n",
    "print(sample_list)\n",
    "print(str(sample_list))\n",
    "print(result2)\n",
    "print(' '.join(result2))"
   ]
  },
  {
   "cell_type": "code",
   "execution_count": 155,
   "metadata": {},
   "outputs": [
    {
     "name": "stdout",
     "output_type": "stream",
     "text": [
      "['사러', '갔습니다', '전', '두피', '정말', '민감해서', '제일', '향이', '무지', '좋고', '두피에', '자극되는', '느낌이', '정말', '무지', '좋고', '두피에', '자극되는', '느낌이', '정말', '없더라구요', '샴푸', '써봐도', '다', '간지럽고', '긁게', '됐는데', '왠지']\n",
      "['사러', '갔습니다', '전', '두피', '정말', '민감해서', '제일', '향이', '무지', '좋고', '두피에', '자극되는', '느낌이', '없더라구요', '샴푸', '써봐도', '다', '간지럽고', '긁게', '됐는데', '왠지']\n"
     ]
    }
   ],
   "source": [
    "# 테스트용 코드 \n",
    "\n",
    "from collections import OrderedDict\n",
    "\n",
    "result = []\n",
    "\n",
    "for ngram in sample_list:\n",
    "    text = ngram.split()\n",
    "    for word in text:\n",
    "        result.append(word) \n",
    "\n",
    "result2 = list(OrderedDict.fromkeys(result)) # 순서 유지하면서 중복 제거 \n",
    "\n",
    "print(result) # 중복 제거하기전 \n",
    "print(result2) # 중복 제거 "
   ]
  },
  {
   "cell_type": "markdown",
   "metadata": {},
   "source": [
    "## 리스트 중복 제거 - 순서 살리고 싶을 경우 아래 라이브러리 사용 \n",
    "- 알아두면 유용한 방법입니다. \n",
    "\n",
    "https://bit.ly/37c9vUN"
   ]
  },
  {
   "cell_type": "code",
   "execution_count": 154,
   "metadata": {},
   "outputs": [
    {
     "data": {
      "text/plain": [
       "[1, 2, 3, 5, 6, 7, 8]"
      ]
     },
     "execution_count": 154,
     "metadata": {},
     "output_type": "execute_result"
    }
   ],
   "source": [
    "from collections import OrderedDict\n",
    "\n",
    "originalList = [1, 2, 3, 1, 2, 5, 6, 7, 8]\n",
    "list(OrderedDict.fromkeys(originalList))"
   ]
  },
  {
   "cell_type": "code",
   "execution_count": 177,
   "metadata": {},
   "outputs": [
    {
     "name": "stdout",
     "output_type": "stream",
     "text": [
      "성분 좋은 아로마티카라서 믿고 삽니다 아로마티카 다른 샴푸들도 사용해보고 다 좋았어서 이 제품도 사봤어요 일단 성분이 좋으니 믿고 구매하는 아로마티카입니다  성분 좋은 아로마티카라서 믿고 삽니다 아로마티카 다른 샴푸들도 사용해보고 다 좋았어서 이 제품도 사봤어요 일단 성분이 좋으니 믿고 구매하는 아로마티카입니다\n"
     ]
    }
   ],
   "source": [
    "text = ''\n",
    "text = text + ' '.join(split_review) + ' '+ ' '.join(split_review) \n",
    "print(text)\n",
    "\n",
    "#text.split()"
   ]
  },
  {
   "cell_type": "markdown",
   "metadata": {},
   "source": [
    "### 여기 밑에서부터 다시 실행하시면 되요"
   ]
  },
  {
   "cell_type": "markdown",
   "metadata": {},
   "source": [
    "## 최종 ngram 추출 코드 \n",
    "- 제 노트북은 5분 정도 걸렸던 거 같아요."
   ]
  },
  {
   "cell_type": "code",
   "execution_count": 16,
   "metadata": {},
   "outputs": [
    {
     "name": "stderr",
     "output_type": "stream",
     "text": [
      "/home/daehynk/anaconda3/lib/python3.7/site-packages/ipykernel_launcher.py:32: SettingWithCopyWarning: \n",
      "A value is trying to be set on a copy of a slice from a DataFrame\n",
      "\n",
      "See the caveats in the documentation: http://pandas.pydata.org/pandas-docs/stable/user_guide/indexing.html#returning-a-view-versus-a-copy\n"
     ]
    }
   ],
   "source": [
    "# 두피 ngram 추출 \n",
    "# 최종 결과 string 으로 출력 - 두 번째 시도 \n",
    "\n",
    "from collections import OrderedDict\n",
    "\n",
    "for i, review in enumerate(data['review']):\n",
    "    if type(review) != float:\n",
    "        target_list = []\n",
    "        split_review = review.split()\n",
    "\n",
    "        for word in split_review:\n",
    "            if word in stopword_sample:\n",
    "                target_list.append(split_review.index(word))\n",
    "        \n",
    "        sample_list = []\n",
    "        \n",
    "        for target in target_list:\n",
    "                if target < 3:\n",
    "                    sample_list.append(' '.join(split_review[:target+4]) + '\\n')\n",
    "                else:\n",
    "                    sample_list.append(' '.join(split_review[target-3:target+4]) + '\\n')\n",
    "                    \n",
    "        result = []\n",
    "        \n",
    "        for ngram in sample_list:\n",
    "            text = ngram.split()\n",
    "            for word in text:\n",
    "                result.append(word) \n",
    "\n",
    "        result2 = list(OrderedDict.fromkeys(result))  # 순서 유지하면서 중복 제거      \n",
    "        result3 = ' '.join(result2) + '\\n'\n",
    "        data['split_target'][i] = result3 "
   ]
  },
  {
   "cell_type": "code",
   "execution_count": 17,
   "metadata": {},
   "outputs": [
    {
     "name": "stdout",
     "output_type": "stream",
     "text": [
      "사러 갔습니다 전 두피 정말 민감해서 제일 향이 무지 좋고 두피에 자극되는 느낌이 없더라구요 샴푸 써봐도 다 간지럽고 긁게 됐는데 왠지\n",
      "\n",
      "엄청 시원하진 않고 두피 시윈한걸로 치면 이니스프리 뭔가 몸에 좋은냄새한방허브느낌 두피관리 기능은 잘 모르겠음원래도\n",
      "\n",
      "전에 쫌 냅두면 두피가 화아 하니 박하\n",
      "\n",
      "하자면탈모에도 좋다고 함 두피나 머리결어 따라서 맞추어 더 컷더라면요거는 시원하게혹은 떡지는거 싫으신분들이 좋아하실듯생각보다 시원했고산뜻하기도 그냥 막 쓰기보다 두피에 좋은 그나마나 괜찮은\n",
      "\n",
      "탈모 원인중에 하나가 두피라고 하던데 저는 두피가 붉고 약한상태였거든요 근데 두피상태다 좋아져서 지금은 두피건강도 좋아졌어요 이거 살때 사은품으로 주셨던 두피 마사지 빗도 있는데\n",
      "\n",
      "지성두피용 탈모가는모발 두피입니다 보라색통 지성용 프로패셔널 엉키니까 컨디셔너 써야되고 두피나 등에 여드름 나요\n",
      "\n",
      "너무 좋다 두피케어제품 오만가지 다 쓰지만\n",
      "\n",
      "뾰루지같은게 생기기 시작하고 기름도 지는 것 같아서 좋고 거품도 풍성하고 떡지거나 가렵거나 뾰루지 나지도\n",
      "\n",
      "다른샴푸랑 똑같이 행구는데도 두피에 미끌미끌한게 남음 아무리헹궈도\n",
      "\n",
      "향이구요 저는 쓰면서 두피가 간지럽거나 냄새가 난다던가 안좋은\n",
      "\n",
      "감고 나면 머리 가려움이 덜함 떡지는 것도 평타이상은\n",
      "\n",
      "전 두피가 건조한 분들께 추천한다는 리뷰가 제 지인도 사용해보니까 건조하다고 하더라구요 거품 은\n",
      "\n",
      "향은 별로라 여름 두피에 땀 흘릴때 머리속 지루성 두피염으로 고생인데 그것까지는 잡아주지는\n",
      "\n",
      "거품 잘 나고 비듬도 안 생기고 머릿결도\n",
      "\n",
      "거품 잘나는편이고 거품이 두피에 닿으면 아무 느낌 살짝 화해지는데 정작 두피가 시원해지지는 않았다 단점이\n",
      "\n"
     ]
    }
   ],
   "source": [
    "# 잘 들어갔는지 확인 \n",
    "\n",
    "count = 0 \n",
    "\n",
    "for split in data['split_target']:\n",
    "    if len(split) >1:\n",
    "        print(split)\n",
    "        count += 1\n",
    "        if count == 15:\n",
    "             break"
   ]
  },
  {
   "cell_type": "code",
   "execution_count": null,
   "metadata": {},
   "outputs": [],
   "source": []
  },
  {
   "cell_type": "markdown",
   "metadata": {},
   "source": [
    "## 저장 - '날짜_split_review_자기담당필터_본인 이름.xlsx' 로 통일할게요  "
   ]
  },
  {
   "cell_type": "code",
   "execution_count": 19,
   "metadata": {},
   "outputs": [],
   "source": [
    "data.to_excel('1119_split_review_두피.xlsx')"
   ]
  },
  {
   "cell_type": "code",
   "execution_count": 18,
   "metadata": {},
   "outputs": [
    {
     "name": "stdout",
     "output_type": "stream",
     "text": [
      "12165\n"
     ]
    }
   ],
   "source": [
    "# 두피 ngram 개수 확인 \n",
    "\n",
    "length = 0\n",
    "count = 0\n",
    "\n",
    "for i in range(len(data)):\n",
    "    if len(data['split_target'].iloc[i,]) > 1:\n",
    "        count  += 1\n",
    "        length +=1\n",
    "        \n",
    "print(length)"
   ]
  },
  {
   "cell_type": "code",
   "execution_count": null,
   "metadata": {},
   "outputs": [],
   "source": []
  }
 ],
 "metadata": {
  "kernelspec": {
   "display_name": "Python 3",
   "language": "python",
   "name": "python3"
  },
  "language_info": {
   "codemirror_mode": {
    "name": "ipython",
    "version": 3
   },
   "file_extension": ".py",
   "mimetype": "text/x-python",
   "name": "python",
   "nbconvert_exporter": "python",
   "pygments_lexer": "ipython3",
   "version": "3.7.3"
  }
 },
 "nbformat": 4,
 "nbformat_minor": 2
}
