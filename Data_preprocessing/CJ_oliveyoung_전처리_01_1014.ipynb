{
 "cells": [
  {
   "cell_type": "code",
   "execution_count": 1,
   "metadata": {},
   "outputs": [],
   "source": [
    "import pandas as pd \n",
    "import re"
   ]
  },
  {
   "cell_type": "code",
   "execution_count": 2,
   "metadata": {},
   "outputs": [],
   "source": [
    "data =pd.read_excel('CJ_Olive_combined.xlsx')"
   ]
  },
  {
   "cell_type": "code",
   "execution_count": 3,
   "metadata": {},
   "outputs": [
    {
     "data": {
      "text/html": [
       "<div>\n",
       "<style scoped>\n",
       "    .dataframe tbody tr th:only-of-type {\n",
       "        vertical-align: middle;\n",
       "    }\n",
       "\n",
       "    .dataframe tbody tr th {\n",
       "        vertical-align: top;\n",
       "    }\n",
       "\n",
       "    .dataframe thead th {\n",
       "        text-align: right;\n",
       "    }\n",
       "</style>\n",
       "<table border=\"1\" class=\"dataframe\">\n",
       "  <thead>\n",
       "    <tr style=\"text-align: right;\">\n",
       "      <th></th>\n",
       "      <th>Unnamed: 0</th>\n",
       "      <th>product</th>\n",
       "      <th>review</th>\n",
       "      <th>detail1</th>\n",
       "      <th>detail2</th>\n",
       "      <th>detail3</th>\n",
       "      <th>detail4</th>\n",
       "      <th>rating</th>\n",
       "    </tr>\n",
       "  </thead>\n",
       "  <tbody>\n",
       "    <tr>\n",
       "      <td>0</td>\n",
       "      <td>0</td>\n",
       "      <td>허벌에센스 핑크로즈 샴푸 490ml</td>\n",
       "      <td>NaN</td>\n",
       "      <td>보통이에요</td>\n",
       "      <td>보통이에요</td>\n",
       "      <td>보통이에요</td>\n",
       "      <td>아주 만족해요</td>\n",
       "      <td>NaN</td>\n",
       "    </tr>\n",
       "    <tr>\n",
       "      <td>1</td>\n",
       "      <td>1</td>\n",
       "      <td>허벌에센스 핑크로즈 샴푸 490ml</td>\n",
       "      <td>뽀득뽀득해요 성분 좋다는 샴푸 쓰다가 거품도 너무 안나고 세정력이 떨어져서 바꿔봤는...</td>\n",
       "      <td>아주 만족해요</td>\n",
       "      <td>자극없이 순해요</td>\n",
       "      <td>거품이 풍성해요</td>\n",
       "      <td>보통이에요</td>\n",
       "      <td>NaN</td>\n",
       "    </tr>\n",
       "    <tr>\n",
       "      <td>2</td>\n",
       "      <td>2</td>\n",
       "      <td>허벌에센스 핑크로즈 샴푸 490ml</td>\n",
       "      <td>NaN</td>\n",
       "      <td>아주 만족해요</td>\n",
       "      <td>자극없이 순해요</td>\n",
       "      <td>거품이 풍성해요</td>\n",
       "      <td>아주 만족해요</td>\n",
       "      <td>NaN</td>\n",
       "    </tr>\n",
       "    <tr>\n",
       "      <td>3</td>\n",
       "      <td>3</td>\n",
       "      <td>허벌에센스 핑크로즈 샴푸 490ml</td>\n",
       "      <td>NaN</td>\n",
       "      <td>보통이에요</td>\n",
       "      <td>자극없이 순해요</td>\n",
       "      <td>거품이 풍성해요</td>\n",
       "      <td>보통이에요</td>\n",
       "      <td>NaN</td>\n",
       "    </tr>\n",
       "    <tr>\n",
       "      <td>4</td>\n",
       "      <td>4</td>\n",
       "      <td>허벌에센스 핑크로즈 샴푸 490ml</td>\n",
       "      <td>비누와 같은 세정력 세장력은 좋은 것 같은데 샴푸 후 머릿결이 조금 뻣뻣한 느낌이 ...</td>\n",
       "      <td>보통이에요</td>\n",
       "      <td>자극없이 순해요</td>\n",
       "      <td>거품이 풍성해요</td>\n",
       "      <td>보통이에요</td>\n",
       "      <td>NaN</td>\n",
       "    </tr>\n",
       "  </tbody>\n",
       "</table>\n",
       "</div>"
      ],
      "text/plain": [
       "   Unnamed: 0              product  \\\n",
       "0           0  허벌에센스 핑크로즈 샴푸 490ml   \n",
       "1           1  허벌에센스 핑크로즈 샴푸 490ml   \n",
       "2           2  허벌에센스 핑크로즈 샴푸 490ml   \n",
       "3           3  허벌에센스 핑크로즈 샴푸 490ml   \n",
       "4           4  허벌에센스 핑크로즈 샴푸 490ml   \n",
       "\n",
       "                                              review  detail1   detail2  \\\n",
       "0                                                NaN    보통이에요     보통이에요   \n",
       "1  뽀득뽀득해요 성분 좋다는 샴푸 쓰다가 거품도 너무 안나고 세정력이 떨어져서 바꿔봤는...  아주 만족해요  자극없이 순해요   \n",
       "2                                                NaN  아주 만족해요  자극없이 순해요   \n",
       "3                                                NaN    보통이에요  자극없이 순해요   \n",
       "4  비누와 같은 세정력 세장력은 좋은 것 같은데 샴푸 후 머릿결이 조금 뻣뻣한 느낌이 ...    보통이에요  자극없이 순해요   \n",
       "\n",
       "    detail3  detail4  rating  \n",
       "0     보통이에요  아주 만족해요     NaN  \n",
       "1  거품이 풍성해요    보통이에요     NaN  \n",
       "2  거품이 풍성해요  아주 만족해요     NaN  \n",
       "3  거품이 풍성해요    보통이에요     NaN  \n",
       "4  거품이 풍성해요    보통이에요     NaN  "
      ]
     },
     "execution_count": 3,
     "metadata": {},
     "output_type": "execute_result"
    }
   ],
   "source": [
    "data.head()"
   ]
  },
  {
   "cell_type": "code",
   "execution_count": 3,
   "metadata": {},
   "outputs": [
    {
     "data": {
      "text/plain": [
       "Index(['Unnamed: 0', 'product', 'review', 'detail1', 'detail2', 'detail3',\n",
       "       'detail4', 'rating'],\n",
       "      dtype='object')"
      ]
     },
     "execution_count": 3,
     "metadata": {},
     "output_type": "execute_result"
    }
   ],
   "source": [
    "data.columns"
   ]
  },
  {
   "cell_type": "markdown",
   "metadata": {},
   "source": [
    "### 칼럼 이름 재설정"
   ]
  },
  {
   "cell_type": "code",
   "execution_count": 4,
   "metadata": {},
   "outputs": [],
   "source": [
    "data.rename(columns = {'detail1':'향','detail2':'자극도','detail3':'거품', 'detail4':'세정력'}, inplace =True) "
   ]
  },
  {
   "cell_type": "markdown",
   "metadata": {},
   "source": [
    "### 불필요 칼럼 삭제"
   ]
  },
  {
   "cell_type": "code",
   "execution_count": 5,
   "metadata": {},
   "outputs": [],
   "source": [
    "data.drop(['rating'],axis='columns' , inplace = True)"
   ]
  },
  {
   "cell_type": "code",
   "execution_count": 6,
   "metadata": {},
   "outputs": [],
   "source": [
    "data.drop(['Unnamed: 0'],axis='columns' , inplace = True)"
   ]
  },
  {
   "cell_type": "markdown",
   "metadata": {},
   "source": [
    "### 리뷰 칼럼만 따로 (깊은?) 복사   \n",
    "\n",
    "- 주소 값 다르므로 data_review 바꾼다고 data['review'] 안 변함"
   ]
  },
  {
   "cell_type": "code",
   "execution_count": 7,
   "metadata": {},
   "outputs": [],
   "source": [
    "data_review = data['review']"
   ]
  },
  {
   "cell_type": "code",
   "execution_count": 8,
   "metadata": {},
   "outputs": [
    {
     "name": "stdout",
     "output_type": "stream",
     "text": [
      "139917385804656 \n",
      "\n",
      "\n",
      " 139917385804656\n"
     ]
    }
   ],
   "source": [
    "print(id(data_review), '\\n\\n\\n' , id(data['review']))"
   ]
  },
  {
   "cell_type": "code",
   "execution_count": 9,
   "metadata": {},
   "outputs": [
    {
     "data": {
      "text/plain": [
       "False"
      ]
     },
     "execution_count": 9,
     "metadata": {},
     "output_type": "execute_result"
    }
   ],
   "source": [
    "id(data_review) is id(data['review'])"
   ]
  },
  {
   "cell_type": "code",
   "execution_count": 10,
   "metadata": {},
   "outputs": [
    {
     "data": {
      "text/plain": [
       "True"
      ]
     },
     "execution_count": 10,
     "metadata": {},
     "output_type": "execute_result"
    }
   ],
   "source": [
    "id(data_review) == id(data['review'])"
   ]
  },
  {
   "cell_type": "code",
   "execution_count": 21,
   "metadata": {},
   "outputs": [],
   "source": [
    "data_02 = data.dropna(subset=['review'])"
   ]
  },
  {
   "cell_type": "code",
   "execution_count": 24,
   "metadata": {},
   "outputs": [
    {
     "data": {
      "text/html": [
       "<div>\n",
       "<style scoped>\n",
       "    .dataframe tbody tr th:only-of-type {\n",
       "        vertical-align: middle;\n",
       "    }\n",
       "\n",
       "    .dataframe tbody tr th {\n",
       "        vertical-align: top;\n",
       "    }\n",
       "\n",
       "    .dataframe thead th {\n",
       "        text-align: right;\n",
       "    }\n",
       "</style>\n",
       "<table border=\"1\" class=\"dataframe\">\n",
       "  <thead>\n",
       "    <tr style=\"text-align: right;\">\n",
       "      <th></th>\n",
       "      <th>product</th>\n",
       "      <th>review</th>\n",
       "      <th>향</th>\n",
       "      <th>자극도</th>\n",
       "      <th>거품</th>\n",
       "      <th>세정력</th>\n",
       "    </tr>\n",
       "  </thead>\n",
       "  <tbody>\n",
       "    <tr>\n",
       "      <td>1</td>\n",
       "      <td>허벌에센스 핑크로즈 샴푸 490ml</td>\n",
       "      <td>뽀득뽀득해요 성분 좋다는 샴푸 쓰다가 거품도 너무 안나고 세정력이 떨어져서 바꿔봤는...</td>\n",
       "      <td>아주 만족해요</td>\n",
       "      <td>자극없이 순해요</td>\n",
       "      <td>거품이 풍성해요</td>\n",
       "      <td>보통이에요</td>\n",
       "    </tr>\n",
       "    <tr>\n",
       "      <td>4</td>\n",
       "      <td>허벌에센스 핑크로즈 샴푸 490ml</td>\n",
       "      <td>비누와 같은 세정력 세장력은 좋은 것 같은데 샴푸 후 머릿결이 조금 뻣뻣한 느낌이 ...</td>\n",
       "      <td>보통이에요</td>\n",
       "      <td>자극없이 순해요</td>\n",
       "      <td>거품이 풍성해요</td>\n",
       "      <td>보통이에요</td>\n",
       "    </tr>\n",
       "    <tr>\n",
       "      <td>7</td>\n",
       "      <td>허벌에센스 핑크로즈 샴푸 490ml</td>\n",
       "      <td>머리결에 풍부한 영양가와 좋은 향이 가득합니다 머리카락이 많이 상했었는데 이 제품 ...</td>\n",
       "      <td>아주 만족해요</td>\n",
       "      <td>자극없이 순해요</td>\n",
       "      <td>거품이 풍성해요</td>\n",
       "      <td>아주 만족해요</td>\n",
       "    </tr>\n",
       "    <tr>\n",
       "      <td>9</td>\n",
       "      <td>허벌에센스 핑크로즈 샴푸 490ml</td>\n",
       "      <td>머리카락 건조하신분들은 사용하시면 조금 건조할듯합니다 향이나 거품은 진짜 좋은데 나...</td>\n",
       "      <td>보통이에요</td>\n",
       "      <td>자극없이 순해요</td>\n",
       "      <td>거품이 풍성해요</td>\n",
       "      <td>아주 만족해요</td>\n",
       "    </tr>\n",
       "    <tr>\n",
       "      <td>12</td>\n",
       "      <td>허벌에센스 핑크로즈 샴푸 490ml</td>\n",
       "      <td>냄새가 너무 좋아요 원래부터 좋아하던 제품이라서 구매했습니다 냄새 짱</td>\n",
       "      <td>아주 만족해요</td>\n",
       "      <td>자극없이 순해요</td>\n",
       "      <td>거품이 풍성해요</td>\n",
       "      <td>아주 만족해요</td>\n",
       "    </tr>\n",
       "  </tbody>\n",
       "</table>\n",
       "</div>"
      ],
      "text/plain": [
       "                product                                             review  \\\n",
       "1   허벌에센스 핑크로즈 샴푸 490ml  뽀득뽀득해요 성분 좋다는 샴푸 쓰다가 거품도 너무 안나고 세정력이 떨어져서 바꿔봤는...   \n",
       "4   허벌에센스 핑크로즈 샴푸 490ml  비누와 같은 세정력 세장력은 좋은 것 같은데 샴푸 후 머릿결이 조금 뻣뻣한 느낌이 ...   \n",
       "7   허벌에센스 핑크로즈 샴푸 490ml  머리결에 풍부한 영양가와 좋은 향이 가득합니다 머리카락이 많이 상했었는데 이 제품 ...   \n",
       "9   허벌에센스 핑크로즈 샴푸 490ml  머리카락 건조하신분들은 사용하시면 조금 건조할듯합니다 향이나 거품은 진짜 좋은데 나...   \n",
       "12  허벌에센스 핑크로즈 샴푸 490ml             냄새가 너무 좋아요 원래부터 좋아하던 제품이라서 구매했습니다 냄새 짱   \n",
       "\n",
       "          향       자극도        거품      세정력  \n",
       "1   아주 만족해요  자극없이 순해요  거품이 풍성해요    보통이에요  \n",
       "4     보통이에요  자극없이 순해요  거품이 풍성해요    보통이에요  \n",
       "7   아주 만족해요  자극없이 순해요  거품이 풍성해요  아주 만족해요  \n",
       "9     보통이에요  자극없이 순해요  거품이 풍성해요  아주 만족해요  \n",
       "12  아주 만족해요  자극없이 순해요  거품이 풍성해요  아주 만족해요  "
      ]
     },
     "execution_count": 24,
     "metadata": {},
     "output_type": "execute_result"
    }
   ],
   "source": [
    "data_02.head()"
   ]
  },
  {
   "cell_type": "code",
   "execution_count": 26,
   "metadata": {},
   "outputs": [
    {
     "data": {
      "text/plain": [
       "(12584, 6)"
      ]
     },
     "execution_count": 26,
     "metadata": {},
     "output_type": "execute_result"
    }
   ],
   "source": [
    "data_02.shape"
   ]
  },
  {
   "cell_type": "code",
   "execution_count": 28,
   "metadata": {},
   "outputs": [
    {
     "data": {
      "text/plain": [
       "Index(['product', 'review', '향', '자극도', '거품', '세정력'], dtype='object')"
      ]
     },
     "execution_count": 28,
     "metadata": {},
     "output_type": "execute_result"
    }
   ],
   "source": [
    "data_02.columns"
   ]
  },
  {
   "cell_type": "code",
   "execution_count": 29,
   "metadata": {},
   "outputs": [
    {
     "data": {
      "text/plain": [
       "1        뽀득뽀득해요 성분 좋다는 샴푸 쓰다가 거품도 너무 안나고 세정력이 떨어져서 바꿔봤는...\n",
       "4        비누와 같은 세정력 세장력은 좋은 것 같은데 샴푸 후 머릿결이 조금 뻣뻣한 느낌이 ...\n",
       "7        머리결에 풍부한 영양가와 좋은 향이 가득합니다 머리카락이 많이 상했었는데 이 제품 ...\n",
       "9        머리카락 건조하신분들은 사용하시면 조금 건조할듯합니다 향이나 거품은 진짜 좋은데 나...\n",
       "12                  냄새가 너무 좋아요 원래부터 좋아하던 제품이라서 구매했습니다 냄새 짱\n",
       "                               ...                        \n",
       "19898                   소문 믿고 구입했으나 품질은 수십번 사용해본후 판단해볼께요..\n",
       "19899                                              잘받았습니다 \n",
       "19900                                               싸게 샀어요\n",
       "19901    머리카락이 안 빠지는건 아직 못 느끼겠고요 <br>쓰고 나니 머리가 너무 뻣뻣해서 ...\n",
       "19902                                            탈모샴푸 가대해요\n",
       "Name: review, Length: 12584, dtype: object"
      ]
     },
     "execution_count": 29,
     "metadata": {},
     "output_type": "execute_result"
    }
   ],
   "source": [
    "data_02['review']"
   ]
  },
  {
   "cell_type": "code",
   "execution_count": 16,
   "metadata": {},
   "outputs": [],
   "source": [
    "data_review = data_review.dropna(axis=0)"
   ]
  },
  {
   "cell_type": "code",
   "execution_count": 17,
   "metadata": {},
   "outputs": [
    {
     "data": {
      "text/plain": [
       "1        뽀득뽀득해요 성분 좋다는 샴푸 쓰다가 거품도 너무 안나고 세정력이 떨어져서 바꿔봤는...\n",
       "4        비누와 같은 세정력 세장력은 좋은 것 같은데 샴푸 후 머릿결이 조금 뻣뻣한 느낌이 ...\n",
       "7        머리결에 풍부한 영양가와 좋은 향이 가득합니다 머리카락이 많이 상했었는데 이 제품 ...\n",
       "9        머리카락 건조하신분들은 사용하시면 조금 건조할듯합니다 향이나 거품은 진짜 좋은데 나...\n",
       "12                  냄새가 너무 좋아요 원래부터 좋아하던 제품이라서 구매했습니다 냄새 짱\n",
       "                               ...                        \n",
       "19898                   소문 믿고 구입했으나 품질은 수십번 사용해본후 판단해볼께요..\n",
       "19899                                              잘받았습니다 \n",
       "19900                                               싸게 샀어요\n",
       "19901    머리카락이 안 빠지는건 아직 못 느끼겠고요 <br>쓰고 나니 머리가 너무 뻣뻣해서 ...\n",
       "19902                                            탈모샴푸 가대해요\n",
       "Name: review, Length: 12584, dtype: object"
      ]
     },
     "execution_count": 17,
     "metadata": {},
     "output_type": "execute_result"
    }
   ],
   "source": [
    "data_review"
   ]
  },
  {
   "cell_type": "code",
   "execution_count": 18,
   "metadata": {},
   "outputs": [
    {
     "data": {
      "text/plain": [
       "pandas.core.series.Series"
      ]
     },
     "execution_count": 18,
     "metadata": {},
     "output_type": "execute_result"
    }
   ],
   "source": [
    "type(data_review)"
   ]
  },
  {
   "cell_type": "code",
   "execution_count": 19,
   "metadata": {},
   "outputs": [
    {
     "data": {
      "text/plain": [
       "12584"
      ]
     },
     "execution_count": 19,
     "metadata": {},
     "output_type": "execute_result"
    }
   ],
   "source": [
    "len(data_review)"
   ]
  },
  {
   "cell_type": "markdown",
   "metadata": {},
   "source": [
    "### index 재설정"
   ]
  },
  {
   "cell_type": "code",
   "execution_count": 20,
   "metadata": {},
   "outputs": [],
   "source": [
    "data_review.index = pd.RangeIndex(len(data_review))"
   ]
  },
  {
   "cell_type": "code",
   "execution_count": 21,
   "metadata": {},
   "outputs": [
    {
     "data": {
      "text/plain": [
       "0        뽀득뽀득해요 성분 좋다는 샴푸 쓰다가 거품도 너무 안나고 세정력이 떨어져서 바꿔봤는...\n",
       "1        비누와 같은 세정력 세장력은 좋은 것 같은데 샴푸 후 머릿결이 조금 뻣뻣한 느낌이 ...\n",
       "2        머리결에 풍부한 영양가와 좋은 향이 가득합니다 머리카락이 많이 상했었는데 이 제품 ...\n",
       "3        머리카락 건조하신분들은 사용하시면 조금 건조할듯합니다 향이나 거품은 진짜 좋은데 나...\n",
       "4                   냄새가 너무 좋아요 원래부터 좋아하던 제품이라서 구매했습니다 냄새 짱\n",
       "                               ...                        \n",
       "12579                   소문 믿고 구입했으나 품질은 수십번 사용해본후 판단해볼께요..\n",
       "12580                                              잘받았습니다 \n",
       "12581                                               싸게 샀어요\n",
       "12582    머리카락이 안 빠지는건 아직 못 느끼겠고요 <br>쓰고 나니 머리가 너무 뻣뻣해서 ...\n",
       "12583                                            탈모샴푸 가대해요\n",
       "Name: review, Length: 12584, dtype: object"
      ]
     },
     "execution_count": 21,
     "metadata": {},
     "output_type": "execute_result"
    }
   ],
   "source": [
    "data_review"
   ]
  },
  {
   "cell_type": "markdown",
   "metadata": {},
   "source": [
    "## HTML 태그 제거 "
   ]
  },
  {
   "cell_type": "code",
   "execution_count": 22,
   "metadata": {},
   "outputs": [
    {
     "data": {
      "text/plain": [
       "'머리카락이 안 빠지는건 아직 못 느끼겠고요 <br>쓰고 나니 머리가 너무 뻣뻣해서 반품하고 싶어요'"
      ]
     },
     "execution_count": 22,
     "metadata": {},
     "output_type": "execute_result"
    }
   ],
   "source": [
    "data_review[12582]"
   ]
  },
  {
   "cell_type": "code",
   "execution_count": 23,
   "metadata": {},
   "outputs": [
    {
     "data": {
      "text/plain": [
       "'향기 좋은 샴푸 장미향을 기대하며 샀는데 \\n머리감을때 은은하게 좋은 향이 나서 맘에 들어요'"
      ]
     },
     "execution_count": 23,
     "metadata": {},
     "output_type": "execute_result"
    }
   ],
   "source": [
    "data_review[7]"
   ]
  },
  {
   "cell_type": "code",
   "execution_count": 24,
   "metadata": {},
   "outputs": [
    {
     "name": "stdout",
     "output_type": "stream",
     "text": [
      "향기 좋은 샴푸 장미향을 기대하며 샀는데 \n",
      "머리감을때 은은하게 좋은 향이 나서 맘에 들어요\n"
     ]
    }
   ],
   "source": [
    "# HTML 태그 제거\n",
    "\n",
    "#text = data_review[12582]\n",
    "text = data_review[7] \n",
    "pattern = '<[^>]*>'\n",
    "text = re.sub(pattern = pattern, repl='',string=text)\n",
    "print(text)"
   ]
  },
  {
   "cell_type": "code",
   "execution_count": 25,
   "metadata": {},
   "outputs": [
    {
     "data": {
      "text/plain": [
       "'뽀득뽀득해요 성분 좋다는 샴푸 쓰다가 거품도 너무 안나고 세정력이 떨어져서 바꿔봤는데 뽀득뽀득 씻겨서 좋네요 저렴하기도 하고 좋아요 '"
      ]
     },
     "execution_count": 25,
     "metadata": {},
     "output_type": "execute_result"
    }
   ],
   "source": [
    "# 한글 자음, 모음 제거 \n",
    "\n",
    "text = '뽀득뽀득해요 성분 좋다는 샴푸 쓰다가 거품도 너무 안나고 세정력이 떨어져서 바꿔봤는데 뽀득뽀득 씻겨서 좋네요ㅠㅠ 저렴하기도 하고 좋아요 '\n",
    "\n",
    "pattern = '([ㄱ-ㅎㅏ-ㅣ]+)'\n",
    "repl=''\n",
    "re.sub(pattern= pattern, repl=repl, string=text)"
   ]
  },
  {
   "cell_type": "code",
   "execution_count": 26,
   "metadata": {},
   "outputs": [
    {
     "name": "stdout",
     "output_type": "stream",
     "text": [
      "비누와 같은 세정력 세장력은 좋은 것 같은데 샴푸 후 머릿결이 조금 뻣뻣한 느낌이 있어요 트리트먼트를 필수로 해야할 것 같아요\n"
     ]
    }
   ],
   "source": [
    "# 특수기호 제거 test \n",
    "\n",
    "\n",
    "text = '비누와 같은 세정력 세장력은 좋은 것 같은데 샴푸 후 머릿결이 조금 뻣뻣한 느낌이 있어요 트리트먼트를 필수로 해야할 것 같아요!!'\n",
    "\n",
    "pattern = '[^가-히\\s]'\n",
    "repl = ''\n",
    "\n",
    "text = re.sub(pattern=pattern, repl = repl, string=text)\n",
    "print(text)\n"
   ]
  },
  {
   "cell_type": "code",
   "execution_count": 27,
   "metadata": {},
   "outputs": [],
   "source": [
    "# cleasing 함수 \n",
    "\n",
    "def cleasing(text):\n",
    "    pattern = '([ㄱ-ㅎㅏ-ㅣ]+)' # 자음, 모음 제거\n",
    "    text = re.sub(pattern= pattern, repl=repl, string=text)\n",
    "    #pattern = '[^\\w\\s]' # 특수기호 제거\n",
    "    pattern = '[^가-히\\s]' # 특수기호 제거\n",
    "    text = re.sub(pattern= pattern, repl=repl, string=text)\n",
    "    pattern = '<[^>]*>' # html 제거\n",
    "    text = re.sub(pattern = pattern, repl='',string=text)\n",
    "    return text"
   ]
  },
  {
   "cell_type": "code",
   "execution_count": 28,
   "metadata": {},
   "outputs": [
    {
     "data": {
      "text/plain": [
       "'비누와 같은 세정력 세장력은 좋은 것 같은데 샴푸 후 머릿결이 조금 뻣뻣한 느낌이 있어요 트리트먼트를 필수로 해야할 것 같아요'"
      ]
     },
     "execution_count": 28,
     "metadata": {},
     "output_type": "execute_result"
    }
   ],
   "source": [
    "text = '비누와 같은 세정력 세장력은 좋은 것 같은데 샴푸 후 머릿결이 조금 뻣뻣한 느낌이 있어요 트리트먼트를 필수로 해야할 것 같아요!!'\n",
    "\n",
    "cleasing(text)"
   ]
  },
  {
   "cell_type": "code",
   "execution_count": 29,
   "metadata": {},
   "outputs": [
    {
     "data": {
      "text/plain": [
       "'최고의 향 %uB9CC%uC871%uB3C4%20%uBCC4%20%uB2E4%uC12F%uAC1C%20%uB2E4%20%uD5A5%uB54C%uBB38%uC774%uC5D0%uC694%20%uD5A5%uC774%20%uC815%uB9D0%20%uC88B%uC544%uC694%20%uC5EC%uC131%uC5EC%uC131%uD558%uACE0%20%uB0A8%uC790%uAC00%uC4F0%uBA74%20%uB0A8%uC790%uBA38%uB9AC%uD2B9%uC720%uC758%uD5A5%uC774%20%uB9CE%uC774%uC904%uC5B4%uB4ED%uB2C8%uB2E4%20%uC2E0%uB791%uC4F0%uB77C%uACE0%uC92C%uB294%uB370%20%uC641%uC2A4%uB3C4%uC798%uC138%uC815%uB418%uACE0%20%uD5A5%uB3C4%uC88B%uC544%20%uB9CC%uC871%uD558%uB124%uC694%20%uC870%uAE08%uBED7%uBED7%uD55C%uB290%uB08C%uC774%uC788%uC5B4%20%uB9B0%uC2A4%uC368%uC918%uC57C%uD558%uAD6C%uC694%20%uAC19%uC740%uB77C%uC778%20%uB9B0%uC2A4%20%uCD94%uCC9C%uD569%uB2C8%uB2E4%3Cbr%3E'"
      ]
     },
     "execution_count": 29,
     "metadata": {},
     "output_type": "execute_result"
    }
   ],
   "source": [
    "data_review[123]"
   ]
  },
  {
   "cell_type": "code",
   "execution_count": 30,
   "metadata": {},
   "outputs": [
    {
     "name": "stdout",
     "output_type": "stream",
     "text": [
      "<class 'str'> 뽀득뽀득해요 성분 좋다는 샴푸 쓰다가 거품도 너무 안나고 세정력이 떨어져서 바꿔봤는데 뽀득뽀득 씻겨서 좋네요 저렴하기도 하고 좋아요 \n",
      "\n",
      "<class 'str'> 비누와 같은 세정력 세장력은 좋은 것 같은데 샴푸 후 머릿결이 조금 뻣뻣한 느낌이 있어요 \n",
      "트리트먼트를 필수로 해야할 것 같아요 \n",
      "\n",
      "<class 'str'> 머리결에 풍부한 영양가와 좋은 향이 가득합니다 머리카락이 많이 상했었는데 이 제품 사용한뒤로 하루하루 좋은 머릿결로 구리고 좋은 향으로 생활할 수 있게 되었습니다 \n",
      "\n",
      "<class 'str'> 머리카락 건조하신분들은 사용하시면 조금 건조할듯합니다 향이나 거품은 진짜 좋은데 나중에 시간 지나면 다른 샴푸에 비해서는 두피 냄새가 올라오더라구여 그리고 머리 많이 건조하신분들은 이거 사용하시면 조금 건조할듯합니당 \n",
      "\n",
      "<class 'str'> 냄새가 너무 좋아요 원래부터 좋아하던 제품이라서 구매했습니다 냄새 짱 \n",
      "\n",
      "<class 'str'> 향도 좋고 두피에도 나쁘지 않아요 향이 너무 좋아요 실리콘 안 들어가서 모발에도 더 좋을 듯 벌써 네통 째 \n",
      "\n",
      "<class 'str'> 향이 참 좋아요 세정력도 완젼 맘에 들고 거품도 풍성하고 무엇보다 향이 넘 좋아요무슨샴푸 쓰냐고 물어본데요 딸램 친구들이넘 만족이요 \n",
      "\n",
      "<class 'str'> 향기 좋은 샴푸 장미향을 기대하며 샀는데 \n",
      "머리감을때 은은하게 좋은 향이 나서 맘에 들어요 \n",
      "\n",
      "<class 'str'> 향이좋고 가성비도 좋네요 세정력은 평범한데  향이 좋고\n",
      "거품이 풍성해서 좋아요 \n",
      "\n",
      "<class 'str'> 향기가 좋은 샴푸 거품도 맘에 들고 전반적으로 좋아요 향기가 좋은 샴푸 거품도 맘에 들고 전반적으로 좋아요 \n",
      "\n"
     ]
    }
   ],
   "source": [
    "# 특수문자, 자음 모음, 해시태그 제거 - 10개 테스트\n",
    "\n",
    "count = 0\n",
    "for review in data_review:\n",
    "    if count < 10: \n",
    "        review = cleasing(review)\n",
    "        print(type(review), review, '\\n')\n",
    "        count += 1"
   ]
  },
  {
   "cell_type": "code",
   "execution_count": 31,
   "metadata": {},
   "outputs": [],
   "source": [
    "import copy"
   ]
  },
  {
   "cell_type": "code",
   "execution_count": 32,
   "metadata": {},
   "outputs": [],
   "source": [
    "data_review_preprocessing01 = copy.deepcopy(data_review)"
   ]
  },
  {
   "cell_type": "code",
   "execution_count": 33,
   "metadata": {},
   "outputs": [
    {
     "data": {
      "text/plain": [
       "'뽀득뽀득해요 성분 좋다는 샴푸 쓰다가 거품도 너무 안나고 세정력이 떨어져서 바꿔봤는데 뽀득뽀득 씻겨서 좋네요ㅠㅠ 저렴하기도 하고 좋아요'"
      ]
     },
     "execution_count": 33,
     "metadata": {},
     "output_type": "execute_result"
    }
   ],
   "source": [
    "data_review_preprocessing01[0]"
   ]
  },
  {
   "cell_type": "code",
   "execution_count": 34,
   "metadata": {},
   "outputs": [],
   "source": [
    "# 특수문자, 자음 모음, 해시태그 제거  + 저장\n",
    "\n",
    "count = 0\n",
    "for review in data_review:\n",
    "    review = cleasing(review)\n",
    "    data_review_preprocessing01[count] = review\n",
    "    #print(type(review), review, '\\n')\n",
    "    count += 1"
   ]
  },
  {
   "cell_type": "code",
   "execution_count": 35,
   "metadata": {},
   "outputs": [
    {
     "name": "stdout",
     "output_type": "stream",
     "text": [
      "뽀득뽀득해요 성분 좋다는 샴푸 쓰다가 거품도 너무 안나고 세정력이 떨어져서 바꿔봤는데 뽀득뽀득 씻겨서 좋네요 저렴하기도 하고 좋아요 \n",
      "\n",
      "비누와 같은 세정력 세장력은 좋은 것 같은데 샴푸 후 머릿결이 조금 뻣뻣한 느낌이 있어요 \n",
      "트리트먼트를 필수로 해야할 것 같아요 \n",
      "\n",
      "머리결에 풍부한 영양가와 좋은 향이 가득합니다 머리카락이 많이 상했었는데 이 제품 사용한뒤로 하루하루 좋은 머릿결로 구리고 좋은 향으로 생활할 수 있게 되었습니다 \n",
      "\n",
      "머리카락 건조하신분들은 사용하시면 조금 건조할듯합니다 향이나 거품은 진짜 좋은데 나중에 시간 지나면 다른 샴푸에 비해서는 두피 냄새가 올라오더라구여 그리고 머리 많이 건조하신분들은 이거 사용하시면 조금 건조할듯합니당 \n",
      "\n",
      "냄새가 너무 좋아요 원래부터 좋아하던 제품이라서 구매했습니다 냄새 짱 \n",
      "\n",
      "향도 좋고 두피에도 나쁘지 않아요 향이 너무 좋아요 실리콘 안 들어가서 모발에도 더 좋을 듯 벌써 네통 째 \n",
      "\n",
      "향이 참 좋아요 세정력도 완젼 맘에 들고 거품도 풍성하고 무엇보다 향이 넘 좋아요무슨샴푸 쓰냐고 물어본데요 딸램 친구들이넘 만족이요 \n",
      "\n",
      "향기 좋은 샴푸 장미향을 기대하며 샀는데 \n",
      "머리감을때 은은하게 좋은 향이 나서 맘에 들어요 \n",
      "\n",
      "향이좋고 가성비도 좋네요 세정력은 평범한데  향이 좋고\n",
      "거품이 풍성해서 좋아요 \n",
      "\n",
      "향기가 좋은 샴푸 거품도 맘에 들고 전반적으로 좋아요 향기가 좋은 샴푸 거품도 맘에 들고 전반적으로 좋아요 \n",
      "\n",
      "별루 별루별루별루별루별루별루 \n",
      "\n",
      "향이 너무 좋아요 세일할때마다 구매하는데 향기도 너무 좋고 양도 많아서 만족해요 \n",
      "\n",
      "제값주고샀는데 반품제품관리좀 잘하세요 이거정품 맞나요 향이변한거같고 세정력도 예전만 못하네요 \n",
      "이거이전에 네통째 쓸때부터 느껴요\n",
      "그리고 반품물품인지 펌핑한번만에 나왔는데 순간 쓰던건지 착각했네요  이제품 이마트에서 구입하기시작해서 몇년째써왔고 이마트에서 안보이기시작해 올리브영에서 구입하기시작했는데 가끔씩 이런 찝찝한제품이 오니까 싼게비지떡이라 세일때 피해서 일부러 구입했는데 화가납니다\n",
      "제품점검따윈 안하는기업이었는지 \n",
      "세일기간에 구입하고 양이줄거나 반품제품 받았다고 불만후기보고 조심했던 제가 어리석었네요 \n",
      "\n",
      "감사합니다 샴푸가 다 떨어져서 샀읍니다 판매량이 많길래 사봤어요 \n",
      "\n",
      "향기가 너무 좋고 세척력도 좋아요 후기가 좋길래 보고 샀는데 우선 향기가 너무 좋아요\n",
      "케라시스마냥 엄청 오래가는 향은 아닌데\n",
      "머리감을때 향이 좋아서 기분이 좋네요\n",
      "세척력도 좋구요  만족합니다 다음에 세일할때 또 사려구요 \n",
      "\n",
      "만족스런 상품이에요 세일할때사면 좋은데 이번에는 세일할때 못삿네요\n",
      "글두만족합니다 \n",
      "\n",
      "향이 참 좋네요 샴푸할때마다 기분좋아요 향도 좋고 거품도 잘나고 실리콘 무첨가라니 안심되어 좋아요 \n",
      "\n",
      "향 좋고 가성비 갑 거품이 잘나서 조금만 짜서 써도 풍성하게 나와요 \n",
      "향 좋아요 근데 지속력은 오래가지 않고 그냥 무난하게 가성비 좋게 산거같아요 순한고 같아요 \n",
      "\n",
      "가볍게 샴푸할수 있는 제품입니다 머리감고 나면 다소  뻣뻣한 느낌이 들지만 여름엔 개운해요 쟁여두고 쓰고 있어요 샴푸하고 향이 오래남는 편은 아니에요 \n",
      "\n",
      "향이 좋아요 프로 정도 세일해서 엄청 저렴하게 구매했어요\n",
      "향이 너무 좋네요 \n",
      "\n",
      "향이 좋아요 핑크로즈\n",
      "허벌 에센스 샴푸 \n",
      "향이 좋아요\n",
      "잘 쓸게요 샴푸 \n",
      "\n",
      "향이 좋아요 향이 너무 좋아요 거품도 잘나고 생각보다 순한것같아요 두피에 자극이 별로 안느겨지네요  추천합니다 \n",
      "\n",
      "향이너무좋아요  사용하는제품 세일해서 구매했어요 향도좋고 너무 좋아요  \n",
      "\n",
      "늘 재구매합니다 향이 정말 좋아요 항상 재구매하는 샴푸에요\n",
      "향기가 좋고 지성두피에는 깨끗하게 세정되는 느낌이 좋아요\n",
      "다른 샴푸 쓰다가도 다시 돌아오게 됩니다 \n",
      "\n",
      "향 진짜 좋아요 가성비 좋음 향은 정말 좋은 것 같아요 제가 머릿결이 상한편이라 그런지 샴푸후엔 꼭 컨디셔너가 필요해요 나중에 컨디셔너도 세일하면 구매해야겠어요 \n",
      "\n",
      "향이 최고입니당 진짜 향 최고예요 제일 좋아하는 샴푸입니다 번창하세요 \n",
      "\n",
      "사용하기 좋아요 처음 구매할 때는 사용할까 말까 고민이 됐지만 사용해보니 쓰기 괜찮네요 \n",
      "\n",
      "향   머릿결  향도 좋고 머릿결에도 좋은것같아요\n",
      "쓴지 얼마 안됐는데 점점 좋아지는게 느껴집니다 \n",
      "\n",
      "향은 정말 좋아요 건성은 자제  이 상품 향이 좋은데 지속력이 없어요 \n",
      "전 건성모발이라 그런지 이걸로 감으면 트리트먼트 필요할 정도로 더 건조해집니다   \n",
      "\n",
      "세정력도좋고향기도좋고무실리콘이라안심하고쓸수있어서더좋아요 원래카모마일쓰는데장미향이세일해서\n",
      "이번엔이걸샀어요\n",
      "번갈아가면서세일하드라구요\n",
      "장미향도나쁘지않아서자주써요\n",
      "담에또시킬께요 \n",
      "\n"
     ]
    }
   ],
   "source": [
    "# 저장 잘 됐는지 확인 \n",
    "\n",
    "count = 0\n",
    "for review in data_review_preprocessing01:\n",
    "    if count < 30:\n",
    "        print(review , '\\n')\n",
    "        count +=1"
   ]
  },
  {
   "cell_type": "code",
   "execution_count": 36,
   "metadata": {},
   "outputs": [
    {
     "data": {
      "text/plain": [
       "0    뽀득뽀득해요 성분 좋다는 샴푸 쓰다가 거품도 너무 안나고 세정력이 떨어져서 바꿔봤는...\n",
       "1    비누와 같은 세정력 세장력은 좋은 것 같은데 샴푸 후 머릿결이 조금 뻣뻣한 느낌이 ...\n",
       "2    머리결에 풍부한 영양가와 좋은 향이 가득합니다 머리카락이 많이 상했었는데 이 제품 ...\n",
       "3    머리카락 건조하신분들은 사용하시면 조금 건조할듯합니다 향이나 거품은 진짜 좋은데 나...\n",
       "4               냄새가 너무 좋아요 원래부터 좋아하던 제품이라서 구매했습니다 냄새 짱\n",
       "Name: review, dtype: object"
      ]
     },
     "execution_count": 36,
     "metadata": {},
     "output_type": "execute_result"
    }
   ],
   "source": [
    "data_review_preprocessing01.head()"
   ]
  },
  {
   "cell_type": "code",
   "execution_count": null,
   "metadata": {},
   "outputs": [],
   "source": []
  },
  {
   "cell_type": "markdown",
   "metadata": {},
   "source": [
    "### review만 따로 csv로 저장"
   ]
  },
  {
   "cell_type": "code",
   "execution_count": 37,
   "metadata": {},
   "outputs": [
    {
     "name": "stderr",
     "output_type": "stream",
     "text": [
      "/home/daehynk/anaconda3/lib/python3.7/site-packages/ipykernel_launcher.py:1: FutureWarning: The signature of `Series.to_csv` was aligned to that of `DataFrame.to_csv`, and argument 'header' will change its default value from False to True: please pass an explicit value to suppress this warning.\n",
      "  \"\"\"Entry point for launching an IPython kernel.\n"
     ]
    }
   ],
   "source": [
    "data_review_preprocessing01.to_csv(\"oliveyoung_review_peprocessing.csv\", mode='w')"
   ]
  },
  {
   "cell_type": "code",
   "execution_count": null,
   "metadata": {},
   "outputs": [],
   "source": []
  },
  {
   "cell_type": "markdown",
   "metadata": {},
   "source": [
    "### 정제 함수  테스트"
   ]
  },
  {
   "cell_type": "code",
   "execution_count": null,
   "metadata": {},
   "outputs": [],
   "source": [
    "count = 0\n",
    "for review in data_review:\n",
    "    if count < 1000: \n",
    "        review = cleasing(review)\n",
    "        print(type(review), review, '\\n')\n",
    "        count += 1"
   ]
  },
  {
   "cell_type": "code",
   "execution_count": null,
   "metadata": {},
   "outputs": [],
   "source": [
    "count = 0\n",
    "for review in data_review:\n",
    "    if count < 10: \n",
    "        pattern = '([ㄱ-ㅎㅏ-ㅣ]+)'\n",
    "        repl=''\n",
    "        review = re.sub(pattern= pattern, repl=repl, string=review)\n",
    "        print(type(review), review, '\\n')\n",
    "        count += 1\n",
    "        "
   ]
  },
  {
   "cell_type": "code",
   "execution_count": null,
   "metadata": {},
   "outputs": [],
   "source": [
    "count = 0\n",
    "for review in data_review:\n",
    "    if count < 10: \n",
    "        #re.sub('[-=+,#/\\?:^$.@*\\\"※~&%ㆍ!』\\\\‘|\\(\\)\\[\\]\\<\\>`\\'…》]', '', review)\n",
    "        print(review, '\\n')\n",
    "        count += 1"
   ]
  },
  {
   "cell_type": "code",
   "execution_count": null,
   "metadata": {},
   "outputs": [],
   "source": [
    "number = '716,908'\n",
    "number = int(re.sub(',','',number))\n",
    "print(number)"
   ]
  },
  {
   "cell_type": "code",
   "execution_count": null,
   "metadata": {},
   "outputs": [],
   "source": []
  }
 ],
 "metadata": {
  "kernelspec": {
   "display_name": "Python 3",
   "language": "python",
   "name": "python3"
  },
  "language_info": {
   "codemirror_mode": {
    "name": "ipython",
    "version": 3
   },
   "file_extension": ".py",
   "mimetype": "text/x-python",
   "name": "python",
   "nbconvert_exporter": "python",
   "pygments_lexer": "ipython3",
   "version": "3.7.3"
  }
 },
 "nbformat": 4,
 "nbformat_minor": 2
}
